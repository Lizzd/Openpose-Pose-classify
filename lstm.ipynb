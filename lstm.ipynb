{
  "cells": [
    {
      "cell_type": "code",
      "execution_count": 1,
      "metadata": {
        "id": "SXB_kTipois_"
      },
      "outputs": [],
      "source": [
        "import numpy as np\n",
        "import matplotlib.pyplot as plt\n",
        "import pandas as pd"
      ]
    },
    {
      "cell_type": "code",
      "execution_count": 2,
      "metadata": {
        "colab": {
          "base_uri": "https://localhost:8080/"
        },
        "id": "uFc0ZPjFpUfF",
        "outputId": "1e2f846b-500d-4099-961b-0dbdb92a63eb"
      },
      "outputs": [
        {
          "output_type": "stream",
          "name": "stdout",
          "text": [
            "Mounted at /content/drive\n"
          ]
        }
      ],
      "source": [
        "from google.colab import drive\n",
        "drive.mount('/content/drive')"
      ]
    },
    {
      "cell_type": "markdown",
      "metadata": {
        "id": "l7OYVfuioitA"
      },
      "source": [
        "### Data Loading "
      ]
    },
    {
      "cell_type": "code",
      "execution_count": 3,
      "metadata": {
        "id": "Wp9pz8HFoitB"
      },
      "outputs": [],
      "source": [
        "# Useful Constants\n",
        "# Output classes to learn how to classify\n",
        "LABELS = [    \n",
        "    \"JUMPING\",\n",
        "    \"JUMPING_JACKS\",\n",
        "    \"BOXING\",\n",
        "    \"WAVING_2HANDS\",\n",
        "    \"WAVING_1HAND\",\n",
        "    \"CLAPPING_HANDS\"\n",
        "\n",
        "] \n",
        "DATASET_PATH = \"drive/MyDrive/CACM/database/\"\n",
        "\n",
        "X_train_path = DATASET_PATH + \"X_train.txt\"\n",
        "X_test_path = DATASET_PATH + \"X_test.txt\"\n",
        "\n",
        "y_train_path = DATASET_PATH + \"Y_train.txt\"\n",
        "y_test_path = DATASET_PATH + \"Y_test.txt\"\n",
        "\n",
        "n_steps = 32 # 32 timesteps per series\n",
        "n_categories = len(LABELS)"
      ]
    },
    {
      "cell_type": "code",
      "execution_count": 4,
      "metadata": {
        "id": "NkOWhAREoitC"
      },
      "outputs": [],
      "source": [
        "# Load the networks inputs\n",
        "\n",
        "def load_X(X_path):\n",
        "    file = open(X_path, 'r')\n",
        "    X_ = np.array(\n",
        "        [elem for elem in [\n",
        "            row.split(',') for row in file\n",
        "        ]], \n",
        "        dtype=np.float32\n",
        "    )\n",
        "    file.close()\n",
        "    blocks = int(len(X_) / n_steps)\n",
        "    \n",
        "    X_ = np.array(np.split(X_,blocks))\n",
        "\n",
        "    return X_ \n",
        "\n",
        "# Load the networks outputs\n",
        "def load_y(y_path):\n",
        "    file = open(y_path, 'r')\n",
        "    y_ = np.array(\n",
        "        [elem for elem in [\n",
        "            row.replace('  ', ' ').strip().split(' ') for row in file\n",
        "        ]], \n",
        "        dtype=np.int32\n",
        "    )\n",
        "    file.close()\n",
        "    \n",
        "    # for 0-based indexing \n",
        "    return y_ - 1\n",
        "\n",
        "X_train = load_X(X_train_path)\n",
        "X_test = load_X(X_test_path)\n",
        "\n",
        "y_train = load_y(y_train_path)\n",
        "y_test = load_y(y_test_path)"
      ]
    },
    {
      "cell_type": "code",
      "source": [
        "X_test.shape"
      ],
      "metadata": {
        "colab": {
          "base_uri": "https://localhost:8080/"
        },
        "id": "avCawPtd55Or",
        "outputId": "8087dfc1-67ec-4900-c551-50f0bd61fb56"
      },
      "execution_count": 8,
      "outputs": [
        {
          "output_type": "execute_result",
          "data": {
            "text/plain": [
              "(5751, 32, 36)"
            ]
          },
          "metadata": {},
          "execution_count": 8
        }
      ]
    },
    {
      "cell_type": "code",
      "source": [
        "X_train.shape"
      ],
      "metadata": {
        "colab": {
          "base_uri": "https://localhost:8080/"
        },
        "id": "aY1mr5751iec",
        "outputId": "c636c10b-ef8b-413b-9097-7002f9445a83"
      },
      "execution_count": 38,
      "outputs": [
        {
          "output_type": "execute_result",
          "data": {
            "text/plain": [
              "(22625, 32, 36)"
            ]
          },
          "metadata": {},
          "execution_count": 38
        }
      ]
    },
    {
      "cell_type": "code",
      "source": [
        "# X = X_train[:,0,:]\n",
        "# data = pd.DataFrame(X)\n",
        "# data_nan = data.replace(0,np.nan)\n",
        "# X_trian = data_nan.dropna()"
      ],
      "metadata": {
        "id": "9xkdiGuXSSmT"
      },
      "execution_count": 11,
      "outputs": []
    },
    {
      "cell_type": "markdown",
      "source": [
        "### Extract the most missed value"
      ],
      "metadata": {
        "id": "H0tOhfoS6-_I"
      }
    },
    {
      "cell_type": "code",
      "source": [
        "sample_count , frames, dimension = X_train.shape"
      ],
      "metadata": {
        "id": "4J1OGkH88uCi"
      },
      "execution_count": 39,
      "outputs": []
    },
    {
      "cell_type": "code",
      "source": [
        "X_train_numpy = np.array(X_train)\n",
        "missedData = np.zeros(dimension)\n",
        "for j in range(dimension):\n",
        "  missedValue_count = 0\n",
        "  for i in range(sample_count):\n",
        "    cnt_array = np.where(X_train_numpy[i,:,j],0,1)\n",
        "    missedValue_count = np.sum(cnt_array) + missedValue_count\n",
        "  missedData[j] = missedValue_count\n"
      ],
      "metadata": {
        "id": "5cYCLxtebhy1"
      },
      "execution_count": 40,
      "outputs": []
    },
    {
      "cell_type": "code",
      "source": [
        "missed_value_index = np.argsort(missedData)\n",
        "missed_value_index"
      ],
      "metadata": {
        "colab": {
          "base_uri": "https://localhost:8080/"
        },
        "id": "aSTCJoI_2ETr",
        "outputId": "81875236-e9de-42c3-dbba-7feba6014fe5"
      },
      "execution_count": 41,
      "outputs": [
        {
          "output_type": "execute_result",
          "data": {
            "text/plain": [
              "array([ 2,  3, 23, 22, 17, 16,  4,  5, 10, 11, 19, 18, 25, 24, 27, 26, 20,\n",
              "       21,  7,  6, 12, 13,  9,  8, 15, 14, 32, 33, 35, 34,  1,  0, 29, 28,\n",
              "       30, 31])"
            ]
          },
          "metadata": {},
          "execution_count": 41
        }
      ]
    },
    {
      "cell_type": "code",
      "source": [
        "numBins = np.arange(0,36,1)\n",
        "plt.title('missed value count')\n",
        "plt.bar(numBins, missedData, width=0.8)\n",
        "plt.xlabel('data_index')\n",
        "plt.ylabel('count')\n"
      ],
      "metadata": {
        "colab": {
          "base_uri": "https://localhost:8080/",
          "height": 314
        },
        "id": "VQbFVf0C5Kl-",
        "outputId": "81ab732a-fbca-4691-d807-7a3034282967"
      },
      "execution_count": 42,
      "outputs": [
        {
          "output_type": "execute_result",
          "data": {
            "text/plain": [
              "Text(0, 0.5, 'count')"
            ]
          },
          "metadata": {},
          "execution_count": 42
        },
        {
          "output_type": "display_data",
          "data": {
            "text/plain": [
              "<Figure size 432x288 with 1 Axes>"
            ],
            "image/png": "[encoded data removed]"
          },
          "metadata": {
            "needs_background": "light"
          }
        }
      ]
    },
    {
      "cell_type": "code",
      "source": [
        "value_count = sample_count *  frames - missedData\n",
        "value_count"
      ],
      "metadata": {
        "colab": {
          "base_uri": "https://localhost:8080/"
        },
        "id": "ypRKMhj3Wmq6",
        "outputId": "6a95a456-eec9-4bbc-ec11-fd7c4e23efa8"
      },
      "execution_count": 20,
      "outputs": [
        {
          "output_type": "execute_result",
          "data": {
            "text/plain": [
              "array([387602., 387602., 723922., 723922., 723893., 723893., 708668.,\n",
              "       708668., 664009., 664009., 723889., 723889., 704853., 704853.,\n",
              "       657926., 657926., 723903., 723903., 723813., 723813., 723654.,\n",
              "       723654., 723908., 723908., 723791., 723791., 723658., 723658.,\n",
              "       378102., 378102., 367038., 367038., 575713., 575713., 550487.,\n",
              "       550487.])"
            ]
          },
          "metadata": {},
          "execution_count": 20
        }
      ]
    },
    {
      "cell_type": "markdown",
      "metadata": {
        "id": "IFbYdHxaoitC"
      },
      "source": [
        "### Pre-Process "
      ]
    },
    {
      "cell_type": "code",
      "execution_count": 43,
      "metadata": {
        "id": "KKavV-rUoitD",
        "scrolled": true,
        "colab": {
          "base_uri": "https://localhost:8080/"
        },
        "outputId": "68b193a1-5d8a-4c75-ebda-f85b7855a1c3"
      },
      "outputs": [
        {
          "output_type": "stream",
          "name": "stdout",
          "text": [
            "test_data_size: torch.Size([5751, 32, 36])\n",
            "test_label_size: torch.Size([5751, 1])\n",
            "n_data_size_test: 5751\n",
            "train_data_size: torch.Size([22625, 32, 36])\n",
            "train_label_size: torch.Size([22625, 1])\n",
            "n_data_size_train: 22625\n"
          ]
        }
      ],
      "source": [
        "import torch\n",
        "tensor_X_test = torch.from_numpy(X_test)\n",
        "print('test_data_size:',tensor_X_test.size())\n",
        "tensor_y_test = torch.from_numpy(y_test)\n",
        "print('test_label_size:',tensor_y_test.size())\n",
        "n_data_size_test = tensor_X_test.size()[0]\n",
        "print('n_data_size_test:',n_data_size_test)\n",
        "\n",
        "tensor_X_train = torch.from_numpy(X_train)\n",
        "print('train_data_size:',tensor_X_train.size())\n",
        "tensor_y_train = torch.from_numpy(y_train)\n",
        "print('train_label_size:',tensor_y_train.size())\n",
        "n_data_size_train = tensor_X_train.size()[0]\n",
        "print('n_data_size_train:',n_data_size_train)"
      ]
    },
    {
      "cell_type": "code",
      "execution_count": 44,
      "metadata": {
        "id": "jgp5FADCoitE"
      },
      "outputs": [],
      "source": [
        "import torch.nn as nn\n",
        "device = torch.device('cuda') if torch.cuda.is_available() else torch.device('cpu')"
      ]
    },
    {
      "cell_type": "code",
      "execution_count": 45,
      "metadata": {
        "id": "x5tjFE2DoitF"
      },
      "outputs": [],
      "source": [
        "class LSTM(nn.Module):\n",
        "    \n",
        "    def __init__(self,input_dim,hidden_dim,output_dim,layer_num):\n",
        "        super(LSTM,self).__init__()\n",
        "        self.hidden_dim = hidden_dim\n",
        "        self.output_dim = output_dim\n",
        "        self.lstm = torch.nn.LSTM(input_dim,hidden_dim,layer_num,batch_first=True)\n",
        "        self.fc = torch.nn.Linear(hidden_dim,output_dim)\n",
        "        self.bn = nn.BatchNorm1d(32)\n",
        "        \n",
        "    def forward(self,inputs):\n",
        "        x = self.bn(inputs)\n",
        "        lstm_out,(hn,cn) = self.lstm(x)\n",
        "        out = self.fc(lstm_out[:,-1,:])\n",
        "        return out"
      ]
    },
    {
      "cell_type": "code",
      "execution_count": 46,
      "metadata": {
        "colab": {
          "base_uri": "https://localhost:8080/"
        },
        "id": "1AU0XDCgoitG",
        "outputId": "a3279b1d-bdc0-4e3c-e57d-5e797b850856"
      },
      "outputs": [
        {
          "output_type": "execute_result",
          "data": {
            "text/plain": [
              "LSTM(\n",
              "  (lstm): LSTM(36, 128, num_layers=3, batch_first=True)\n",
              "  (fc): Linear(in_features=128, out_features=6, bias=True)\n",
              "  (bn): BatchNorm1d(32, eps=1e-05, momentum=0.1, affine=True, track_running_stats=True)\n",
              ")"
            ]
          },
          "metadata": {},
          "execution_count": 46
        }
      ],
      "source": [
        "n_hidden = 128\n",
        "n_joints = 18*2\n",
        "n_categories = 6\n",
        "n_layer = 3\n",
        "rnn = LSTM(n_joints,n_hidden,n_categories,n_layer)\n",
        "rnn.to(device)"
      ]
    },
    {
      "cell_type": "code",
      "execution_count": 47,
      "metadata": {
        "id": "Q9dUsqkSoitG"
      },
      "outputs": [],
      "source": [
        "def categoryFromOutput(output):\n",
        "    top_n, top_i = output.topk(1)\n",
        "    category_i = top_i[0].item()\n",
        "    return LABELS[category_i], category_i"
      ]
    },
    {
      "cell_type": "markdown",
      "metadata": {
        "id": "uUzd9aOgoitG"
      },
      "source": [
        "### Getting Random Data "
      ]
    },
    {
      "cell_type": "code",
      "execution_count": 48,
      "metadata": {
        "id": "zJ5TkAt7oitH"
      },
      "outputs": [],
      "source": [
        "import random\n",
        "def randomTrainingExampleBatch(batch_size,flag,num=-1):\n",
        "    if flag == 'train':\n",
        "        X = tensor_X_train\n",
        "        y = tensor_y_train\n",
        "        data_size = n_data_size_train\n",
        "    elif flag == 'test':\n",
        "        X = tensor_X_test\n",
        "        y = tensor_y_test\n",
        "        data_size = n_data_size_test\n",
        "    if num == -1:\n",
        "        ran_num = random.randint(0,data_size-batch_size)\n",
        "    else:\n",
        "        ran_num = num\n",
        "    pose_sequence_tensor = X[ran_num:(ran_num+batch_size)]\n",
        "    pose_sequence_tensor = pose_sequence_tensor\n",
        "    category_tensor = y[ran_num:ran_num+batch_size,:]\n",
        "    return category_tensor.long(),pose_sequence_tensor"
      ]
    },
    {
      "cell_type": "markdown",
      "metadata": {
        "id": "_TDo_4lhoitH"
      },
      "source": [
        "### Training"
      ]
    },
    {
      "cell_type": "code",
      "execution_count": 51,
      "metadata": {
        "id": "zkqlCNb2oitH"
      },
      "outputs": [],
      "source": [
        "try:\n",
        "   rnn.load_state_dict(torch.load('drive/MyDrive/CACM/models/lstm_6_bn.pth'))\n",
        "except:\n",
        "   print('no pkl')"
      ]
    },
    {
      "cell_type": "code",
      "execution_count": 54,
      "metadata": {
        "colab": {
          "base_uri": "https://localhost:8080/"
        },
        "id": "3jsSKxgooitI",
        "outputId": "8a6585ca-314b-4321-cf4d-63a68f641de7"
      },
      "outputs": [
        {
          "output_type": "stream",
          "name": "stdout",
          "text": [
            "1000 1% (0m 6s) 0.0029  / WAVING_2HANDS ✓\n",
            "2000 2% (0m 12s) 0.0003  / WAVING_1HAND ✓\n",
            "3000 3% (0m 18s) 0.0011  / WAVING_1HAND ✓\n",
            "4000 4% (0m 24s) 0.0008  / BOXING ✓\n",
            "5000 5% (0m 30s) 0.0036  / CLAPPING_HANDS ✓\n",
            "6000 6% (0m 36s) 0.0407  / BOXING ✓\n",
            "7000 7% (0m 43s) 0.0147  / CLAPPING_HANDS ✓\n",
            "8000 8% (0m 49s) 0.0012  / JUMPING_JACKS ✓\n",
            "9000 9% (0m 55s) 0.0007  / WAVING_2HANDS ✓\n",
            "10000 10% (1m 1s) 0.0007  / BOXING ✓\n",
            "11000 11% (1m 7s) 0.0091  / JUMPING ✓\n",
            "12000 12% (1m 13s) 0.0002  / WAVING_1HAND ✓\n",
            "13000 13% (1m 19s) 0.0035  / CLAPPING_HANDS ✓\n",
            "14000 14% (1m 26s) 0.0004  / WAVING_1HAND ✓\n",
            "15000 15% (1m 32s) 0.0012  / JUMPING ✓\n",
            "16000 16% (1m 38s) 0.0007  / WAVING_1HAND ✓\n",
            "17000 17% (1m 44s) 0.0081  / BOXING ✓\n",
            "18000 18% (1m 50s) 0.0006  / JUMPING ✓\n",
            "19000 19% (1m 56s) 0.0002  / WAVING_1HAND ✓\n",
            "20000 20% (2m 3s) 0.0024  / JUMPING ✓\n",
            "21000 21% (2m 9s) 0.0304  / BOXING ✓\n",
            "22000 22% (2m 15s) 0.0008  / JUMPING_JACKS ✓\n",
            "23000 23% (2m 21s) 0.0006  / WAVING_1HAND ✓\n",
            "24000 24% (2m 27s) 0.0068  / JUMPING_JACKS ✓\n",
            "25000 25% (2m 33s) 0.0015  / JUMPING ✓\n",
            "26000 26% (2m 39s) 0.0004  / BOXING ✓\n",
            "27000 27% (2m 45s) 0.0003  / WAVING_1HAND ✓\n",
            "28000 28% (2m 52s) 0.0021  / WAVING_2HANDS ✓\n",
            "29000 28% (2m 58s) 0.0051  / CLAPPING_HANDS ✓\n",
            "30000 30% (3m 4s) 0.0002  / WAVING_1HAND ✓\n",
            "31000 31% (3m 10s) 0.0002  / WAVING_1HAND ✓\n",
            "32000 32% (3m 16s) 0.0003  / WAVING_1HAND ✓\n",
            "33000 33% (3m 22s) 0.0022  / JUMPING_JACKS ✓\n",
            "34000 34% (3m 28s) 0.0001  / WAVING_1HAND ✓\n",
            "35000 35% (3m 35s) 0.0081  / CLAPPING_HANDS ✓\n",
            "36000 36% (3m 41s) 0.0003  / WAVING_2HANDS ✓\n",
            "37000 37% (3m 47s) 0.0004  / BOXING ✓\n",
            "38000 38% (3m 53s) 0.0002  / WAVING_1HAND ✓\n",
            "39000 39% (3m 59s) 0.0004  / WAVING_2HANDS ✓\n",
            "40000 40% (4m 5s) 0.0041  / CLAPPING_HANDS ✓\n",
            "41000 41% (4m 11s) 0.0017  / WAVING_1HAND ✓\n",
            "42000 42% (4m 18s) 0.0089  / CLAPPING_HANDS ✓\n",
            "43000 43% (4m 24s) 0.0011  / CLAPPING_HANDS ✓\n",
            "44000 44% (4m 30s) 0.0004  / JUMPING_JACKS ✓\n",
            "45000 45% (4m 36s) 0.0003  / WAVING_2HANDS ✓\n",
            "46000 46% (4m 42s) 0.0003  / JUMPING ✓\n",
            "47000 47% (4m 48s) 0.0003  / WAVING_2HANDS ✓\n",
            "48000 48% (4m 54s) 0.0002  / BOXING ✓\n",
            "49000 49% (5m 1s) 0.0002  / WAVING_2HANDS ✓\n",
            "50000 50% (5m 7s) 0.0002  / WAVING_2HANDS ✓\n",
            "51000 51% (5m 13s) 0.0001  / WAVING_2HANDS ✓\n",
            "52000 52% (5m 19s) 0.0003  / BOXING ✓\n",
            "53000 53% (5m 25s) 0.0004  / WAVING_2HANDS ✓\n",
            "54000 54% (5m 31s) 0.0005  / JUMPING_JACKS ✓\n",
            "55000 55% (5m 37s) 0.0012  / WAVING_2HANDS ✓\n",
            "56000 56% (5m 43s) 0.0011  / BOXING ✓\n",
            "57000 56% (5m 50s) 0.0002  / WAVING_1HAND ✓\n",
            "58000 57% (5m 56s) 0.0003  / JUMPING ✓\n",
            "59000 59% (6m 2s) 0.0004  / JUMPING_JACKS ✓\n",
            "60000 60% (6m 8s) 0.0001  / WAVING_1HAND ✓\n",
            "61000 61% (6m 14s) 0.0004  / JUMPING ✓\n",
            "62000 62% (6m 20s) 0.0004  / JUMPING_JACKS ✓\n",
            "63000 63% (6m 26s) 0.0007  / BOXING ✓\n",
            "64000 64% (6m 33s) 0.0003  / BOXING ✓\n",
            "65000 65% (6m 39s) 0.0001  / WAVING_1HAND ✓\n",
            "66000 66% (6m 45s) 0.0005  / JUMPING_JACKS ✓\n",
            "67000 67% (6m 51s) 0.0017  / JUMPING_JACKS ✓\n",
            "68000 68% (6m 57s) 0.0203  / WAVING_1HAND ✓\n",
            "69000 69% (7m 3s) 0.0004  / BOXING ✓\n",
            "70000 70% (7m 9s) 0.0003  / JUMPING_JACKS ✓\n",
            "71000 71% (7m 16s) 0.0002  / WAVING_2HANDS ✓\n",
            "72000 72% (7m 22s) 0.0005  / BOXING ✓\n",
            "73000 73% (7m 28s) 0.0052  / CLAPPING_HANDS ✓\n",
            "74000 74% (7m 34s) 0.0554  / JUMPING_JACKS ✓\n",
            "75000 75% (7m 40s) 0.0005  / JUMPING ✓\n",
            "76000 76% (7m 46s) 0.0001  / WAVING_1HAND ✓\n",
            "77000 77% (7m 52s) 0.0008  / WAVING_1HAND ✓\n",
            "78000 78% (7m 59s) 0.0007  / WAVING_2HANDS ✓\n",
            "79000 79% (8m 5s) 0.0002  / WAVING_2HANDS ✓\n",
            "80000 80% (8m 11s) 0.0003  / BOXING ✓\n",
            "81000 81% (8m 17s) 0.0019  / JUMPING_JACKS ✓\n",
            "82000 82% (8m 23s) 0.0004  / WAVING_2HANDS ✓\n",
            "83000 83% (8m 29s) 0.0019  / JUMPING_JACKS ✓\n",
            "84000 84% (8m 35s) 0.0001  / WAVING_1HAND ✓\n",
            "85000 85% (8m 42s) 0.0009  / JUMPING_JACKS ✓\n",
            "86000 86% (8m 48s) 0.0043  / BOXING ✓\n",
            "87000 87% (8m 54s) 0.0030  / JUMPING ✓\n",
            "88000 88% (9m 0s) 0.0014  / WAVING_1HAND ✓\n",
            "89000 89% (9m 6s) 0.0052  / JUMPING ✓\n",
            "90000 90% (9m 12s) 0.0001  / WAVING_1HAND ✓\n",
            "91000 91% (9m 18s) 0.0009  / CLAPPING_HANDS ✓\n",
            "92000 92% (9m 25s) 0.0001  / WAVING_1HAND ✓\n",
            "93000 93% (9m 31s) 0.0003  / BOXING ✓\n",
            "94000 94% (9m 37s) 0.0010  / JUMPING ✓\n",
            "95000 95% (9m 43s) 0.0017  / JUMPING_JACKS ✓\n",
            "96000 96% (9m 49s) 0.0018  / WAVING_2HANDS ✓\n",
            "97000 97% (9m 55s) 0.0010  / WAVING_2HANDS ✓\n",
            "98000 98% (10m 1s) 0.0009  / CLAPPING_HANDS ✓\n",
            "99000 99% (10m 8s) 0.0009  / CLAPPING_HANDS ✓\n",
            "100000 100% (10m 14s) 0.0003  / BOXING ✓\n"
          ]
        }
      ],
      "source": [
        "import torch.optim as optim\n",
        "import time\n",
        "import math\n",
        "\n",
        "criterion = nn.CrossEntropyLoss()\n",
        "learning_rate = 0.0005\n",
        "optimizer = optim.SGD(rnn.parameters(),lr=learning_rate,momentum=0.9)\n",
        "#scheduler = optim.lr_scheduler.StepLR(optimizer, step_size=10000, gamma=0.1)\n",
        "\n",
        "n_iters = 100000\n",
        "#n_iters = 60000\n",
        "print_every = 1000\n",
        "plot_every = 1000\n",
        "batch_size = 128\n",
        "\n",
        "# Keep track of losses for plotting\n",
        "current_loss = 0\n",
        "all_losses = []\n",
        "\n",
        "def timeSince(since):\n",
        "    now = time.time()\n",
        "    s = now - since\n",
        "    m = math.floor(s / 60)\n",
        "    s -= m * 60\n",
        "    return '%dm %ds' % (m, s)\n",
        "\n",
        "start = time.time()\n",
        "\n",
        "for iter in range(1, n_iters + 1):\n",
        "   \n",
        "    category_tensor, input_sequence = randomTrainingExampleBatch(batch_size,'train')\n",
        "    input_sequence = input_sequence.to(device)\n",
        "    category_tensor = category_tensor.to(device)\n",
        "    category_tensor = torch.squeeze(category_tensor)\n",
        "    \n",
        "    optimizer.zero_grad()\n",
        "    \n",
        "    output = rnn(input_sequence)\n",
        "    loss = criterion(output, category_tensor)\n",
        "    loss.backward()\n",
        "    optimizer.step() \n",
        "    #scheduler.step()\n",
        "    \n",
        "    #如果tensor只有一个元素,那么可以用.item()的方法取出这个元素作为普通的python数字.\n",
        "    current_loss += loss.item()\n",
        "    \n",
        "    category = LABELS[int(category_tensor[0])]\n",
        "\n",
        "    # Print iter number, loss, name and guess\n",
        "    if iter % print_every == 0:\n",
        "        guess, guess_i = categoryFromOutput(output)\n",
        "        correct = '✓' if guess == category else '✗ (%s)' % category\n",
        "        print('%d %d%% (%s) %.4f  / %s %s' % (iter, iter / n_iters * 100, timeSince(start), loss, guess, correct))\n",
        "        \n",
        "    # Add current loss avg to list of losses\n",
        "    if iter % plot_every == 0:\n",
        "        all_losses.append(current_loss / plot_every)\n",
        "        current_loss = 0"
      ]
    },
    {
      "cell_type": "code",
      "execution_count": 55,
      "metadata": {
        "id": "0-ZS1dHUoitI"
      },
      "outputs": [],
      "source": [
        "# torch.save(rnn.state_dict(),'drive/MyDrive/CACM/models/lstm_6_bn.pth')"
      ]
    },
    {
      "cell_type": "code",
      "execution_count": 56,
      "metadata": {
        "id": "sgccuBfpoitI",
        "outputId": "6eaa98e6-c49e-4405-e168-6935ef386586",
        "colab": {
          "base_uri": "https://localhost:8080/",
          "height": 283
        }
      },
      "outputs": [
        {
          "output_type": "execute_result",
          "data": {
            "text/plain": [
              "[<matplotlib.lines.Line2D at 0x7f1bf60db950>]"
            ]
          },
          "metadata": {},
          "execution_count": 56
        },
        {
          "output_type": "display_data",
          "data": {
            "text/plain": [
              "<Figure size 432x288 with 1 Axes>"
            ],
            "image/png": "[encoded data removed]"
          },
          "metadata": {
            "needs_background": "light"
          }
        }
      ],
      "source": [
        "import matplotlib.pyplot as plt\n",
        "import matplotlib.ticker as ticker\n",
        "\n",
        "plt.figure()\n",
        "plt.plot(all_losses)"
      ]
    },
    {
      "cell_type": "markdown",
      "metadata": {
        "id": "uUQkRMdzoitJ"
      },
      "source": [
        "### Testing"
      ]
    },
    {
      "cell_type": "code",
      "execution_count": 57,
      "metadata": {
        "id": "KQWfyvS8oitJ"
      },
      "outputs": [],
      "source": [
        "def test(flag):\n",
        "    if flag == 'train':\n",
        "        n = n_data_size_train\n",
        "    elif flag == 'test':\n",
        "        n = n_data_size_test   \n",
        "        \n",
        "    with torch.no_grad():\n",
        "        right = 0\n",
        "        for i in range(n):\n",
        "            category_tensor, inputs = randomTrainingExampleBatch(1,flag,i)\n",
        "            category = LABELS[int(category_tensor[0])]\n",
        "            inputs = inputs.to(device)\n",
        "            output = rnn(inputs)\n",
        "            guess, guess_i = categoryFromOutput(output)\n",
        "            category_i = LABELS.index(category)\n",
        "            if category_i == guess_i:\n",
        "                right+=1\n",
        "    print(flag,'accuracy',right/n)\n",
        "    return right/n"
      ]
    },
    {
      "cell_type": "code",
      "execution_count": 58,
      "metadata": {
        "id": "v0Fk2VwXoitJ",
        "outputId": "677b92a7-6a4f-4db8-9cc3-6152d3ea86ee",
        "colab": {
          "base_uri": "https://localhost:8080/"
        }
      },
      "outputs": [
        {
          "output_type": "stream",
          "name": "stdout",
          "text": [
            "test accuracy 0.9768735872022257\n"
          ]
        },
        {
          "output_type": "execute_result",
          "data": {
            "text/plain": [
              "0.9768735872022257"
            ]
          },
          "metadata": {},
          "execution_count": 58
        }
      ],
      "source": [
        "test('test')"
      ]
    },
    {
      "cell_type": "code",
      "execution_count": 59,
      "metadata": {
        "id": "Y80sInvkoitJ",
        "outputId": "5d5f515d-e6b9-46ba-9fb7-803a9ef9383c",
        "colab": {
          "base_uri": "https://localhost:8080/"
        }
      },
      "outputs": [
        {
          "output_type": "stream",
          "name": "stdout",
          "text": [
            "train accuracy 0.9878011049723757\n"
          ]
        },
        {
          "output_type": "execute_result",
          "data": {
            "text/plain": [
              "0.9878011049723757"
            ]
          },
          "metadata": {},
          "execution_count": 59
        }
      ],
      "source": [
        "test('train')"
      ]
    },
    {
      "cell_type": "code",
      "execution_count": 60,
      "metadata": {
        "id": "ZNh9B3l2oitK",
        "outputId": "9cf79b69-2cc6-4c45-e242-64dd338df073",
        "scrolled": true,
        "colab": {
          "base_uri": "https://localhost:8080/",
          "height": 352
        }
      },
      "outputs": [
        {
          "output_type": "display_data",
          "data": {
            "text/plain": [
              "<Figure size 432x288 with 2 Axes>"
            ],
            "image/png": "[encoded data removed]"
          },
          "metadata": {
            "needs_background": "light"
          }
        }
      ],
      "source": [
        "# Keep track of correct guesses in a confusion matrix\n",
        "confusion = torch.zeros(n_categories, n_categories)\n",
        "n_confusion = n_data_size_test\n",
        "\n",
        "# Go through a bunch of examples and record which are correctly guessed\n",
        "for i in range(n_confusion):\n",
        "    category_tensor, inputs = randomTrainingExampleBatch(1,'test',i)\n",
        "    category = LABELS[int(category_tensor[0])]\n",
        "    inputs = inputs.to(device)\n",
        "    output = rnn(inputs)\n",
        "    guess, guess_i = categoryFromOutput(output)\n",
        "    category_i = LABELS.index(category)\n",
        "    confusion[category_i][guess_i] += 1\n",
        "     \n",
        "# Normalize by dividing every row by its sum\n",
        "for i in range(n_categories):\n",
        "    confusion[i] = confusion[i] / confusion[i].sum()\n",
        "\n",
        "# Set up plot\n",
        "fig = plt.figure()\n",
        "ax = fig.add_subplot(111)\n",
        "cax = ax.matshow(confusion.numpy())\n",
        "fig.colorbar(cax)\n",
        "\n",
        "# Set up axes\n",
        "ax.set_xticklabels([''] + LABELS, rotation=90)\n",
        "ax.set_yticklabels([''] + LABELS)\n",
        "\n",
        "# Force label at every tick\n",
        "ax.xaxis.set_major_locator(ticker.MultipleLocator(1))\n",
        "ax.yaxis.set_major_locator(ticker.MultipleLocator(1))\n",
        "\n",
        "# sphinx_gallery_thumbnail_number = 2\n",
        "plt.show()"
      ]
    },
    {
      "cell_type": "code",
      "source": [
        "import matplotlib.pyplot as plt\n",
        "from tqdm.notebook import tqdm\n",
        "import pandas as pd\n",
        "import tensorflow as tf\n",
        "from tensorflow import keras\n",
        "import tensorflow.keras.backend as K\n",
        "from tensorflow.keras.callbacks import EarlyStopping, ModelCheckpoint\n",
        "from tensorflow.keras.callbacks import LearningRateScheduler, ReduceLROnPlateau\n",
        "from tensorflow.keras.optimizers.schedules import ExponentialDecay\n",
        "from sklearn.metrics import mean_absolute_error as mae\n",
        "from sklearn.preprocessing import RobustScaler, normalize\n",
        "from sklearn.model_selection import train_test_split, GroupKFold, KFold\n",
        "from IPython.display import display\n",
        "\n",
        "\n",
        "# GET GPU STRATEGY\n",
        "gpu_strategy = tf.distribute.get_strategy()\n",
        "\n",
        "COMPUTE_LSTM_IMPORTANCE = 1\n",
        "\n",
        "\n",
        "COLS = dimension\n",
        "\n",
        "with gpu_strategy.scope():\n",
        "    # 计算特征重要性\n",
        "    if COMPUTE_LSTM_IMPORTANCE:\n",
        "        results = []\n",
        "        print(' Computing LSTM feature importance...')\n",
        "\n",
        "        # for k in tqdm(range(len(COLS))):\n",
        "        for k in tqdm(range(COLS)):\n",
        "            if k>0: \n",
        "                temp = tensor_X_test.numpy()\n",
        "                save_col = temp[:,:,k-1].copy()\n",
        "                np.random.shuffle(temp[:,:,k-1])\n",
        "                \n",
        "                tensor_X_test = torch.from_numpy(temp)\n",
        "\n",
        "            mae = test('test')\n",
        "            # print(mae)\n",
        "            results.append({'feature':k,'mae':mae})\n",
        "    \n",
        "            if k>0: \n",
        "                temp[:,:,k-1] = save_col\n",
        "                tensor_X_test = torch.from_numpy(temp)\n",
        "      "
      ],
      "metadata": {
        "colab": {
          "base_uri": "https://localhost:8080/",
          "height": 724,
          "referenced_widgets": [
            "33c8bb1b80494a178e65d7b9a6575870",
            "2e892b01777740a0b4c2815d60c44208",
            "4c6ae832b9fa49db8e9ff28e7f26df3f",
            "6e528f22fcdf40cc96c0e06fb2e8280b",
            "43b98daa681d468087e5fb9f9138be51",
            "b7bb4724da4c4ad6913af485a1342a67",
            "5cf900eb236c45bab4577ca3fd977753",
            "e44e86eec61f4a1e947e58c92edcd2f6",
            "27c7ed5c5f974c98bd9dc51aa1b0023a",
            "67f361191b75421f82b779c4fb25def9",
            "289ea941b1634e9993f2622d26f31e82"
          ]
        },
        "id": "yJ2FPwsjGIof",
        "outputId": "8812b498-9861-4f94-cc36-c623a3784fae"
      },
      "execution_count": 61,
      "outputs": [
        {
          "output_type": "stream",
          "name": "stdout",
          "text": [
            " Computing LSTM feature importance...\n"
          ]
        },
        {
          "output_type": "display_data",
          "data": {
            "text/plain": [
              "  0%|          | 0/36 [00:00<?, ?it/s]"
            ],
            "application/vnd.jupyter.widget-view+json": {
              "version_major": 2,
              "version_minor": 0,
              "model_id": "33c8bb1b80494a178e65d7b9a6575870"
            }
          },
          "metadata": {}
        },
        {
          "output_type": "stream",
          "name": "stdout",
          "text": [
            "test accuracy 0.9768735872022257\n",
            "test accuracy 0.9123630672926447\n",
            "test accuracy 0.9507911667536081\n",
            "test accuracy 0.9756564075812902\n",
            "test accuracy 0.9746131107633456\n",
            "test accuracy 0.9744392279603548\n",
            "test accuracy 0.9730481655364285\n",
            "test accuracy 0.952529994783516\n",
            "test accuracy 0.819509650495566\n",
            "test accuracy 0.8570683359415754\n",
            "test accuracy 0.7197009215788559\n",
            "test accuracy 0.9780907668231612\n",
            "test accuracy 0.9735698139454008\n",
            "test accuracy 0.9674839158407234\n",
            "test accuracy 0.8939314901756217\n",
            "test accuracy 0.8447226569292297\n",
            "test accuracy 0.5884194053208138\n",
            "test accuracy 0.9737436967483916\n",
            "test accuracy 0.974960876369327\n",
            "test accuracy 0.9563554164493132\n",
            "test accuracy 0.975830290384281\n",
            "test accuracy 0.9088854112328291\n",
            "test accuracy 0.9707876890975482\n",
            "test accuracy 0.9761780559902625\n",
            "test accuracy 0.9737436967483916\n",
            "test accuracy 0.965397322204834\n",
            "test accuracy 0.9744392279603548\n",
            "test accuracy 0.9462702138758476\n",
            "test accuracy 0.9640062597809077\n",
            "test accuracy 0.9349678316814467\n",
            "test accuracy 0.9648756737958616\n",
            "test accuracy 0.8921926621457138\n",
            "test accuracy 0.9563554164493132\n",
            "test accuracy 0.9426186750130412\n",
            "test accuracy 0.9702660406885759\n",
            "test accuracy 0.9340984176664928\n"
          ]
        }
      ]
    },
    {
      "cell_type": "code",
      "source": [
        "# 展示特征重要性\n",
        "df = pd.DataFrame(results)\n",
        "df = df.sort_values('mae')\n",
        "plt.figure(figsize=(10,20))\n",
        "plt.barh(np.arange(COLS),df.mae,height = 0.8)\n",
        "plt.yticks(np.arange(COLS),df.feature.values)\n",
        "plt.title('LSTM Feature Importance',size=16)\n",
        "plt.ylim((-1,COLS))\n",
        "plt.xlabel('accuracy',size = 16)\n",
        "plt.ylabel('feature',size = 16)\n",
        "# for a,b in zip(np.arange(COLS),df.mae):\n",
        "\n",
        "#   plt.text(a, b+0.05, '%.0f' % b, ha='center', va= 'bottom',fontsize=7)\n",
        "plt.show()"
      ],
      "metadata": {
        "colab": {
          "base_uri": "https://localhost:8080/",
          "height": 1000
        },
        "id": "WU_zD0aRdMN4",
        "outputId": "8aba40ef-ff55-467a-d3da-097ef796008f"
      },
      "execution_count": 62,
      "outputs": [
        {
          "output_type": "display_data",
          "data": {
            "text/plain": [
              "<Figure size 720x1440 with 1 Axes>"
            ],
            "image/png": "[encoded data removed]"
          },
          "metadata": {
            "needs_background": "light"
          }
        }
      ]
    },
    {
      "cell_type": "code",
      "source": [
        "relatvie_effect = np.zeros(36)\n",
        "for i in range(dimension):\n",
        "  relatvie_effect[i] = (1 - results[i]['mae'])/value_count[i] * sample_count *  frames\n",
        "  "
      ],
      "metadata": {
        "id": "OgfPD6V-cKis"
      },
      "execution_count": 63,
      "outputs": []
    },
    {
      "cell_type": "code",
      "source": [
        "relatvie_effect"
      ],
      "metadata": {
        "colab": {
          "base_uri": "https://localhost:8080/"
        },
        "id": "qKzihI-AgJ4O",
        "outputId": "38873355-3d14-40e0-91d2-e6c4e6442910"
      },
      "execution_count": 64,
      "outputs": [
        {
          "output_type": "execute_result",
          "data": {
            "text/plain": [
              "array([0.04319772, 0.16369663, 0.04921414, 0.02434622, 0.02539064,\n",
              "       0.02556455, 0.02753494, 0.04849702, 0.19679705, 0.15584506,\n",
              "       0.28034206, 0.02191259, 0.02714815, 0.03339937, 0.11672073,\n",
              "       0.17087149, 0.41163574, 0.02625982, 0.02504559, 0.04365586,\n",
              "       0.02418127, 0.09115815, 0.02921602, 0.02382497, 0.02626388,\n",
              "       0.03461267, 0.02557285, 0.05375518, 0.06892179, 0.12452537,\n",
              "       0.06928441, 0.21265513, 0.05488616, 0.07216109, 0.03910608,\n",
              "       0.0866737 ])"
            ]
          },
          "metadata": {},
          "execution_count": 64
        }
      ]
    },
    {
      "cell_type": "code",
      "source": [
        "relatvie_effect_order = np.argsort(relatvie_effect)[::-1]\n",
        "relatvie_effect_order"
      ],
      "metadata": {
        "colab": {
          "base_uri": "https://localhost:8080/"
        },
        "id": "tdky_qb-ha6K",
        "outputId": "6a1a3606-326f-4528-bbe8-ea8df00e2d7b"
      },
      "execution_count": 65,
      "outputs": [
        {
          "output_type": "execute_result",
          "data": {
            "text/plain": [
              "array([16, 10, 31,  8, 15,  1,  9, 29, 14, 21, 35, 33, 30, 28, 32, 27,  2,\n",
              "        7, 19,  0, 34, 25, 13, 22,  6, 12, 24, 17, 26,  5,  4, 18,  3, 20,\n",
              "       23, 11])"
            ]
          },
          "metadata": {},
          "execution_count": 65
        }
      ]
    },
    {
      "cell_type": "code",
      "source": [
        "df.to_csv(f'lstm_feature_importance.csv',index=False)"
      ],
      "metadata": {
        "id": "8EQRUrSYh3yd"
      },
      "execution_count": null,
      "outputs": []
    }
  ],
  "metadata": {
    "colab": {
      "name": "lstm.ipynb",
      "provenance": []
    },
    "gpuClass": "standard",
    "kernelspec": {
      "display_name": "Python 3",
      "language": "python",
      "name": "python3"
    },
    "language_info": {
      "codemirror_mode": {
        "name": "ipython",
        "version": 3
      },
      "file_extension": ".py",
      "mimetype": "text/x-python",
      "name": "python",
      "nbconvert_exporter": "python",
      "pygments_lexer": "ipython3",
      "version": "3.5.2"
    },
    "accelerator": "GPU",
    "widgets": {
      "application/vnd.jupyter.widget-state+json": {
        "33c8bb1b80494a178e65d7b9a6575870": {
          "model_module": "@jupyter-widgets/controls",
          "model_name": "HBoxModel",
          "model_module_version": "1.5.0",
          "state": {
            "_dom_classes": [],
            "_model_module": "@jupyter-widgets/controls",
            "_model_module_version": "1.5.0",
            "_model_name": "HBoxModel",
            "_view_count": null,
            "_view_module": "@jupyter-widgets/controls",
            "_view_module_version": "1.5.0",
            "_view_name": "HBoxView",
            "box_style": "",
            "children": [
              "IPY_MODEL_2e892b01777740a0b4c2815d60c44208",
              "IPY_MODEL_4c6ae832b9fa49db8e9ff28e7f26df3f",
              "IPY_MODEL_6e528f22fcdf40cc96c0e06fb2e8280b"
            ],
            "layout": "IPY_MODEL_43b98daa681d468087e5fb9f9138be51"
          }
        },
        "2e892b01777740a0b4c2815d60c44208": {
          "model_module": "@jupyter-widgets/controls",
          "model_name": "HTMLModel",
          "model_module_version": "1.5.0",
          "state": {
            "_dom_classes": [],
            "_model_module": "@jupyter-widgets/controls",
            "_model_module_version": "1.5.0",
            "_model_name": "HTMLModel",
            "_view_count": null,
            "_view_module": "@jupyter-widgets/controls",
            "_view_module_version": "1.5.0",
            "_view_name": "HTMLView",
            "description": "",
            "description_tooltip": null,
            "layout": "IPY_MODEL_b7bb4724da4c4ad6913af485a1342a67",
            "placeholder": "​",
            "style": "IPY_MODEL_5cf900eb236c45bab4577ca3fd977753",
            "value": "100%"
          }
        },
        "4c6ae832b9fa49db8e9ff28e7f26df3f": {
          "model_module": "@jupyter-widgets/controls",
          "model_name": "FloatProgressModel",
          "model_module_version": "1.5.0",
          "state": {
            "_dom_classes": [],
            "_model_module": "@jupyter-widgets/controls",
            "_model_module_version": "1.5.0",
            "_model_name": "FloatProgressModel",
            "_view_count": null,
            "_view_module": "@jupyter-widgets/controls",
            "_view_module_version": "1.5.0",
            "_view_name": "ProgressView",
            "bar_style": "success",
            "description": "",
            "description_tooltip": null,
            "layout": "IPY_MODEL_e44e86eec61f4a1e947e58c92edcd2f6",
            "max": 36,
            "min": 0,
            "orientation": "horizontal",
            "style": "IPY_MODEL_27c7ed5c5f974c98bd9dc51aa1b0023a",
            "value": 36
          }
        },
        "6e528f22fcdf40cc96c0e06fb2e8280b": {
          "model_module": "@jupyter-widgets/controls",
          "model_name": "HTMLModel",
          "model_module_version": "1.5.0",
          "state": {
            "_dom_classes": [],
            "_model_module": "@jupyter-widgets/controls",
            "_model_module_version": "1.5.0",
            "_model_name": "HTMLModel",
            "_view_count": null,
            "_view_module": "@jupyter-widgets/controls",
            "_view_module_version": "1.5.0",
            "_view_name": "HTMLView",
            "description": "",
            "description_tooltip": null,
            "layout": "IPY_MODEL_67f361191b75421f82b779c4fb25def9",
            "placeholder": "​",
            "style": "IPY_MODEL_289ea941b1634e9993f2622d26f31e82",
            "value": " 36/36 [03:06&lt;00:00,  5.15s/it]"
          }
        },
        "43b98daa681d468087e5fb9f9138be51": {
          "model_module": "@jupyter-widgets/base",
          "model_name": "LayoutModel",
          "model_module_version": "1.2.0",
          "state": {
            "_model_module": "@jupyter-widgets/base",
            "_model_module_version": "1.2.0",
            "_model_name": "LayoutModel",
            "_view_count": null,
            "_view_module": "@jupyter-widgets/base",
            "_view_module_version": "1.2.0",
            "_view_name": "LayoutView",
            "align_content": null,
            "align_items": null,
            "align_self": null,
            "border": null,
            "bottom": null,
            "display": null,
            "flex": null,
            "flex_flow": null,
            "grid_area": null,
            "grid_auto_columns": null,
            "grid_auto_flow": null,
            "grid_auto_rows": null,
            "grid_column": null,
            "grid_gap": null,
            "grid_row": null,
            "grid_template_areas": null,
            "grid_template_columns": null,
            "grid_template_rows": null,
            "height": null,
            "justify_content": null,
            "justify_items": null,
            "left": null,
            "margin": null,
            "max_height": null,
            "max_width": null,
            "min_height": null,
            "min_width": null,
            "object_fit": null,
            "object_position": null,
            "order": null,
            "overflow": null,
            "overflow_x": null,
            "overflow_y": null,
            "padding": null,
            "right": null,
            "top": null,
            "visibility": null,
            "width": null
          }
        },
        "b7bb4724da4c4ad6913af485a1342a67": {
          "model_module": "@jupyter-widgets/base",
          "model_name": "LayoutModel",
          "model_module_version": "1.2.0",
          "state": {
            "_model_module": "@jupyter-widgets/base",
            "_model_module_version": "1.2.0",
            "_model_name": "LayoutModel",
            "_view_count": null,
            "_view_module": "@jupyter-widgets/base",
            "_view_module_version": "1.2.0",
            "_view_name": "LayoutView",
            "align_content": null,
            "align_items": null,
            "align_self": null,
            "border": null,
            "bottom": null,
            "display": null,
            "flex": null,
            "flex_flow": null,
            "grid_area": null,
            "grid_auto_columns": null,
            "grid_auto_flow": null,
            "grid_auto_rows": null,
            "grid_column": null,
            "grid_gap": null,
            "grid_row": null,
            "grid_template_areas": null,
            "grid_template_columns": null,
            "grid_template_rows": null,
            "height": null,
            "justify_content": null,
            "justify_items": null,
            "left": null,
            "margin": null,
            "max_height": null,
            "max_width": null,
            "min_height": null,
            "min_width": null,
            "object_fit": null,
            "object_position": null,
            "order": null,
            "overflow": null,
            "overflow_x": null,
            "overflow_y": null,
            "padding": null,
            "right": null,
            "top": null,
            "visibility": null,
            "width": null
          }
        },
        "5cf900eb236c45bab4577ca3fd977753": {
          "model_module": "@jupyter-widgets/controls",
          "model_name": "DescriptionStyleModel",
          "model_module_version": "1.5.0",
          "state": {
            "_model_module": "@jupyter-widgets/controls",
            "_model_module_version": "1.5.0",
            "_model_name": "DescriptionStyleModel",
            "_view_count": null,
            "_view_module": "@jupyter-widgets/base",
            "_view_module_version": "1.2.0",
            "_view_name": "StyleView",
            "description_width": ""
          }
        },
        "e44e86eec61f4a1e947e58c92edcd2f6": {
          "model_module": "@jupyter-widgets/base",
          "model_name": "LayoutModel",
          "model_module_version": "1.2.0",
          "state": {
            "_model_module": "@jupyter-widgets/base",
            "_model_module_version": "1.2.0",
            "_model_name": "LayoutModel",
            "_view_count": null,
            "_view_module": "@jupyter-widgets/base",
            "_view_module_version": "1.2.0",
            "_view_name": "LayoutView",
            "align_content": null,
            "align_items": null,
            "align_self": null,
            "border": null,
            "bottom": null,
            "display": null,
            "flex": null,
            "flex_flow": null,
            "grid_area": null,
            "grid_auto_columns": null,
            "grid_auto_flow": null,
            "grid_auto_rows": null,
            "grid_column": null,
            "grid_gap": null,
            "grid_row": null,
            "grid_template_areas": null,
            "grid_template_columns": null,
            "grid_template_rows": null,
            "height": null,
            "justify_content": null,
            "justify_items": null,
            "left": null,
            "margin": null,
            "max_height": null,
            "max_width": null,
            "min_height": null,
            "min_width": null,
            "object_fit": null,
            "object_position": null,
            "order": null,
            "overflow": null,
            "overflow_x": null,
            "overflow_y": null,
            "padding": null,
            "right": null,
            "top": null,
            "visibility": null,
            "width": null
          }
        },
        "27c7ed5c5f974c98bd9dc51aa1b0023a": {
          "model_module": "@jupyter-widgets/controls",
          "model_name": "ProgressStyleModel",
          "model_module_version": "1.5.0",
          "state": {
            "_model_module": "@jupyter-widgets/controls",
            "_model_module_version": "1.5.0",
            "_model_name": "ProgressStyleModel",
            "_view_count": null,
            "_view_module": "@jupyter-widgets/base",
            "_view_module_version": "1.2.0",
            "_view_name": "StyleView",
            "bar_color": null,
            "description_width": ""
          }
        },
        "67f361191b75421f82b779c4fb25def9": {
          "model_module": "@jupyter-widgets/base",
          "model_name": "LayoutModel",
          "model_module_version": "1.2.0",
          "state": {
            "_model_module": "@jupyter-widgets/base",
            "_model_module_version": "1.2.0",
            "_model_name": "LayoutModel",
            "_view_count": null,
            "_view_module": "@jupyter-widgets/base",
            "_view_module_version": "1.2.0",
            "_view_name": "LayoutView",
            "align_content": null,
            "align_items": null,
            "align_self": null,
            "border": null,
            "bottom": null,
            "display": null,
            "flex": null,
            "flex_flow": null,
            "grid_area": null,
            "grid_auto_columns": null,
            "grid_auto_flow": null,
            "grid_auto_rows": null,
            "grid_column": null,
            "grid_gap": null,
            "grid_row": null,
            "grid_template_areas": null,
            "grid_template_columns": null,
            "grid_template_rows": null,
            "height": null,
            "justify_content": null,
            "justify_items": null,
            "left": null,
            "margin": null,
            "max_height": null,
            "max_width": null,
            "min_height": null,
            "min_width": null,
            "object_fit": null,
            "object_position": null,
            "order": null,
            "overflow": null,
            "overflow_x": null,
            "overflow_y": null,
            "padding": null,
            "right": null,
            "top": null,
            "visibility": null,
            "width": null
          }
        },
        "289ea941b1634e9993f2622d26f31e82": {
          "model_module": "@jupyter-widgets/controls",
          "model_name": "DescriptionStyleModel",
          "model_module_version": "1.5.0",
          "state": {
            "_model_module": "@jupyter-widgets/controls",
            "_model_module_version": "1.5.0",
            "_model_name": "DescriptionStyleModel",
            "_view_count": null,
            "_view_module": "@jupyter-widgets/base",
            "_view_module_version": "1.2.0",
            "_view_name": "StyleView",
            "description_width": ""
          }
        }
      }
    }
  },
  "nbformat": 4,
  "nbformat_minor": 0
}