{
 "cells": [
  {
   "cell_type": "markdown",
   "metadata": {},
   "source": [
    "# Traianing of 3 models using different data type"
   ]
  },
  {
   "cell_type": "markdown",
   "metadata": {},
   "source": [
    "## Import required packages"
   ]
  },
  {
   "cell_type": "code",
   "execution_count": 1,
   "metadata": {},
   "outputs": [],
   "source": [
    "import numpy as np\n",
    "import matplotlib.pyplot as plt\n",
    "import pandas as pd"
   ]
  },
  {
   "cell_type": "markdown",
   "metadata": {},
   "source": [
    "## Set the data folder"
   ]
  },
  {
   "cell_type": "code",
   "execution_count": 3,
   "metadata": {},
   "outputs": [],
   "source": [
    "## Change this parameter to your github folder ##\n",
    "your_git_datafolder = \"C:/Users/zheng/myjupyternotebookscripts/myjupyterscript/Kurs_CACM\""
   ]
  },
  {
   "cell_type": "markdown",
   "metadata": {
    "id": "l7OYVfuioitA"
   },
   "source": [
    "### Data Loading "
   ]
  },
  {
   "cell_type": "code",
   "execution_count": 36,
   "metadata": {
    "id": "Wp9pz8HFoitB"
   },
   "outputs": [],
   "source": [
    "# Useful Constants\n",
    "# Output classes to learn how to classify\n",
    "LABELS = [    \n",
    "    \"JUMPING\",\n",
    "    \"JUMPING_JACKS\",\n",
    "    \"BOXING\",\n",
    "    \"WAVING_2HANDS\",\n",
    "    \"WAVING_1HAND\",\n",
    "    \"CLAPPING_HANDS\"\n",
    "\n",
    "] \n",
    "DATASET_PATH = your_git_datafolder+\"/CameraData/\"\n",
    "\n",
    "X_train_path = DATASET_PATH + \"X_train.txt\"\n",
    "X_test_path = DATASET_PATH + \"X_test.txt\"\n",
    "\n",
    "y_train_path = DATASET_PATH + \"Y_train.txt\"\n",
    "y_test_path = DATASET_PATH + \"Y_test.txt\"\n",
    "\n",
    "n_steps = 32 # 32 timesteps per series\n",
    "n_categories = len(LABELS)"
   ]
  },
  {
   "cell_type": "code",
   "execution_count": 37,
   "metadata": {
    "id": "NkOWhAREoitC"
   },
   "outputs": [],
   "source": [
    "# Load the networks inputs\n",
    "\n",
    "def load_X(X_path):\n",
    "    file = open(X_path, 'r')\n",
    "    X_ = np.array(\n",
    "        [elem for elem in [\n",
    "            row.split(',') for row in file\n",
    "        ]], \n",
    "        dtype=np.float32\n",
    "    )\n",
    "    file.close()\n",
    "    blocks = int(len(X_) / n_steps)\n",
    "    \n",
    "    X_ = np.array(np.split(X_,blocks))\n",
    "\n",
    "    return X_ \n",
    "\n",
    "# Load the networks outputs\n",
    "def load_y(y_path):\n",
    "    file = open(y_path, 'r')\n",
    "    y_ = np.array(\n",
    "        [elem for elem in [\n",
    "            row.replace('  ', ' ').strip().split(' ') for row in file\n",
    "        ]], \n",
    "        dtype=np.int32\n",
    "    )\n",
    "    file.close()\n",
    "    \n",
    "    # for 0-based indexing \n",
    "    return y_ - 1\n",
    "\n",
    "X_train = load_X(X_train_path)\n",
    "X_test = load_X(X_test_path)\n",
    "\n",
    "y_train = load_y(y_train_path)\n",
    "y_test = load_y(y_test_path)"
   ]
  },
  {
   "cell_type": "code",
   "execution_count": 38,
   "metadata": {
    "id": "Kmf7qnAAE4On"
   },
   "outputs": [],
   "source": [
    "from pandas.core.common import random_state\n",
    "from sklearn.model_selection import train_test_split\n",
    "X = np.load(your_git_datafolder+\"/CameraData/\"+\"/camera_downsampled_X_total.npy\")\n",
    "y = np.load(your_git_datafolder+\"/CameraData/\"+\"/camera_downsampled_y_total.npy\")\n",
    "X_train,X_test,y_train,y_test = train_test_split(X,y,test_size = 0.2,random_state =42,shuffle =True )"
   ]
  },
  {
   "cell_type": "code",
   "execution_count": 39,
   "metadata": {
    "colab": {
     "base_uri": "https://localhost:8080/"
    },
    "id": "avCawPtd55Or",
    "outputId": "58ba15a2-a05a-46c5-e4c1-f5e50662446c"
   },
   "outputs": [
    {
     "data": {
      "text/plain": [
       "(869, 32, 36)"
      ]
     },
     "execution_count": 39,
     "metadata": {},
     "output_type": "execute_result"
    }
   ],
   "source": [
    "X_test.shape"
   ]
  },
  {
   "cell_type": "code",
   "execution_count": 40,
   "metadata": {
    "colab": {
     "base_uri": "https://localhost:8080/"
    },
    "id": "aY1mr5751iec",
    "outputId": "871d8da4-4563-462f-aed7-65d9c59b7c2d"
   },
   "outputs": [
    {
     "data": {
      "text/plain": [
       "(3474, 32, 36)"
      ]
     },
     "execution_count": 40,
     "metadata": {},
     "output_type": "execute_result"
    }
   ],
   "source": [
    "X_train.shape"
   ]
  },
  {
   "cell_type": "markdown",
   "metadata": {
    "id": "H0tOhfoS6-_I"
   },
   "source": [
    "### Extract the most missed value"
   ]
  },
  {
   "cell_type": "code",
   "execution_count": 41,
   "metadata": {
    "id": "4J1OGkH88uCi"
   },
   "outputs": [],
   "source": [
    "sample_count , frames, dimension = X_train.shape"
   ]
  },
  {
   "cell_type": "code",
   "execution_count": 42,
   "metadata": {
    "id": "5cYCLxtebhy1"
   },
   "outputs": [],
   "source": [
    "X_train_numpy = np.array(X_train)\n",
    "missedData = np.zeros(dimension)\n",
    "for j in range(dimension):\n",
    "  missedValue_count = 0\n",
    "  for i in range(sample_count):\n",
    "    cnt_array = np.where(X_train_numpy[i,:,j],0,1)\n",
    "    missedValue_count = np.sum(cnt_array) + missedValue_count\n",
    "  missedData[j] = missedValue_count\n"
   ]
  },
  {
   "cell_type": "code",
   "execution_count": 43,
   "metadata": {
    "colab": {
     "base_uri": "https://localhost:8080/"
    },
    "id": "aSTCJoI_2ETr",
    "outputId": "78270774-6609-48bc-ff07-972498a4b3b5"
   },
   "outputs": [
    {
     "data": {
      "text/plain": [
       "array([ 4,  5,  2,  3, 10, 11, 23, 22, 17, 16, 19, 18, 25, 24, 27, 26, 20,\n",
       "       21,  7,  6, 12, 13,  9,  8, 15, 14, 32, 33, 35, 34,  1,  0, 29, 28,\n",
       "       30, 31])"
      ]
     },
     "execution_count": 43,
     "metadata": {},
     "output_type": "execute_result"
    }
   ],
   "source": [
    "missed_value_index = np.argsort(missedData)\n",
    "missed_value_index"
   ]
  },
  {
   "cell_type": "code",
   "execution_count": 44,
   "metadata": {
    "id": "FQyK4Jx9HPVv"
   },
   "outputs": [],
   "source": [
    "missed_value_merge = missedData[::2]*2"
   ]
  },
  {
   "cell_type": "code",
   "execution_count": 45,
   "metadata": {
    "colab": {
     "base_uri": "https://localhost:8080/"
    },
    "id": "iv-MokRnHjEx",
    "outputId": "66b3e6c0-1808-413b-9288-c121d285657d"
   },
   "outputs": [
    {
     "data": {
      "text/plain": [
       "array([ 0,  1,  2,  3,  4,  5,  6,  7,  8,  9, 10, 11, 12, 13, 14, 15, 16,\n",
       "       17])"
      ]
     },
     "execution_count": 45,
     "metadata": {},
     "output_type": "execute_result"
    }
   ],
   "source": [
    "numBins = np.arange(0,18,1)\n",
    "numBins"
   ]
  },
  {
   "cell_type": "code",
   "execution_count": 46,
   "metadata": {
    "id": "Wyud21csIPCk"
   },
   "outputs": [],
   "source": [
    "sum_count = sample_count *  frames*2"
   ]
  },
  {
   "cell_type": "code",
   "execution_count": 146,
   "metadata": {
    "colab": {
     "base_uri": "https://localhost:8080/",
     "height": 477
    },
    "id": "VQbFVf0C5Kl-",
    "outputId": "c167dd2c-b15c-41c8-ced2-e32cb3fe118f"
   },
   "outputs": [
    {
     "data": {
      "text/plain": [
       "Text(0, 0.5, 'count')"
      ]
     },
     "execution_count": 146,
     "metadata": {},
     "output_type": "execute_result"
    },
    {
     "data": {
      "image/png": "[encoded data removed]",
      "text/plain": [
       "<Figure size 720x504 with 1 Axes>"
      ]
     },
     "metadata": {
      "needs_background": "light"
     },
     "output_type": "display_data"
    }
   ],
   "source": [
    "# numBins = np.arange(0,36,1)\n",
    "plt.figure(figsize=(10, 7))\n",
    "numBins = [ '0',  '1',  '2',  '3',  '4',  '5',  '6',  '7',  '8',  '9', '10', '11', '12', '13', '14', '15', '16',\n",
    "       '17']\n",
    "plt.title('missed value count')\n",
    "plt.bar(numBins, missed_value_merge, width=0.8,color = 'red')\n",
    "plt.bar(numBins,sum_count ,bottom = missed_value_merge,width = 0.8,color = 'pink')\n",
    "plt.xlabel('data_index')\n",
    "plt.ylabel('count')\n"
   ]
  },
  {
   "cell_type": "code",
   "execution_count": 122,
   "metadata": {
    "colab": {
     "base_uri": "https://localhost:8080/"
    },
    "id": "ypRKMhj3Wmq6",
    "outputId": "0a4e6698-7188-4b44-c463-7499b671a653"
   },
   "outputs": [
    {
     "data": {
      "text/plain": [
       "array([113042., 222290., 222310., 217610., 200842., 222290., 216036.,\n",
       "       199452., 222282., 222242., 222160., 222286., 222236., 222192.,\n",
       "       110654., 107556., 180308., 171122.])"
      ]
     },
     "execution_count": 122,
     "metadata": {},
     "output_type": "execute_result"
    }
   ],
   "source": [
    "value_count = sample_count *  frames*2 - missed_value_merge\n",
    "value_count"
   ]
  },
  {
   "cell_type": "markdown",
   "metadata": {
    "id": "IFbYdHxaoitC"
   },
   "source": [
    "### Pre-Process "
   ]
  },
  {
   "cell_type": "code",
   "execution_count": 49,
   "metadata": {
    "colab": {
     "base_uri": "https://localhost:8080/"
    },
    "id": "KKavV-rUoitD",
    "outputId": "15b1c779-f908-4052-bad8-216272e2f206",
    "scrolled": true
   },
   "outputs": [
    {
     "name": "stdout",
     "output_type": "stream",
     "text": [
      "test_data_size: torch.Size([869, 32, 36])\n",
      "test_label_size: torch.Size([869, 1])\n",
      "n_data_size_test: 869\n",
      "train_data_size: torch.Size([3474, 32, 36])\n",
      "train_label_size: torch.Size([3474, 1])\n",
      "n_data_size_train: 3474\n"
     ]
    }
   ],
   "source": [
    "import torch\n",
    "tensor_X_test = torch.from_numpy(X_test)\n",
    "print('test_data_size:',tensor_X_test.size())\n",
    "tensor_y_test = torch.from_numpy(y_test)\n",
    "print('test_label_size:',tensor_y_test.size())\n",
    "n_data_size_test = tensor_X_test.size()[0]\n",
    "print('n_data_size_test:',n_data_size_test)\n",
    "\n",
    "tensor_X_train = torch.from_numpy(X_train)\n",
    "print('train_data_size:',tensor_X_train.size())\n",
    "tensor_y_train = torch.from_numpy(y_train)\n",
    "print('train_label_size:',tensor_y_train.size())\n",
    "n_data_size_train = tensor_X_train.size()[0]\n",
    "print('n_data_size_train:',n_data_size_train)"
   ]
  },
  {
   "cell_type": "code",
   "execution_count": 50,
   "metadata": {
    "id": "jgp5FADCoitE"
   },
   "outputs": [],
   "source": [
    "import torch.nn as nn\n",
    "device = torch.device('cuda') if torch.cuda.is_available() else torch.device('cpu')"
   ]
  },
  {
   "cell_type": "code",
   "execution_count": 51,
   "metadata": {
    "id": "x5tjFE2DoitF"
   },
   "outputs": [],
   "source": [
    "class LSTM(nn.Module):\n",
    "    \n",
    "    def __init__(self,input_dim,hidden_dim,output_dim,layer_num):\n",
    "        super(LSTM,self).__init__()\n",
    "        self.hidden_dim = hidden_dim\n",
    "        self.output_dim = output_dim\n",
    "        self.lstm = torch.nn.LSTM(input_dim,hidden_dim,layer_num,batch_first=True)\n",
    "        self.fc = torch.nn.Linear(hidden_dim,output_dim)\n",
    "        self.bn = nn.BatchNorm1d(32)\n",
    "        \n",
    "    def forward(self,inputs):\n",
    "        x = self.bn(inputs)\n",
    "        lstm_out,(hn,cn) = self.lstm(x)\n",
    "        out = self.fc(lstm_out[:,-1,:])\n",
    "        return out"
   ]
  },
  {
   "cell_type": "code",
   "execution_count": 52,
   "metadata": {
    "colab": {
     "base_uri": "https://localhost:8080/"
    },
    "id": "1AU0XDCgoitG",
    "outputId": "e888c495-3725-4528-f43c-d05d3045841d"
   },
   "outputs": [
    {
     "data": {
      "text/plain": [
       "LSTM(\n",
       "  (lstm): LSTM(36, 128, num_layers=3, batch_first=True)\n",
       "  (fc): Linear(in_features=128, out_features=6, bias=True)\n",
       "  (bn): BatchNorm1d(32, eps=1e-05, momentum=0.1, affine=True, track_running_stats=True)\n",
       ")"
      ]
     },
     "execution_count": 52,
     "metadata": {},
     "output_type": "execute_result"
    }
   ],
   "source": [
    "n_hidden = 128\n",
    "n_joints = 18*2\n",
    "n_categories = 6\n",
    "n_layer = 3\n",
    "rnn = LSTM(n_joints,n_hidden,n_categories,n_layer)\n",
    "rnn.to(device)"
   ]
  },
  {
   "cell_type": "code",
   "execution_count": 53,
   "metadata": {
    "id": "Q9dUsqkSoitG"
   },
   "outputs": [],
   "source": [
    "def categoryFromOutput(output):\n",
    "    top_n, top_i = output.topk(1)\n",
    "    category_i = top_i[0].item()\n",
    "    return LABELS[category_i], category_i"
   ]
  },
  {
   "cell_type": "markdown",
   "metadata": {
    "id": "uUzd9aOgoitG"
   },
   "source": [
    "### Getting Random Data "
   ]
  },
  {
   "cell_type": "code",
   "execution_count": 54,
   "metadata": {
    "id": "zJ5TkAt7oitH"
   },
   "outputs": [],
   "source": [
    "import random\n",
    "def randomTrainingExampleBatch(batch_size,flag,num=-1):\n",
    "    if flag == 'train':\n",
    "        X = tensor_X_train\n",
    "        y = tensor_y_train\n",
    "        data_size = n_data_size_train\n",
    "    elif flag == 'test':\n",
    "        X = tensor_X_test\n",
    "        y = tensor_y_test\n",
    "        data_size = n_data_size_test\n",
    "    if num == -1:\n",
    "        ran_num = random.randint(0,data_size-batch_size)\n",
    "    else:\n",
    "        ran_num = num\n",
    "    pose_sequence_tensor = X[ran_num:(ran_num+batch_size)]\n",
    "    pose_sequence_tensor = pose_sequence_tensor\n",
    "    category_tensor = y[ran_num:ran_num+batch_size,:]\n",
    "    return category_tensor.long(),pose_sequence_tensor"
   ]
  },
  {
   "cell_type": "markdown",
   "metadata": {
    "id": "_TDo_4lhoitH"
   },
   "source": [
    "### Training"
   ]
  },
  {
   "cell_type": "code",
   "execution_count": 55,
   "metadata": {
    "id": "zkqlCNb2oitH"
   },
   "outputs": [],
   "source": [
    "# try:\n",
    "#    rnn.load_state_dict(torch.load('drive/MyDrive/CACM/models/lstm_6_bn.pth'))\n",
    "# except:\n",
    "#    print('no pkl')"
   ]
  },
  {
   "cell_type": "code",
   "execution_count": null,
   "metadata": {
    "colab": {
     "base_uri": "https://localhost:8080/"
    },
    "id": "3jsSKxgooitI",
    "outputId": "8a6585ca-314b-4321-cf4d-63a68f641de7"
   },
   "outputs": [
    {
     "name": "stdout",
     "output_type": "stream",
     "text": [
      "1000 1% (0m 6s) 0.0029  / WAVING_2HANDS ✓\n",
      "2000 2% (0m 12s) 0.0003  / WAVING_1HAND ✓\n",
      "3000 3% (0m 18s) 0.0011  / WAVING_1HAND ✓\n",
      "4000 4% (0m 24s) 0.0008  / BOXING ✓\n",
      "5000 5% (0m 30s) 0.0036  / CLAPPING_HANDS ✓\n",
      "6000 6% (0m 36s) 0.0407  / BOXING ✓\n",
      "7000 7% (0m 43s) 0.0147  / CLAPPING_HANDS ✓\n",
      "8000 8% (0m 49s) 0.0012  / JUMPING_JACKS ✓\n",
      "9000 9% (0m 55s) 0.0007  / WAVING_2HANDS ✓\n",
      "10000 10% (1m 1s) 0.0007  / BOXING ✓\n",
      "11000 11% (1m 7s) 0.0091  / JUMPING ✓\n",
      "12000 12% (1m 13s) 0.0002  / WAVING_1HAND ✓\n",
      "13000 13% (1m 19s) 0.0035  / CLAPPING_HANDS ✓\n",
      "14000 14% (1m 26s) 0.0004  / WAVING_1HAND ✓\n",
      "15000 15% (1m 32s) 0.0012  / JUMPING ✓\n",
      "16000 16% (1m 38s) 0.0007  / WAVING_1HAND ✓\n",
      "17000 17% (1m 44s) 0.0081  / BOXING ✓\n",
      "18000 18% (1m 50s) 0.0006  / JUMPING ✓\n",
      "19000 19% (1m 56s) 0.0002  / WAVING_1HAND ✓\n",
      "20000 20% (2m 3s) 0.0024  / JUMPING ✓\n",
      "21000 21% (2m 9s) 0.0304  / BOXING ✓\n",
      "22000 22% (2m 15s) 0.0008  / JUMPING_JACKS ✓\n",
      "23000 23% (2m 21s) 0.0006  / WAVING_1HAND ✓\n",
      "24000 24% (2m 27s) 0.0068  / JUMPING_JACKS ✓\n",
      "25000 25% (2m 33s) 0.0015  / JUMPING ✓\n",
      "26000 26% (2m 39s) 0.0004  / BOXING ✓\n",
      "27000 27% (2m 45s) 0.0003  / WAVING_1HAND ✓\n",
      "28000 28% (2m 52s) 0.0021  / WAVING_2HANDS ✓\n",
      "29000 28% (2m 58s) 0.0051  / CLAPPING_HANDS ✓\n",
      "30000 30% (3m 4s) 0.0002  / WAVING_1HAND ✓\n",
      "31000 31% (3m 10s) 0.0002  / WAVING_1HAND ✓\n",
      "32000 32% (3m 16s) 0.0003  / WAVING_1HAND ✓\n",
      "33000 33% (3m 22s) 0.0022  / JUMPING_JACKS ✓\n",
      "34000 34% (3m 28s) 0.0001  / WAVING_1HAND ✓\n",
      "35000 35% (3m 35s) 0.0081  / CLAPPING_HANDS ✓\n",
      "36000 36% (3m 41s) 0.0003  / WAVING_2HANDS ✓\n",
      "37000 37% (3m 47s) 0.0004  / BOXING ✓\n",
      "38000 38% (3m 53s) 0.0002  / WAVING_1HAND ✓\n",
      "39000 39% (3m 59s) 0.0004  / WAVING_2HANDS ✓\n",
      "40000 40% (4m 5s) 0.0041  / CLAPPING_HANDS ✓\n",
      "41000 41% (4m 11s) 0.0017  / WAVING_1HAND ✓\n",
      "42000 42% (4m 18s) 0.0089  / CLAPPING_HANDS ✓\n",
      "43000 43% (4m 24s) 0.0011  / CLAPPING_HANDS ✓\n",
      "44000 44% (4m 30s) 0.0004  / JUMPING_JACKS ✓\n",
      "45000 45% (4m 36s) 0.0003  / WAVING_2HANDS ✓\n",
      "46000 46% (4m 42s) 0.0003  / JUMPING ✓\n",
      "47000 47% (4m 48s) 0.0003  / WAVING_2HANDS ✓\n",
      "48000 48% (4m 54s) 0.0002  / BOXING ✓\n",
      "49000 49% (5m 1s) 0.0002  / WAVING_2HANDS ✓\n",
      "50000 50% (5m 7s) 0.0002  / WAVING_2HANDS ✓\n",
      "51000 51% (5m 13s) 0.0001  / WAVING_2HANDS ✓\n",
      "52000 52% (5m 19s) 0.0003  / BOXING ✓\n",
      "53000 53% (5m 25s) 0.0004  / WAVING_2HANDS ✓\n",
      "54000 54% (5m 31s) 0.0005  / JUMPING_JACKS ✓\n",
      "55000 55% (5m 37s) 0.0012  / WAVING_2HANDS ✓\n",
      "56000 56% (5m 43s) 0.0011  / BOXING ✓\n",
      "57000 56% (5m 50s) 0.0002  / WAVING_1HAND ✓\n",
      "58000 57% (5m 56s) 0.0003  / JUMPING ✓\n",
      "59000 59% (6m 2s) 0.0004  / JUMPING_JACKS ✓\n",
      "60000 60% (6m 8s) 0.0001  / WAVING_1HAND ✓\n",
      "61000 61% (6m 14s) 0.0004  / JUMPING ✓\n",
      "62000 62% (6m 20s) 0.0004  / JUMPING_JACKS ✓\n",
      "63000 63% (6m 26s) 0.0007  / BOXING ✓\n",
      "64000 64% (6m 33s) 0.0003  / BOXING ✓\n",
      "65000 65% (6m 39s) 0.0001  / WAVING_1HAND ✓\n",
      "66000 66% (6m 45s) 0.0005  / JUMPING_JACKS ✓\n",
      "67000 67% (6m 51s) 0.0017  / JUMPING_JACKS ✓\n",
      "68000 68% (6m 57s) 0.0203  / WAVING_1HAND ✓\n",
      "69000 69% (7m 3s) 0.0004  / BOXING ✓\n",
      "70000 70% (7m 9s) 0.0003  / JUMPING_JACKS ✓\n",
      "71000 71% (7m 16s) 0.0002  / WAVING_2HANDS ✓\n",
      "72000 72% (7m 22s) 0.0005  / BOXING ✓\n",
      "73000 73% (7m 28s) 0.0052  / CLAPPING_HANDS ✓\n",
      "74000 74% (7m 34s) 0.0554  / JUMPING_JACKS ✓\n",
      "75000 75% (7m 40s) 0.0005  / JUMPING ✓\n",
      "76000 76% (7m 46s) 0.0001  / WAVING_1HAND ✓\n",
      "77000 77% (7m 52s) 0.0008  / WAVING_1HAND ✓\n",
      "78000 78% (7m 59s) 0.0007  / WAVING_2HANDS ✓\n",
      "79000 79% (8m 5s) 0.0002  / WAVING_2HANDS ✓\n",
      "80000 80% (8m 11s) 0.0003  / BOXING ✓\n",
      "81000 81% (8m 17s) 0.0019  / JUMPING_JACKS ✓\n",
      "82000 82% (8m 23s) 0.0004  / WAVING_2HANDS ✓\n",
      "83000 83% (8m 29s) 0.0019  / JUMPING_JACKS ✓\n",
      "84000 84% (8m 35s) 0.0001  / WAVING_1HAND ✓\n",
      "85000 85% (8m 42s) 0.0009  / JUMPING_JACKS ✓\n",
      "86000 86% (8m 48s) 0.0043  / BOXING ✓\n",
      "87000 87% (8m 54s) 0.0030  / JUMPING ✓\n",
      "88000 88% (9m 0s) 0.0014  / WAVING_1HAND ✓\n",
      "89000 89% (9m 6s) 0.0052  / JUMPING ✓\n",
      "90000 90% (9m 12s) 0.0001  / WAVING_1HAND ✓\n",
      "91000 91% (9m 18s) 0.0009  / CLAPPING_HANDS ✓\n",
      "92000 92% (9m 25s) 0.0001  / WAVING_1HAND ✓\n",
      "93000 93% (9m 31s) 0.0003  / BOXING ✓\n",
      "94000 94% (9m 37s) 0.0010  / JUMPING ✓\n",
      "95000 95% (9m 43s) 0.0017  / JUMPING_JACKS ✓\n",
      "96000 96% (9m 49s) 0.0018  / WAVING_2HANDS ✓\n",
      "97000 97% (9m 55s) 0.0010  / WAVING_2HANDS ✓\n",
      "98000 98% (10m 1s) 0.0009  / CLAPPING_HANDS ✓\n",
      "99000 99% (10m 8s) 0.0009  / CLAPPING_HANDS ✓\n",
      "100000 100% (10m 14s) 0.0003  / BOXING ✓\n"
     ]
    }
   ],
   "source": [
    "import torch.optim as optim\n",
    "import time\n",
    "import math\n",
    "\n",
    "criterion = nn.CrossEntropyLoss()\n",
    "learning_rate = 0.0005\n",
    "optimizer = optim.SGD(rnn.parameters(),lr=learning_rate,momentum=0.9)\n",
    "#scheduler = optim.lr_scheduler.StepLR(optimizer, step_size=10000, gamma=0.1)\n",
    "\n",
    "n_iters = 100000\n",
    "#n_iters = 60000\n",
    "print_every = 1000\n",
    "plot_every = 1000\n",
    "batch_size = 128\n",
    "\n",
    "# Keep track of losses for plotting\n",
    "current_loss = 0\n",
    "all_losses = []\n",
    "\n",
    "def timeSince(since):\n",
    "    now = time.time()\n",
    "    s = now - since\n",
    "    m = math.floor(s / 60)\n",
    "    s -= m * 60\n",
    "    return '%dm %ds' % (m, s)\n",
    "\n",
    "start = time.time()\n",
    "\n",
    "for iter in range(1, n_iters + 1):\n",
    "   \n",
    "    category_tensor, input_sequence = randomTrainingExampleBatch(batch_size,'train')\n",
    "    input_sequence = input_sequence.to(device)\n",
    "    category_tensor = category_tensor.to(device)\n",
    "    category_tensor = torch.squeeze(category_tensor)\n",
    "    \n",
    "    optimizer.zero_grad()\n",
    "    \n",
    "    output = rnn(input_sequence)\n",
    "    loss = criterion(output, category_tensor)\n",
    "    loss.backward()\n",
    "    optimizer.step() \n",
    "    #scheduler.step()\n",
    "    \n",
    "    #如果tensor只有一个元素,那么可以用.item()的方法取出这个元素作为普通的python数字.\n",
    "    current_loss += loss.item()\n",
    "    \n",
    "    category = LABELS[int(category_tensor[0])]\n",
    "\n",
    "    # Print iter number, loss, name and guess\n",
    "    if iter % print_every == 0:\n",
    "        guess, guess_i = categoryFromOutput(output)\n",
    "        correct = '✓' if guess == category else '✗ (%s)' % category\n",
    "        print('%d %d%% (%s) %.4f  / %s %s' % (iter, iter / n_iters * 100, timeSince(start), loss, guess, correct))\n",
    "        \n",
    "    # Add current loss avg to list of losses\n",
    "    if iter % plot_every == 0:\n",
    "        all_losses.append(current_loss / plot_every)\n",
    "        current_loss = 0"
   ]
  },
  {
   "cell_type": "code",
   "execution_count": null,
   "metadata": {
    "id": "0-ZS1dHUoitI"
   },
   "outputs": [],
   "source": [
    "# torch.save(rnn.state_dict(),'drive/MyDrive/CACM/models/lstm_6_bn.pth')"
   ]
  },
  {
   "cell_type": "code",
   "execution_count": null,
   "metadata": {
    "colab": {
     "base_uri": "https://localhost:8080/",
     "height": 283
    },
    "id": "sgccuBfpoitI",
    "outputId": "6eaa98e6-c49e-4405-e168-6935ef386586"
   },
   "outputs": [
    {
     "data": {
      "text/plain": [
       "[<matplotlib.lines.Line2D at 0x7f1bf60db950>]"
      ]
     },
     "execution_count": 56,
     "metadata": {},
     "output_type": "execute_result"
    },
    {
     "data": {
      "image/png": "[encoded data removed]",
      "text/plain": [
       "<Figure size 432x288 with 1 Axes>"
      ]
     },
     "metadata": {
      "needs_background": "light"
     },
     "output_type": "display_data"
    }
   ],
   "source": [
    "import matplotlib.pyplot as plt\n",
    "import matplotlib.ticker as ticker\n",
    "\n",
    "plt.figure()\n",
    "plt.plot(all_losses)"
   ]
  },
  {
   "cell_type": "markdown",
   "metadata": {
    "id": "uUQkRMdzoitJ"
   },
   "source": [
    "### Testing"
   ]
  },
  {
   "cell_type": "code",
   "execution_count": 56,
   "metadata": {
    "id": "KQWfyvS8oitJ"
   },
   "outputs": [],
   "source": [
    "def test(flag):\n",
    "    if flag == 'train':\n",
    "        n = n_data_size_train\n",
    "    elif flag == 'test':\n",
    "        n = n_data_size_test   \n",
    "        \n",
    "    with torch.no_grad():\n",
    "        right = 0\n",
    "        for i in range(n):\n",
    "            category_tensor, inputs = randomTrainingExampleBatch(1,flag,i)\n",
    "            category = LABELS[int(category_tensor[0])]\n",
    "            inputs = inputs.to(device)\n",
    "            output = rnn(inputs)\n",
    "            guess, guess_i = categoryFromOutput(output)\n",
    "            category_i = LABELS.index(category)\n",
    "            if category_i == guess_i:\n",
    "                right+=1\n",
    "    print(flag,'accuracy',right/n)\n",
    "    return right/n"
   ]
  },
  {
   "cell_type": "code",
   "execution_count": 57,
   "metadata": {
    "colab": {
     "base_uri": "https://localhost:8080/"
    },
    "id": "v0Fk2VwXoitJ",
    "outputId": "4650d1e0-93f8-465e-e1b3-913e10353dbb"
   },
   "outputs": [
    {
     "name": "stdout",
     "output_type": "stream",
     "text": [
      "test accuracy 0.9712313003452244\n"
     ]
    },
    {
     "data": {
      "text/plain": [
       "0.9712313003452244"
      ]
     },
     "execution_count": 57,
     "metadata": {},
     "output_type": "execute_result"
    }
   ],
   "source": [
    "test('test')"
   ]
  },
  {
   "cell_type": "code",
   "execution_count": 58,
   "metadata": {
    "colab": {
     "base_uri": "https://localhost:8080/"
    },
    "id": "Y80sInvkoitJ",
    "outputId": "d527e9fe-ccfe-4a84-8ca4-b518468b058d"
   },
   "outputs": [
    {
     "name": "stdout",
     "output_type": "stream",
     "text": [
      "train accuracy 0.9781232009211284\n"
     ]
    },
    {
     "data": {
      "text/plain": [
       "0.9781232009211284"
      ]
     },
     "execution_count": 58,
     "metadata": {},
     "output_type": "execute_result"
    }
   ],
   "source": [
    "test('train')"
   ]
  },
  {
   "cell_type": "code",
   "execution_count": null,
   "metadata": {
    "colab": {
     "base_uri": "https://localhost:8080/",
     "height": 352
    },
    "id": "ZNh9B3l2oitK",
    "outputId": "9cf79b69-2cc6-4c45-e242-64dd338df073",
    "scrolled": true
   },
   "outputs": [
    {
     "data": {
      "image/png": "[encoded data removed]",
      "text/plain": [
       "<Figure size 432x288 with 2 Axes>"
      ]
     },
     "metadata": {
      "needs_background": "light"
     },
     "output_type": "display_data"
    }
   ],
   "source": [
    "# Keep track of correct guesses in a confusion matrix\n",
    "confusion = torch.zeros(n_categories, n_categories)\n",
    "n_confusion = n_data_size_test\n",
    "\n",
    "# Go through a bunch of examples and record which are correctly guessed\n",
    "for i in range(n_confusion):\n",
    "    category_tensor, inputs = randomTrainingExampleBatch(1,'test',i)\n",
    "    category = LABELS[int(category_tensor[0])]\n",
    "    inputs = inputs.to(device)\n",
    "    output = rnn(inputs)\n",
    "    guess, guess_i = categoryFromOutput(output)\n",
    "    category_i = LABELS.index(category)\n",
    "    confusion[category_i][guess_i] += 1\n",
    "     \n",
    "# Normalize by dividing every row by its sum\n",
    "for i in range(n_categories):\n",
    "    confusion[i] = confusion[i] / confusion[i].sum()\n",
    "\n",
    "# Set up plot\n",
    "fig = plt.figure()\n",
    "ax = fig.add_subplot(111)\n",
    "cax = ax.matshow(confusion.numpy())\n",
    "fig.colorbar(cax)\n",
    "\n",
    "# Set up axes\n",
    "ax.set_xticklabels([''] + LABELS, rotation=90)\n",
    "ax.set_yticklabels([''] + LABELS)\n",
    "\n",
    "# Force label at every tick\n",
    "ax.xaxis.set_major_locator(ticker.MultipleLocator(1))\n",
    "ax.yaxis.set_major_locator(ticker.MultipleLocator(1))\n",
    "\n",
    "# sphinx_gallery_thumbnail_number = 2\n",
    "plt.show()"
   ]
  },
  {
   "cell_type": "code",
   "execution_count": 59,
   "metadata": {
    "colab": {
     "base_uri": "https://localhost:8080/",
     "height": 724,
     "referenced_widgets": [
      "f594be3d7f364d019189e528e5358518",
      "fd45ed1410ff4b84bf6e8772475fb834",
      "3e1f579e4d384916b0ee8e8ca97b31a4",
      "da62b060f3aa493e993891bc712dd02c",
      "74649e05776b461aa6e9dd0aff860daa",
      "ac4fe8c6934440cb8d7643d838b5e04c",
      "97848d4102404cc7ab374f441b38bf09",
      "1fb9f32a88c74128b7b1475f17dbc748",
      "7417e09f733f40d790f48b9c513cfd14",
      "c75f04eefde6437e936353902f8f89b0",
      "b8e179e318d2469bbaed5d558957dc5b"
     ]
    },
    "id": "yJ2FPwsjGIof",
    "outputId": "cd3c40f1-ea3b-4aaf-e4f5-027e26aa2fec"
   },
   "outputs": [
    {
     "name": "stdout",
     "output_type": "stream",
     "text": [
      " Computing LSTM feature importance...\n"
     ]
    },
    {
     "data": {
      "application/vnd.jupyter.widget-view+json": {
       "model_id": "f594be3d7f364d019189e528e5358518",
       "version_major": 2,
       "version_minor": 0
      },
      "text/plain": [
       "  0%|          | 0/36 [00:00<?, ?it/s]"
      ]
     },
     "metadata": {},
     "output_type": "display_data"
    },
    {
     "name": "stdout",
     "output_type": "stream",
     "text": [
      "test accuracy 0.9712313003452244\n",
      "test accuracy 0.8860759493670886\n",
      "test accuracy 0.9263521288837745\n",
      "test accuracy 0.9735327963176065\n",
      "test accuracy 0.9666283084004603\n",
      "test accuracy 0.9631760644418872\n",
      "test accuracy 0.9677790563866513\n",
      "test accuracy 0.9401611047180668\n",
      "test accuracy 0.7744533947065593\n",
      "test accuracy 0.8262370540851554\n",
      "test accuracy 0.6421173762945915\n",
      "test accuracy 0.9689298043728424\n",
      "test accuracy 0.9666283084004603\n",
      "test accuracy 0.952819332566168\n",
      "test accuracy 0.8653624856156502\n",
      "test accuracy 0.8020713463751439\n",
      "test accuracy 0.5604142692750288\n",
      "test accuracy 0.9712313003452244\n",
      "test accuracy 0.9712313003452244\n",
      "test accuracy 0.9516685845799769\n",
      "test accuracy 0.9746835443037974\n",
      "test accuracy 0.8883774453394706\n",
      "test accuracy 0.9700805523590333\n",
      "test accuracy 0.9735327963176065\n",
      "test accuracy 0.9608745684695051\n",
      "test accuracy 0.9585730724971231\n",
      "test accuracy 0.9689298043728424\n",
      "test accuracy 0.9332566168009206\n",
      "test accuracy 0.9493670886075949\n",
      "test accuracy 0.9194476409666283\n",
      "test accuracy 0.9620253164556962\n",
      "test accuracy 0.8849252013808976\n",
      "test accuracy 0.9309551208285386\n",
      "test accuracy 0.9286536248561565\n",
      "test accuracy 0.953970080552359\n",
      "test accuracy 0.9125431530494822\n"
     ]
    }
   ],
   "source": [
    "import matplotlib.pyplot as plt\n",
    "from tqdm.notebook import tqdm\n",
    "import pandas as pd\n",
    "import tensorflow as tf\n",
    "from tensorflow import keras\n",
    "import tensorflow.keras.backend as K\n",
    "from tensorflow.keras.callbacks import EarlyStopping, ModelCheckpoint\n",
    "from tensorflow.keras.callbacks import LearningRateScheduler, ReduceLROnPlateau\n",
    "from tensorflow.keras.optimizers.schedules import ExponentialDecay\n",
    "from sklearn.metrics import mean_absolute_error as mae\n",
    "from sklearn.preprocessing import RobustScaler, normalize\n",
    "from sklearn.model_selection import train_test_split, GroupKFold, KFold\n",
    "from IPython.display import display\n",
    "\n",
    "\n",
    "# GET GPU STRATEGY\n",
    "gpu_strategy = tf.distribute.get_strategy()\n",
    "\n",
    "COMPUTE_LSTM_IMPORTANCE = 1\n",
    "\n",
    "\n",
    "COLS = dimension\n",
    "\n",
    "with gpu_strategy.scope():\n",
    "    # 计算特征重要性\n",
    "    if COMPUTE_LSTM_IMPORTANCE:\n",
    "        results = []\n",
    "        print(' Computing LSTM feature importance...')\n",
    "\n",
    "        # for k in tqdm(range(len(COLS))):\n",
    "        for k in tqdm(range(COLS)):\n",
    "            if k>0: \n",
    "                temp = tensor_X_test.numpy()\n",
    "                save_col = temp[:,:,k-1].copy()\n",
    "                np.random.shuffle(temp[:,:,k-1])\n",
    "                \n",
    "                tensor_X_test = torch.from_numpy(temp)\n",
    "\n",
    "            mae = test('test')\n",
    "            # print(mae)\n",
    "            results.append({'feature':k,'mae':mae})\n",
    "    \n",
    "            if k>0: \n",
    "                temp[:,:,k-1] = save_col\n",
    "                tensor_X_test = torch.from_numpy(temp)\n",
    "      "
   ]
  },
  {
   "cell_type": "code",
   "execution_count": 85,
   "metadata": {
    "colab": {
     "base_uri": "https://localhost:8080/",
     "height": 1000
    },
    "id": "OeHNcFAJOSTK",
    "outputId": "39f8d499-51f0-4852-b736-afdfabfb2eb5"
   },
   "outputs": [
    {
     "data": {
      "text/html": [
       "\n",
       "  <div id=\"df-f1d9170e-6636-47ee-a05a-23d2d21abbfe\">\n",
       "    <div class=\"colab-df-container\">\n",
       "      <div>\n",
       "<style scoped>\n",
       "    .dataframe tbody tr th:only-of-type {\n",
       "        vertical-align: middle;\n",
       "    }\n",
       "\n",
       "    .dataframe tbody tr th {\n",
       "        vertical-align: top;\n",
       "    }\n",
       "\n",
       "    .dataframe thead th {\n",
       "        text-align: right;\n",
       "    }\n",
       "</style>\n",
       "<table border=\"1\" class=\"dataframe\">\n",
       "  <thead>\n",
       "    <tr style=\"text-align: right;\">\n",
       "      <th></th>\n",
       "      <th>feature</th>\n",
       "      <th>mae</th>\n",
       "    </tr>\n",
       "  </thead>\n",
       "  <tbody>\n",
       "    <tr>\n",
       "      <th>0</th>\n",
       "      <td>0</td>\n",
       "      <td>0.971231</td>\n",
       "    </tr>\n",
       "    <tr>\n",
       "      <th>1</th>\n",
       "      <td>1</td>\n",
       "      <td>0.886076</td>\n",
       "    </tr>\n",
       "    <tr>\n",
       "      <th>2</th>\n",
       "      <td>2</td>\n",
       "      <td>0.926352</td>\n",
       "    </tr>\n",
       "    <tr>\n",
       "      <th>3</th>\n",
       "      <td>3</td>\n",
       "      <td>0.973533</td>\n",
       "    </tr>\n",
       "    <tr>\n",
       "      <th>4</th>\n",
       "      <td>4</td>\n",
       "      <td>0.966628</td>\n",
       "    </tr>\n",
       "    <tr>\n",
       "      <th>5</th>\n",
       "      <td>5</td>\n",
       "      <td>0.963176</td>\n",
       "    </tr>\n",
       "    <tr>\n",
       "      <th>6</th>\n",
       "      <td>6</td>\n",
       "      <td>0.967779</td>\n",
       "    </tr>\n",
       "    <tr>\n",
       "      <th>7</th>\n",
       "      <td>7</td>\n",
       "      <td>0.940161</td>\n",
       "    </tr>\n",
       "    <tr>\n",
       "      <th>8</th>\n",
       "      <td>8</td>\n",
       "      <td>0.774453</td>\n",
       "    </tr>\n",
       "    <tr>\n",
       "      <th>9</th>\n",
       "      <td>9</td>\n",
       "      <td>0.826237</td>\n",
       "    </tr>\n",
       "    <tr>\n",
       "      <th>10</th>\n",
       "      <td>10</td>\n",
       "      <td>0.642117</td>\n",
       "    </tr>\n",
       "    <tr>\n",
       "      <th>11</th>\n",
       "      <td>11</td>\n",
       "      <td>0.968930</td>\n",
       "    </tr>\n",
       "    <tr>\n",
       "      <th>12</th>\n",
       "      <td>12</td>\n",
       "      <td>0.966628</td>\n",
       "    </tr>\n",
       "    <tr>\n",
       "      <th>13</th>\n",
       "      <td>13</td>\n",
       "      <td>0.952819</td>\n",
       "    </tr>\n",
       "    <tr>\n",
       "      <th>14</th>\n",
       "      <td>14</td>\n",
       "      <td>0.865362</td>\n",
       "    </tr>\n",
       "    <tr>\n",
       "      <th>15</th>\n",
       "      <td>15</td>\n",
       "      <td>0.802071</td>\n",
       "    </tr>\n",
       "    <tr>\n",
       "      <th>16</th>\n",
       "      <td>16</td>\n",
       "      <td>0.560414</td>\n",
       "    </tr>\n",
       "    <tr>\n",
       "      <th>17</th>\n",
       "      <td>17</td>\n",
       "      <td>0.971231</td>\n",
       "    </tr>\n",
       "    <tr>\n",
       "      <th>18</th>\n",
       "      <td>18</td>\n",
       "      <td>0.971231</td>\n",
       "    </tr>\n",
       "    <tr>\n",
       "      <th>19</th>\n",
       "      <td>19</td>\n",
       "      <td>0.951669</td>\n",
       "    </tr>\n",
       "    <tr>\n",
       "      <th>20</th>\n",
       "      <td>20</td>\n",
       "      <td>0.974684</td>\n",
       "    </tr>\n",
       "    <tr>\n",
       "      <th>21</th>\n",
       "      <td>21</td>\n",
       "      <td>0.888377</td>\n",
       "    </tr>\n",
       "    <tr>\n",
       "      <th>22</th>\n",
       "      <td>22</td>\n",
       "      <td>0.970081</td>\n",
       "    </tr>\n",
       "    <tr>\n",
       "      <th>23</th>\n",
       "      <td>23</td>\n",
       "      <td>0.973533</td>\n",
       "    </tr>\n",
       "    <tr>\n",
       "      <th>24</th>\n",
       "      <td>24</td>\n",
       "      <td>0.960875</td>\n",
       "    </tr>\n",
       "    <tr>\n",
       "      <th>25</th>\n",
       "      <td>25</td>\n",
       "      <td>0.958573</td>\n",
       "    </tr>\n",
       "    <tr>\n",
       "      <th>26</th>\n",
       "      <td>26</td>\n",
       "      <td>0.968930</td>\n",
       "    </tr>\n",
       "    <tr>\n",
       "      <th>27</th>\n",
       "      <td>27</td>\n",
       "      <td>0.933257</td>\n",
       "    </tr>\n",
       "    <tr>\n",
       "      <th>28</th>\n",
       "      <td>28</td>\n",
       "      <td>0.949367</td>\n",
       "    </tr>\n",
       "    <tr>\n",
       "      <th>29</th>\n",
       "      <td>29</td>\n",
       "      <td>0.919448</td>\n",
       "    </tr>\n",
       "    <tr>\n",
       "      <th>30</th>\n",
       "      <td>30</td>\n",
       "      <td>0.962025</td>\n",
       "    </tr>\n",
       "    <tr>\n",
       "      <th>31</th>\n",
       "      <td>31</td>\n",
       "      <td>0.884925</td>\n",
       "    </tr>\n",
       "    <tr>\n",
       "      <th>32</th>\n",
       "      <td>32</td>\n",
       "      <td>0.930955</td>\n",
       "    </tr>\n",
       "    <tr>\n",
       "      <th>33</th>\n",
       "      <td>33</td>\n",
       "      <td>0.928654</td>\n",
       "    </tr>\n",
       "    <tr>\n",
       "      <th>34</th>\n",
       "      <td>34</td>\n",
       "      <td>0.953970</td>\n",
       "    </tr>\n",
       "    <tr>\n",
       "      <th>35</th>\n",
       "      <td>35</td>\n",
       "      <td>0.912543</td>\n",
       "    </tr>\n",
       "  </tbody>\n",
       "</table>\n",
       "</div>\n",
       "      <button class=\"colab-df-convert\" onclick=\"convertToInteractive('df-f1d9170e-6636-47ee-a05a-23d2d21abbfe')\"\n",
       "              title=\"Convert this dataframe to an interactive table.\"\n",
       "              style=\"display:none;\">\n",
       "        \n",
       "  <svg xmlns=\"http://www.w3.org/2000/svg\" height=\"24px\"viewBox=\"0 0 24 24\"\n",
       "       width=\"24px\">\n",
       "    <path d=\"M0 0h24v24H0V0z\" fill=\"none\"/>\n",
       "    <path d=\"M18.56 5.44l.94 2.06.94-2.06 2.06-.94-2.06-.94-.94-2.06-.94 2.06-2.06.94zm-11 1L8.5 8.5l.94-2.06 2.06-.94-2.06-.94L8.5 2.5l-.94 2.06-2.06.94zm10 10l.94 2.06.94-2.06 2.06-.94-2.06-.94-.94-2.06-.94 2.06-2.06.94z\"/><path d=\"M17.41 7.96l-1.37-1.37c-.4-.4-.92-.59-1.43-.59-.52 0-1.04.2-1.43.59L10.3 9.45l-7.72 7.72c-.78.78-.78 2.05 0 2.83L4 21.41c.39.39.9.59 1.41.59.51 0 1.02-.2 1.41-.59l7.78-7.78 2.81-2.81c.8-.78.8-2.07 0-2.86zM5.41 20L4 18.59l7.72-7.72 1.47 1.35L5.41 20z\"/>\n",
       "  </svg>\n",
       "      </button>\n",
       "      \n",
       "  <style>\n",
       "    .colab-df-container {\n",
       "      display:flex;\n",
       "      flex-wrap:wrap;\n",
       "      gap: 12px;\n",
       "    }\n",
       "\n",
       "    .colab-df-convert {\n",
       "      background-color: #E8F0FE;\n",
       "      border: none;\n",
       "      border-radius: 50%;\n",
       "      cursor: pointer;\n",
       "      display: none;\n",
       "      fill: #1967D2;\n",
       "      height: 32px;\n",
       "      padding: 0 0 0 0;\n",
       "      width: 32px;\n",
       "    }\n",
       "\n",
       "    .colab-df-convert:hover {\n",
       "      background-color: #E2EBFA;\n",
       "      box-shadow: 0px 1px 2px rgba(60, 64, 67, 0.3), 0px 1px 3px 1px rgba(60, 64, 67, 0.15);\n",
       "      fill: #174EA6;\n",
       "    }\n",
       "\n",
       "    [theme=dark] .colab-df-convert {\n",
       "      background-color: #3B4455;\n",
       "      fill: #D2E3FC;\n",
       "    }\n",
       "\n",
       "    [theme=dark] .colab-df-convert:hover {\n",
       "      background-color: #434B5C;\n",
       "      box-shadow: 0px 1px 3px 1px rgba(0, 0, 0, 0.15);\n",
       "      filter: drop-shadow(0px 1px 2px rgba(0, 0, 0, 0.3));\n",
       "      fill: #FFFFFF;\n",
       "    }\n",
       "  </style>\n",
       "\n",
       "      <script>\n",
       "        const buttonEl =\n",
       "          document.querySelector('#df-f1d9170e-6636-47ee-a05a-23d2d21abbfe button.colab-df-convert');\n",
       "        buttonEl.style.display =\n",
       "          google.colab.kernel.accessAllowed ? 'block' : 'none';\n",
       "\n",
       "        async function convertToInteractive(key) {\n",
       "          const element = document.querySelector('#df-f1d9170e-6636-47ee-a05a-23d2d21abbfe');\n",
       "          const dataTable =\n",
       "            await google.colab.kernel.invokeFunction('convertToInteractive',\n",
       "                                                     [key], {});\n",
       "          if (!dataTable) return;\n",
       "\n",
       "          const docLinkHtml = 'Like what you see? Visit the ' +\n",
       "            '<a target=\"_blank\" href=https://colab.research.google.com/notebooks/data_table.ipynb>data table notebook</a>'\n",
       "            + ' to learn more about interactive tables.';\n",
       "          element.innerHTML = '';\n",
       "          dataTable['output_type'] = 'display_data';\n",
       "          await google.colab.output.renderOutput(dataTable, element);\n",
       "          const docLink = document.createElement('div');\n",
       "          docLink.innerHTML = docLinkHtml;\n",
       "          element.appendChild(docLink);\n",
       "        }\n",
       "      </script>\n",
       "    </div>\n",
       "  </div>\n",
       "  "
      ],
      "text/plain": [
       "    feature       mae\n",
       "0         0  0.971231\n",
       "1         1  0.886076\n",
       "2         2  0.926352\n",
       "3         3  0.973533\n",
       "4         4  0.966628\n",
       "5         5  0.963176\n",
       "6         6  0.967779\n",
       "7         7  0.940161\n",
       "8         8  0.774453\n",
       "9         9  0.826237\n",
       "10       10  0.642117\n",
       "11       11  0.968930\n",
       "12       12  0.966628\n",
       "13       13  0.952819\n",
       "14       14  0.865362\n",
       "15       15  0.802071\n",
       "16       16  0.560414\n",
       "17       17  0.971231\n",
       "18       18  0.971231\n",
       "19       19  0.951669\n",
       "20       20  0.974684\n",
       "21       21  0.888377\n",
       "22       22  0.970081\n",
       "23       23  0.973533\n",
       "24       24  0.960875\n",
       "25       25  0.958573\n",
       "26       26  0.968930\n",
       "27       27  0.933257\n",
       "28       28  0.949367\n",
       "29       29  0.919448\n",
       "30       30  0.962025\n",
       "31       31  0.884925\n",
       "32       32  0.930955\n",
       "33       33  0.928654\n",
       "34       34  0.953970\n",
       "35       35  0.912543"
      ]
     },
     "execution_count": 85,
     "metadata": {},
     "output_type": "execute_result"
    }
   ],
   "source": [
    "df = pd.DataFrame(results)\n",
    "df"
   ]
  },
  {
   "cell_type": "code",
   "execution_count": 114,
   "metadata": {
    "id": "cbzBrgBHNXxQ"
   },
   "outputs": [],
   "source": [
    "df = pd.DataFrame(results)\n",
    "df_new = np.zeros(36)\n",
    "df_new = np.array(df.mae)\n",
    "df_new_merge = np.zeros(18)\n",
    "df_new_merge[0:18] = (df_new[0::2]+df_new[1::2])/2\n",
    "index_new = np.argsort(df_new_merge)"
   ]
  },
  {
   "cell_type": "code",
   "execution_count": 118,
   "metadata": {
    "colab": {
     "base_uri": "https://localhost:8080/"
    },
    "id": "l9seZglWTD-W",
    "outputId": "ce4a1265-5296-467e-a374-411af0948b22"
   },
   "outputs": [
    {
     "data": {
      "text/plain": [
       "array([0.92865362, 0.94994246, 0.96490219, 0.95397008, 0.80034522,\n",
       "       0.80552359, 0.95972382, 0.83371692, 0.76582278, 0.96144994,\n",
       "       0.93153049, 0.97180667, 0.95972382, 0.95109321, 0.93440736,\n",
       "       0.92347526, 0.92980437, 0.93325662])"
      ]
     },
     "execution_count": 118,
     "metadata": {},
     "output_type": "execute_result"
    }
   ],
   "source": [
    "df_new_merge"
   ]
  },
  {
   "cell_type": "code",
   "execution_count": 117,
   "metadata": {
    "colab": {
     "base_uri": "https://localhost:8080/",
     "height": 1000
    },
    "id": "RIrjNufVJbMd",
    "outputId": "caf661b6-e415-4379-b6de-ff6e89ba9a26"
   },
   "outputs": [
    {
     "data": {
      "image/png": "[encoded data removed]",
      "text/plain": [
       "<Figure size 720x1440 with 1 Axes>"
      ]
     },
     "metadata": {
      "needs_background": "light"
     },
     "output_type": "display_data"
    }
   ],
   "source": [
    "# 展示特征重要性\n",
    "df = pd.DataFrame(df_new_merge)\n",
    "df.columns = ['mae']\n",
    "df = df.sort_values('mae')\n",
    "plt.figure(figsize=(10,20))\n",
    "plt.barh(np.arange(18),df.mae,height = 0.8)\n",
    "plt.yticks(np.arange(18),np.array(index_new))\n",
    "plt.title('LSTM Feature Importance',size=16)\n",
    "plt.ylim((-1,18))\n",
    "plt.xlabel('accuracy',size = 16)\n",
    "plt.ylabel('feature',size = 16)\n",
    "plt.show()"
   ]
  },
  {
   "cell_type": "code",
   "execution_count": 133,
   "metadata": {
    "id": "Mk9UT4b6SQSm"
   },
   "outputs": [],
   "source": [
    "relative_effect =  (1-df_new_merge)*sample_count*frames/value_count\n",
    "relative_effect = relative_effect/np.sum(relative_effect)"
   ]
  },
  {
   "cell_type": "code",
   "execution_count": 149,
   "metadata": {
    "colab": {
     "base_uri": "https://localhost:8080/",
     "height": 1000
    },
    "id": "WnE1xOYlT2bx",
    "outputId": "f2c914f3-dc35-4c3a-8be4-bcd9958c0c8d"
   },
   "outputs": [
    {
     "data": {
      "text/plain": [
       "([<matplotlib.patches.Wedge at 0x7fdf8ab75a90>,\n",
       "  <matplotlib.patches.Wedge at 0x7fdf8ab69490>,\n",
       "  <matplotlib.patches.Wedge at 0x7fdf8ab69610>,\n",
       "  <matplotlib.patches.Wedge at 0x7fdf8ab19a10>,\n",
       "  <matplotlib.patches.Wedge at 0x7fdf8ab9e390>,\n",
       "  <matplotlib.patches.Wedge at 0x7fdf8aab6850>,\n",
       "  <matplotlib.patches.Wedge at 0x7fdf8ab916d0>,\n",
       "  <matplotlib.patches.Wedge at 0x7fdf8ab91610>,\n",
       "  <matplotlib.patches.Wedge at 0x7fdf8ab9e950>,\n",
       "  <matplotlib.patches.Wedge at 0x7fdf8ab9eb10>,\n",
       "  <matplotlib.patches.Wedge at 0x7fdf8ab750d0>,\n",
       "  <matplotlib.patches.Wedge at 0x7fdf8abe8410>,\n",
       "  <matplotlib.patches.Wedge at 0x7fdf8abe8ed0>,\n",
       "  <matplotlib.patches.Wedge at 0x7fdf8ac77510>,\n",
       "  <matplotlib.patches.Wedge at 0x7fdf8ac77b10>,\n",
       "  <matplotlib.patches.Wedge at 0x7fdf8ac9eb10>,\n",
       "  <matplotlib.patches.Wedge at 0x7fdf8abde950>,\n",
       "  <matplotlib.patches.Wedge at 0x7fdf8abde850>],\n",
       " [Text(1.0684722872511379, 0.26147078493843623, '0'),\n",
       "  Text(0.9286786468055016, 0.5895387781711248, '1'),\n",
       "  Text(0.8332726580554553, 0.7180923877449172, '2'),\n",
       "  Text(0.7245282737246879, 0.8276827777436981, '3'),\n",
       "  Text(0.2834241861031708, 1.0628596947536186, '4'),\n",
       "  Text(-0.4785479858241183, 0.9904503143841592, '5'),\n",
       "  Text(-0.829056869209435, 0.7229555364036228, '6'),\n",
       "  Text(-1.04092088139165, 0.3556454958000038, '7'),\n",
       "  Text(-1.0180702965710735, -0.4165727682406601, '8'),\n",
       "  Text(-0.7218755040150004, -0.8299974437931055, '9'),\n",
       "  Text(-0.5586331447729056, -0.9475911616098653, '10'),\n",
       "  Text(-0.3949670953002354, -1.0266455053376968, '11'),\n",
       "  Text(-0.2722702372406374, -1.0657715129955985, '12'),\n",
       "  Text(-0.10708623228376551, -1.0947751088032955, '13'),\n",
       "  Text(0.23102446254021672, -1.0754662699071524, '14'),\n",
       "  Text(0.7149710286286687, -0.8359524078688114, '15'),\n",
       "  Text(0.9930315495684389, -0.4731684071889261, '16'),\n",
       "  Text(1.0879240065238105, -0.16254647344430392, '17')],\n",
       " [Text(0.5828030657733478, 0.14262042814823794, '7.64%'),\n",
       "  Text(0.5065519891666371, 0.32156660627515893, '2.73%'),\n",
       "  Text(0.45451235893933917, 0.39168675695177296, '1.91%'),\n",
       "  Text(0.3951972402134661, 0.45146333331474436, '2.56%'),\n",
       "  Text(0.1545950106017295, 0.579741651683792, '12.03%'),\n",
       "  Text(-0.2610261740858827, 0.5402456260277231, '10.59%'),\n",
       "  Text(-0.45221283775060084, 0.3943393834928851, '2.26%'),\n",
       "  Text(-0.5677750262136272, 0.1939884522545475, '10.09%'),\n",
       "  Text(-0.5553110708569491, -0.22722150994945092, '12.75%'),\n",
       "  Text(-0.39375027491727294, -0.4527258784326029, '2.10%'),\n",
       "  Text(-0.30470898805794844, -0.5168679063326538, '3.73%'),\n",
       "  Text(-0.215436597436492, -0.5599884574569255, '1.54%'),\n",
       "  Text(-0.1485110384948931, -0.5813299161794173, '2.19%'),\n",
       "  Text(-0.058410672154781185, -0.5971500593472521, '2.66%'),\n",
       "  Text(0.12601334320375457, -0.5866179654039013, '7.17%'),\n",
       "  Text(0.38998419743381924, -0.4559740406557153, '8.61%'),\n",
       "  Text(0.5416535724918756, -0.258091858466687, '4.71%'),\n",
       "  Text(0.593413094467533, -0.08866171278780213, '4.72%')])"
      ]
     },
     "execution_count": 149,
     "metadata": {},
     "output_type": "execute_result"
    },
    {
     "data": {
      "image/png": "[encoded data removed]",
      "text/plain": [
       "<Figure size 720x720 with 1 Axes>"
      ]
     },
     "metadata": {},
     "output_type": "display_data"
    }
   ],
   "source": [
    "plt.figure(figsize=(10,10))\n",
    "plt.title('Importance of each joint-point')\n",
    "plt.pie(relative_effect,autopct='%.2f%%', labels = numBins)\n"
   ]
  },
  {
   "cell_type": "code",
   "execution_count": 99,
   "metadata": {
    "colab": {
     "base_uri": "https://localhost:8080/",
     "height": 1000
    },
    "id": "WU_zD0aRdMN4",
    "outputId": "c93f66e4-f01e-4daf-a514-d4e405232038"
   },
   "outputs": [
    {
     "data": {
      "image/png": "[encoded data removed]",
      "text/plain": [
       "<Figure size 720x1440 with 1 Axes>"
      ]
     },
     "metadata": {
      "needs_background": "light"
     },
     "output_type": "display_data"
    }
   ],
   "source": [
    "# 展示特征重要性\n",
    "df = pd.DataFrame(results)\n",
    "df = df.sort_values('mae')\n",
    "plt.figure(figsize=(10,20))\n",
    "plt.barh(np.arange(COLS),df.mae,height = 0.8)\n",
    "plt.yticks(np.arange(COLS),df.feature.values)\n",
    "plt.title('LSTM Feature Importance',size=16)\n",
    "plt.ylim((-1,COLS))\n",
    "plt.xlabel('accuracy',size = 16)\n",
    "plt.ylabel('feature',size = 16)\n",
    "# for a,b in zip(np.arange(COLS),df.mae):\n",
    "\n",
    "#   plt.text(a, b+0.05, '%.0f' % b, ha='center', va= 'bottom',fontsize=7)\n",
    "plt.show()"
   ]
  },
  {
   "cell_type": "code",
   "execution_count": null,
   "metadata": {
    "id": "OgfPD6V-cKis"
   },
   "outputs": [],
   "source": [
    "relatvie_effect = np.zeros(36)\n",
    "for i in range(dimension):\n",
    "  relatvie_effect[i] = (1 - results[i]['mae'])/value_count[i] * sample_count *  frames\n",
    "  "
   ]
  },
  {
   "cell_type": "code",
   "execution_count": null,
   "metadata": {
    "colab": {
     "base_uri": "https://localhost:8080/"
    },
    "id": "qKzihI-AgJ4O",
    "outputId": "38873355-3d14-40e0-91d2-e6c4e6442910"
   },
   "outputs": [
    {
     "data": {
      "text/plain": [
       "array([0.04319772, 0.16369663, 0.04921414, 0.02434622, 0.02539064,\n",
       "       0.02556455, 0.02753494, 0.04849702, 0.19679705, 0.15584506,\n",
       "       0.28034206, 0.02191259, 0.02714815, 0.03339937, 0.11672073,\n",
       "       0.17087149, 0.41163574, 0.02625982, 0.02504559, 0.04365586,\n",
       "       0.02418127, 0.09115815, 0.02921602, 0.02382497, 0.02626388,\n",
       "       0.03461267, 0.02557285, 0.05375518, 0.06892179, 0.12452537,\n",
       "       0.06928441, 0.21265513, 0.05488616, 0.07216109, 0.03910608,\n",
       "       0.0866737 ])"
      ]
     },
     "execution_count": 64,
     "metadata": {},
     "output_type": "execute_result"
    }
   ],
   "source": [
    "relatvie_effect"
   ]
  },
  {
   "cell_type": "code",
   "execution_count": null,
   "metadata": {
    "colab": {
     "base_uri": "https://localhost:8080/"
    },
    "id": "tdky_qb-ha6K",
    "outputId": "6a1a3606-326f-4528-bbe8-ea8df00e2d7b"
   },
   "outputs": [
    {
     "data": {
      "text/plain": [
       "array([16, 10, 31,  8, 15,  1,  9, 29, 14, 21, 35, 33, 30, 28, 32, 27,  2,\n",
       "        7, 19,  0, 34, 25, 13, 22,  6, 12, 24, 17, 26,  5,  4, 18,  3, 20,\n",
       "       23, 11])"
      ]
     },
     "execution_count": 65,
     "metadata": {},
     "output_type": "execute_result"
    }
   ],
   "source": [
    "relatvie_effect_order = np.argsort(relatvie_effect)[::-1]\n",
    "relatvie_effect_order"
   ]
  },
  {
   "cell_type": "code",
   "execution_count": null,
   "metadata": {
    "id": "8EQRUrSYh3yd"
   },
   "outputs": [],
   "source": [
    "df.to_csv(f'lstm_feature_importance.csv',index=False)"
   ]
  }
 ],
 "metadata": {
  "accelerator": "GPU",
  "colab": {
   "collapsed_sections": [],
   "machine_shape": "hm",
   "name": "lstm.ipynb",
   "provenance": []
  },
  "gpuClass": "standard",
  "kernelspec": {
   "display_name": "Python 3 (ipykernel)",
   "language": "python",
   "name": "python3"
  },
  "language_info": {
   "codemirror_mode": {
    "name": "ipython",
    "version": 3
   },
   "file_extension": ".py",
   "mimetype": "text/x-python",
   "name": "python",
   "nbconvert_exporter": "python",
   "pygments_lexer": "ipython3",
   "version": "3.7.11"
  },
  "widgets": {
   "application/vnd.jupyter.widget-state+json": {
    "1fb9f32a88c74128b7b1475f17dbc748": {
     "model_module": "@jupyter-widgets/base",
     "model_module_version": "1.2.0",
     "model_name": "LayoutModel",
     "state": {
      "_model_module": "@jupyter-widgets/base",
      "_model_module_version": "1.2.0",
      "_model_name": "LayoutModel",
      "_view_count": null,
      "_view_module": "@jupyter-widgets/base",
      "_view_module_version": "1.2.0",
      "_view_name": "LayoutView",
      "align_content": null,
      "align_items": null,
      "align_self": null,
      "border": null,
      "bottom": null,
      "display": null,
      "flex": null,
      "flex_flow": null,
      "grid_area": null,
      "grid_auto_columns": null,
      "grid_auto_flow": null,
      "grid_auto_rows": null,
      "grid_column": null,
      "grid_gap": null,
      "grid_row": null,
      "grid_template_areas": null,
      "grid_template_columns": null,
      "grid_template_rows": null,
      "height": null,
      "justify_content": null,
      "justify_items": null,
      "left": null,
      "margin": null,
      "max_height": null,
      "max_width": null,
      "min_height": null,
      "min_width": null,
      "object_fit": null,
      "object_position": null,
      "order": null,
      "overflow": null,
      "overflow_x": null,
      "overflow_y": null,
      "padding": null,
      "right": null,
      "top": null,
      "visibility": null,
      "width": null
     }
    },
    "3e1f579e4d384916b0ee8e8ca97b31a4": {
     "model_module": "@jupyter-widgets/controls",
     "model_module_version": "1.5.0",
     "model_name": "FloatProgressModel",
     "state": {
      "_dom_classes": [],
      "_model_module": "@jupyter-widgets/controls",
      "_model_module_version": "1.5.0",
      "_model_name": "FloatProgressModel",
      "_view_count": null,
      "_view_module": "@jupyter-widgets/controls",
      "_view_module_version": "1.5.0",
      "_view_name": "ProgressView",
      "bar_style": "success",
      "description": "",
      "description_tooltip": null,
      "layout": "IPY_MODEL_1fb9f32a88c74128b7b1475f17dbc748",
      "max": 36,
      "min": 0,
      "orientation": "horizontal",
      "style": "IPY_MODEL_7417e09f733f40d790f48b9c513cfd14",
      "value": 36
     }
    },
    "7417e09f733f40d790f48b9c513cfd14": {
     "model_module": "@jupyter-widgets/controls",
     "model_module_version": "1.5.0",
     "model_name": "ProgressStyleModel",
     "state": {
      "_model_module": "@jupyter-widgets/controls",
      "_model_module_version": "1.5.0",
      "_model_name": "ProgressStyleModel",
      "_view_count": null,
      "_view_module": "@jupyter-widgets/base",
      "_view_module_version": "1.2.0",
      "_view_name": "StyleView",
      "bar_color": null,
      "description_width": ""
     }
    },
    "74649e05776b461aa6e9dd0aff860daa": {
     "model_module": "@jupyter-widgets/base",
     "model_module_version": "1.2.0",
     "model_name": "LayoutModel",
     "state": {
      "_model_module": "@jupyter-widgets/base",
      "_model_module_version": "1.2.0",
      "_model_name": "LayoutModel",
      "_view_count": null,
      "_view_module": "@jupyter-widgets/base",
      "_view_module_version": "1.2.0",
      "_view_name": "LayoutView",
      "align_content": null,
      "align_items": null,
      "align_self": null,
      "border": null,
      "bottom": null,
      "display": null,
      "flex": null,
      "flex_flow": null,
      "grid_area": null,
      "grid_auto_columns": null,
      "grid_auto_flow": null,
      "grid_auto_rows": null,
      "grid_column": null,
      "grid_gap": null,
      "grid_row": null,
      "grid_template_areas": null,
      "grid_template_columns": null,
      "grid_template_rows": null,
      "height": null,
      "justify_content": null,
      "justify_items": null,
      "left": null,
      "margin": null,
      "max_height": null,
      "max_width": null,
      "min_height": null,
      "min_width": null,
      "object_fit": null,
      "object_position": null,
      "order": null,
      "overflow": null,
      "overflow_x": null,
      "overflow_y": null,
      "padding": null,
      "right": null,
      "top": null,
      "visibility": null,
      "width": null
     }
    },
    "97848d4102404cc7ab374f441b38bf09": {
     "model_module": "@jupyter-widgets/controls",
     "model_module_version": "1.5.0",
     "model_name": "DescriptionStyleModel",
     "state": {
      "_model_module": "@jupyter-widgets/controls",
      "_model_module_version": "1.5.0",
      "_model_name": "DescriptionStyleModel",
      "_view_count": null,
      "_view_module": "@jupyter-widgets/base",
      "_view_module_version": "1.2.0",
      "_view_name": "StyleView",
      "description_width": ""
     }
    },
    "ac4fe8c6934440cb8d7643d838b5e04c": {
     "model_module": "@jupyter-widgets/base",
     "model_module_version": "1.2.0",
     "model_name": "LayoutModel",
     "state": {
      "_model_module": "@jupyter-widgets/base",
      "_model_module_version": "1.2.0",
      "_model_name": "LayoutModel",
      "_view_count": null,
      "_view_module": "@jupyter-widgets/base",
      "_view_module_version": "1.2.0",
      "_view_name": "LayoutView",
      "align_content": null,
      "align_items": null,
      "align_self": null,
      "border": null,
      "bottom": null,
      "display": null,
      "flex": null,
      "flex_flow": null,
      "grid_area": null,
      "grid_auto_columns": null,
      "grid_auto_flow": null,
      "grid_auto_rows": null,
      "grid_column": null,
      "grid_gap": null,
      "grid_row": null,
      "grid_template_areas": null,
      "grid_template_columns": null,
      "grid_template_rows": null,
      "height": null,
      "justify_content": null,
      "justify_items": null,
      "left": null,
      "margin": null,
      "max_height": null,
      "max_width": null,
      "min_height": null,
      "min_width": null,
      "object_fit": null,
      "object_position": null,
      "order": null,
      "overflow": null,
      "overflow_x": null,
      "overflow_y": null,
      "padding": null,
      "right": null,
      "top": null,
      "visibility": null,
      "width": null
     }
    },
    "b8e179e318d2469bbaed5d558957dc5b": {
     "model_module": "@jupyter-widgets/controls",
     "model_module_version": "1.5.0",
     "model_name": "DescriptionStyleModel",
     "state": {
      "_model_module": "@jupyter-widgets/controls",
      "_model_module_version": "1.5.0",
      "_model_name": "DescriptionStyleModel",
      "_view_count": null,
      "_view_module": "@jupyter-widgets/base",
      "_view_module_version": "1.2.0",
      "_view_name": "StyleView",
      "description_width": ""
     }
    },
    "c75f04eefde6437e936353902f8f89b0": {
     "model_module": "@jupyter-widgets/base",
     "model_module_version": "1.2.0",
     "model_name": "LayoutModel",
     "state": {
      "_model_module": "@jupyter-widgets/base",
      "_model_module_version": "1.2.0",
      "_model_name": "LayoutModel",
      "_view_count": null,
      "_view_module": "@jupyter-widgets/base",
      "_view_module_version": "1.2.0",
      "_view_name": "LayoutView",
      "align_content": null,
      "align_items": null,
      "align_self": null,
      "border": null,
      "bottom": null,
      "display": null,
      "flex": null,
      "flex_flow": null,
      "grid_area": null,
      "grid_auto_columns": null,
      "grid_auto_flow": null,
      "grid_auto_rows": null,
      "grid_column": null,
      "grid_gap": null,
      "grid_row": null,
      "grid_template_areas": null,
      "grid_template_columns": null,
      "grid_template_rows": null,
      "height": null,
      "justify_content": null,
      "justify_items": null,
      "left": null,
      "margin": null,
      "max_height": null,
      "max_width": null,
      "min_height": null,
      "min_width": null,
      "object_fit": null,
      "object_position": null,
      "order": null,
      "overflow": null,
      "overflow_x": null,
      "overflow_y": null,
      "padding": null,
      "right": null,
      "top": null,
      "visibility": null,
      "width": null
     }
    },
    "da62b060f3aa493e993891bc712dd02c": {
     "model_module": "@jupyter-widgets/controls",
     "model_module_version": "1.5.0",
     "model_name": "HTMLModel",
     "state": {
      "_dom_classes": [],
      "_model_module": "@jupyter-widgets/controls",
      "_model_module_version": "1.5.0",
      "_model_name": "HTMLModel",
      "_view_count": null,
      "_view_module": "@jupyter-widgets/controls",
      "_view_module_version": "1.5.0",
      "_view_name": "HTMLView",
      "description": "",
      "description_tooltip": null,
      "layout": "IPY_MODEL_c75f04eefde6437e936353902f8f89b0",
      "placeholder": "​",
      "style": "IPY_MODEL_b8e179e318d2469bbaed5d558957dc5b",
      "value": " 36/36 [00:23&lt;00:00,  1.42it/s]"
     }
    },
    "f594be3d7f364d019189e528e5358518": {
     "model_module": "@jupyter-widgets/controls",
     "model_module_version": "1.5.0",
     "model_name": "HBoxModel",
     "state": {
      "_dom_classes": [],
      "_model_module": "@jupyter-widgets/controls",
      "_model_module_version": "1.5.0",
      "_model_name": "HBoxModel",
      "_view_count": null,
      "_view_module": "@jupyter-widgets/controls",
      "_view_module_version": "1.5.0",
      "_view_name": "HBoxView",
      "box_style": "",
      "children": [
       "IPY_MODEL_fd45ed1410ff4b84bf6e8772475fb834",
       "IPY_MODEL_3e1f579e4d384916b0ee8e8ca97b31a4",
       "IPY_MODEL_da62b060f3aa493e993891bc712dd02c"
      ],
      "layout": "IPY_MODEL_74649e05776b461aa6e9dd0aff860daa"
     }
    },
    "fd45ed1410ff4b84bf6e8772475fb834": {
     "model_module": "@jupyter-widgets/controls",
     "model_module_version": "1.5.0",
     "model_name": "HTMLModel",
     "state": {
      "_dom_classes": [],
      "_model_module": "@jupyter-widgets/controls",
      "_model_module_version": "1.5.0",
      "_model_name": "HTMLModel",
      "_view_count": null,
      "_view_module": "@jupyter-widgets/controls",
      "_view_module_version": "1.5.0",
      "_view_name": "HTMLView",
      "description": "",
      "description_tooltip": null,
      "layout": "IPY_MODEL_ac4fe8c6934440cb8d7643d838b5e04c",
      "placeholder": "​",
      "style": "IPY_MODEL_97848d4102404cc7ab374f441b38bf09",
      "value": "100%"
     }
    }
   }
  }
 },
 "nbformat": 4,
 "nbformat_minor": 1
}
