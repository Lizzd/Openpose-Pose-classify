{
 "cells": [
  {
   "cell_type": "code",
   "execution_count": 466,
   "metadata": {
    "executionInfo": {
     "elapsed": 1070,
     "status": "ok",
     "timestamp": 1658752339261,
     "user": {
      "displayName": "Tian Zheng",
      "userId": "05669554605213271767"
     },
     "user_tz": -120
    },
    "id": "9IJtVWKNsgo1"
   },
   "outputs": [],
   "source": [
    "import numpy as np\n",
    "from scipy import integrate,interpolate\n",
    "import pylab as pl\n",
    "import pandas as pd\n",
    "import csv\n",
    "import pickle\n",
    "from random import choice\n",
    "from sklearn.model_selection import train_test_split\n",
    "interpolation_kind_list=['linear','nearest','zero','slinear','quadratic','cubic']\n",
    "interpolation_kind = interpolation_kind_list[4]\n",
    "sample_frame = 32\n",
    "shift_step = 50  # larger means smaller step when shifting \n"
   ]
  },
  {
   "cell_type": "markdown",
   "metadata": {
    "id": "UA3-by1xOyXd"
   },
   "source": [
    "### IMUData-Collecting\n",
    " "
   ]
  },
  {
   "cell_type": "code",
   "execution_count": 467,
   "metadata": {
    "colab": {
     "base_uri": "https://localhost:8080/"
    },
    "executionInfo": {
     "elapsed": 1858855,
     "status": "ok",
     "timestamp": 1658751073632,
     "user": {
      "displayName": "Tian Zheng",
      "userId": "05669554605213271767"
     },
     "user_tz": -120
    },
    "id": "1DwTlcgNsjwY",
    "outputId": "48c1dff2-b183-4bdf-9f7b-64ff6a32df89"
   },
   "outputs": [],
   "source": [
    "data = []\n",
    "data_time = []\n",
    "for action in range(1,7):\n",
    "  for subject in range(1,13):\n",
    "    for repeat in range(1,6):\n",
    "      if subject>=10:\n",
    "        camera_time_stamp = \"time_stamps_img_s\"+str(subject)+\"_a0\"+str(action)+\"_r0\"+str(repeat)\n",
    "      else:\n",
    "        camera_time_stamp = \"time_stamps_img_s0\"+str(subject)+\"_a0\"+str(action)+\"_r0\"+str(repeat)\n",
    "      data_spec_video = []\n",
    "      for imu in range(1,7):\n",
    "        if subject>=10:\n",
    "          file_name_acc = \"acc_h0\"+str(imu)+\"_s\"+str(subject)+\"_a0\"+str(action)+\"_r0\"+str(repeat)\n",
    "        else:\n",
    "          file_name_acc = \"acc_h0\"+str(imu)+\"_s0\"+str(subject)+\"_a0\"+str(action)+\"_r0\"+str(repeat)\n",
    "        file = open(\"C:/Users/zheng/myjupyternotebookscripts/myjupyterscript/Kurs_CACM/Accelerometer/Shimmer0\"+str(imu)+\"/\"+file_name_acc+\".txt\")\n",
    "        lines = file.readlines()\n",
    "        data_spec_imu = []\n",
    "        for line in lines:\n",
    "          # line = line.strip(\"\\n\")\n",
    "          # line = line.split()\n",
    "          line = [float(x) for x in line.split()]\n",
    "          data_spec_imu.append(line)\n",
    "        data_spec_video.append(data_spec_imu)\n",
    "      data.append(data_spec_video)\n",
    "\n",
    "      camera_time_file = open(\"C:/Users/zheng/myjupyternotebookscripts/myjupyterscript/Kurs_CACM/Time_stamps/\"+camera_time_stamp+\".txt\")\n",
    "      camera_time_lines = camera_time_file.readlines()\n",
    "      data_time_spec_video = []\n",
    "      for line in camera_time_lines:\n",
    "        # line = line.strip(\"\\n\")\n",
    "        # line = line.split()\n",
    "        line = [float(x) for x in line.split()]\n",
    "        data_time_spec_video.append(line)\n",
    "      data_time.append(data_time_spec_video)\n",
    "      "
   ]
  },
  {
   "cell_type": "code",
   "execution_count": 468,
   "metadata": {
    "colab": {
     "base_uri": "https://localhost:8080/",
     "height": 191
    },
    "executionInfo": {
     "elapsed": 4,
     "status": "error",
     "timestamp": 1658753383850,
     "user": {
      "displayName": "Tian Zheng",
      "userId": "05669554605213271767"
     },
     "user_tz": -120
    },
    "id": "q_KrP9LY85r_",
    "outputId": "0f4e11ad-662a-4946-ec86-9f9575e08ca9"
   },
   "outputs": [
    {
     "name": "stderr",
     "output_type": "stream",
     "text": [
      "C:\\Users\\zheng\\anaconda3\\envs\\tensorflow\\lib\\site-packages\\ipykernel_launcher.py:1: VisibleDeprecationWarning: Creating an ndarray from ragged nested sequences (which is a list-or-tuple of lists-or-tuples-or ndarrays with different lengths or shapes) is deprecated. If you meant to do this, you must specify 'dtype=object' when creating the ndarray.\n",
      "  \"\"\"Entry point for launching an IPython kernel.\n",
      "C:\\Users\\zheng\\anaconda3\\envs\\tensorflow\\lib\\site-packages\\ipykernel_launcher.py:2: VisibleDeprecationWarning: Creating an ndarray from ragged nested sequences (which is a list-or-tuple of lists-or-tuples-or ndarrays with different lengths or shapes) is deprecated. If you meant to do this, you must specify 'dtype=object' when creating the ndarray.\n",
      "  \n"
     ]
    }
   ],
   "source": [
    "data_array = np.array(data)\n",
    "data_time_array = np.array(data_time)"
   ]
  },
  {
   "cell_type": "code",
   "execution_count": 469,
   "metadata": {
    "executionInfo": {
     "elapsed": 7,
     "status": "ok",
     "timestamp": 1658751073634,
     "user": {
      "displayName": "Tian Zheng",
      "userId": "05669554605213271767"
     },
     "user_tz": -120
    },
    "id": "x70vJbWlv9ZR"
   },
   "outputs": [],
   "source": [
    "def sample2targetframes(i,data_time,data,sample_frame,shift_step,action,y_data,translation_new):\n",
    "  \n",
    "  time = data_time[i]\n",
    "  time_array = np.array(time)\n",
    "\n",
    "  ## imu values at own timestamp\n",
    "  imu_1_array,imu_1_old_time,imu_1_translation_x,imu_1_translation_y,imu_1_translation_z = imu_translation(data,i,0)\n",
    "  imu_2_array,imu_2_old_time,imu_2_translation_x,imu_2_translation_y,imu_2_translation_z = imu_translation(data,i,1)\n",
    "  imu_3_array,imu_3_old_time,imu_3_translation_x,imu_3_translation_y,imu_3_translation_z = imu_translation(data,i,2)\n",
    "  imu_4_array,imu_4_old_time,imu_4_translation_x,imu_4_translation_y,imu_4_translation_z = imu_translation(data,i,3)\n",
    "  imu_5_array,imu_5_old_time,imu_5_translation_x,imu_5_translation_y,imu_5_translation_z = imu_translation(data,i,4)\n",
    "  imu_6_array,imu_6_old_time,imu_6_translation_x,imu_6_translation_y,imu_6_translation_z = imu_translation(data,i,5)\n",
    "\n",
    "  ## let the new time(camera timestamp) lie inside the old time(imu timestamp)\n",
    "  begin = 0\n",
    "  max_imu_begin_time = max(imu_1_array[1,3],imu_2_array[1,3],imu_3_array[1,3],imu_4_array[1,3],imu_5_array[1,3],imu_6_array[1,3])\n",
    "  while max_imu_begin_time > time_array[begin,1]:\n",
    "    begin = begin+1\n",
    "  end = 1\n",
    "  min_imu_end_time = min(imu_1_array[-1,3],imu_2_array[-1,3],imu_3_array[-1,3],imu_4_array[-1,3],imu_5_array[-1,3],imu_6_array[-1,3])\n",
    "  while min_imu_end_time < time_array[-end,1]:\n",
    "    end = end+1\n",
    "  time_new=time_array[begin:-end,1]\n",
    "\n",
    "  ## f是一个函数，用这个函数就可以找插值点的函数值了：\n",
    "  f1_x,f1_y,f1_z = interp_function(imu_1_old_time,imu_1_translation_x,imu_1_translation_y,imu_1_translation_z,interpolation_kind)\n",
    "  f2_x,f2_y,f2_z = interp_function(imu_2_old_time,imu_2_translation_x,imu_2_translation_y,imu_2_translation_z,interpolation_kind)\n",
    "  f3_x,f3_y,f3_z = interp_function(imu_3_old_time,imu_3_translation_x,imu_3_translation_y,imu_3_translation_z,interpolation_kind)\n",
    "  f4_x,f4_y,f4_z = interp_function(imu_4_old_time,imu_4_translation_x,imu_4_translation_y,imu_4_translation_z,interpolation_kind)\n",
    "  f5_x,f5_y,f5_z = interp_function(imu_5_old_time,imu_5_translation_x,imu_5_translation_y,imu_5_translation_z,interpolation_kind)\n",
    "  f6_x,f6_y,f6_z = interp_function(imu_6_old_time,imu_6_translation_x,imu_6_translation_y,imu_6_translation_z,interpolation_kind)\n",
    "\n",
    "  down_scale = time_array.shape[0]//sample_frame  #3\n",
    "  shift_size = sample_frame*down_scale  #96=32*3\n",
    "  step = shift_size//shift_step  #2=96//40\n",
    "  sample_num_in_video = (time_new.shape[0]-shift_size)//step+1\n",
    "  for sample in range(sample_num_in_video):\n",
    "    time_new_sample = time_new[sample*step:sample*step+shift_size]\n",
    "    time_new_sample_choice = [choice(time_new_sample[i*down_scale:i*down_scale+down_scale]) for i in range(sample_frame)]\n",
    "    \n",
    "\n",
    "    ## imu values at camera timestamp\n",
    "    new1_x,new1_y,new1_z = returnnew_imu(f1_x,f1_y,f1_z,time_new_sample_choice)\n",
    "    new2_x,new2_y,new2_z = returnnew_imu(f2_x,f2_y,f2_z,time_new_sample_choice)\n",
    "    new3_x,new3_y,new3_z = returnnew_imu(f3_x,f3_y,f3_z,time_new_sample_choice)\n",
    "    new4_x,new4_y,new4_z = returnnew_imu(f4_x,f4_y,f4_z,time_new_sample_choice)\n",
    "    new5_x,new5_y,new5_z = returnnew_imu(f5_x,f5_y,f5_z,time_new_sample_choice)\n",
    "    new6_x,new6_y,new6_z = returnnew_imu(f6_x,f6_y,f6_z,time_new_sample_choice)\n",
    "    \n",
    "    temp = [new1_x,new1_y,new1_z,new2_x,new2_y,new2_z,new3_x,new3_y,new3_z,new4_x,new4_y,new4_z,new5_x,new5_y,new5_z,new6_x,new6_y,new6_z]\n",
    "    temp_array = np.array(temp)\n",
    "    temp_after = temp_array.transpose(1,0)\n",
    "    translation_new.append(temp_after.tolist())\n",
    "    \n",
    "    y_data.append(action)\n",
    "  return translation_new,y_data "
   ]
  },
  {
   "cell_type": "code",
   "execution_count": 470,
   "metadata": {},
   "outputs": [],
   "source": [
    "def sample2targetframes_boxing(i,data_time,data,sample_frame,shift_step,action,y_data,translation_new):\n",
    "  \n",
    "  time = data_time[i]\n",
    "  time_array = np.array(time)\n",
    "\n",
    "  ## imu values at own timestamp\n",
    "  imu_1_array,imu_1_old_time,imu_1_translation_x,imu_1_translation_y,imu_1_translation_z = imu_translation(data,i,0)\n",
    "  imu_2_array,imu_2_old_time,imu_2_translation_x,imu_2_translation_y,imu_2_translation_z = imu_translation(data,i,1)\n",
    "  imu_3_array,imu_3_old_time,imu_3_translation_x,imu_3_translation_y,imu_3_translation_z = imu_translation(data,i,2)\n",
    "  imu_4_array,imu_4_old_time,imu_4_translation_x,imu_4_translation_y,imu_4_translation_z = imu_translation(data,i,3)\n",
    "  imu_5_array,imu_5_old_time,imu_5_translation_x,imu_5_translation_y,imu_5_translation_z = imu_translation(data,i,4)\n",
    "  imu_6_array,imu_6_old_time,imu_6_translation_x,imu_6_translation_y,imu_6_translation_z = imu_translation(data,i,5)\n",
    "\n",
    "  ## let the new time(camera timestamp) lie inside the old time(imu timestamp)\n",
    "  begin = 0\n",
    "  max_imu_begin_time = max(imu_1_array[1,3],imu_2_array[1,3],imu_3_array[1,3],imu_4_array[1,3],imu_5_array[1,3],imu_6_array[1,3])\n",
    "  while max_imu_begin_time > time_array[begin,1]:\n",
    "    begin = begin+1\n",
    "  end = 1\n",
    "  min_imu_end_time = min(imu_1_array[-1,3],imu_2_array[-1,3],imu_3_array[-1,3],imu_4_array[-1,3],imu_5_array[-1,3],imu_6_array[-1,3])\n",
    "  while min_imu_end_time < time_array[-end,1]:\n",
    "    end = end+1\n",
    "  time_new=time_array[begin:-end,1]\n",
    "\n",
    "  ## f是一个函数，用这个函数就可以找插值点的函数值了：\n",
    "  f1_x,f1_y,f1_z = interp_function(imu_1_old_time,imu_1_translation_x,imu_1_translation_y,imu_1_translation_z,interpolation_kind)\n",
    "  f2_x,f2_y,f2_z = interp_function(imu_2_old_time,imu_2_translation_x,imu_2_translation_y,imu_2_translation_z,interpolation_kind)\n",
    "  f3_x,f3_y,f3_z = interp_function(imu_3_old_time,imu_3_translation_x,imu_3_translation_y,imu_3_translation_z,interpolation_kind)\n",
    "  f4_x,f4_y,f4_z = interp_function(imu_4_old_time,imu_4_translation_x,imu_4_translation_y,imu_4_translation_z,interpolation_kind)\n",
    "  f5_x,f5_y,f5_z = interp_function(imu_5_old_time,imu_5_translation_x,imu_5_translation_y,imu_5_translation_z,interpolation_kind)\n",
    "  f6_x,f6_y,f6_z = interp_function(imu_6_old_time,imu_6_translation_x,imu_6_translation_y,imu_6_translation_z,interpolation_kind)\n",
    "\n",
    "#   down_scale = time_array.shape[0]//sample_frame  #3\n",
    "  down_scale = 8\n",
    "  shift_size = sample_frame*down_scale  #96=32*3\n",
    "#   step = shift_size//shift_step  #2=96//40\n",
    "  step = 6\n",
    "  sample_num_in_video = (time_new.shape[0]-shift_size)//step+1\n",
    "  for sample in range(sample_num_in_video):\n",
    "    time_new_sample = time_new[sample*step:sample*step+shift_size]\n",
    "    time_new_sample_choice = [choice(time_new_sample[i*down_scale:i*down_scale+down_scale]) for i in range(sample_frame)]\n",
    "    \n",
    "    \n",
    "    ## imu values at camera timestamp\n",
    "    new1_x,new1_y,new1_z = returnnew_imu(f1_x,f1_y,f1_z,time_new_sample_choice)\n",
    "    new2_x,new2_y,new2_z = returnnew_imu(f2_x,f2_y,f2_z,time_new_sample_choice)\n",
    "    new3_x,new3_y,new3_z = returnnew_imu(f3_x,f3_y,f3_z,time_new_sample_choice)\n",
    "    new4_x,new4_y,new4_z = returnnew_imu(f4_x,f4_y,f4_z,time_new_sample_choice)\n",
    "    new5_x,new5_y,new5_z = returnnew_imu(f5_x,f5_y,f5_z,time_new_sample_choice)\n",
    "    new6_x,new6_y,new6_z = returnnew_imu(f6_x,f6_y,f6_z,time_new_sample_choice)\n",
    "    \n",
    "    temp = [new1_x,new1_y,new1_z,new2_x,new2_y,new2_z,new3_x,new3_y,new3_z,new4_x,new4_y,new4_z,new5_x,new5_y,new5_z,new6_x,new6_y,new6_z]\n",
    "    temp_array = np.array(temp)\n",
    "    temp_after = temp_array.transpose(1,0)\n",
    "    translation_new.append(temp_after.tolist())\n",
    "    \n",
    "    y_data.append(action)\n",
    "  return translation_new,y_data "
   ]
  },
  {
   "cell_type": "code",
   "execution_count": 471,
   "metadata": {},
   "outputs": [],
   "source": [
    "def sample2targetframes_jumpingjack(i,data_time,data,sample_frame,shift_step,action,y_data,translation_new):\n",
    "  \n",
    "  time = data_time[i]\n",
    "  time_array = np.array(time)\n",
    "\n",
    "  ## imu values at own timestamp\n",
    "  imu_1_array,imu_1_old_time,imu_1_translation_x,imu_1_translation_y,imu_1_translation_z = imu_translation(data,i,0)\n",
    "  imu_2_array,imu_2_old_time,imu_2_translation_x,imu_2_translation_y,imu_2_translation_z = imu_translation(data,i,1)\n",
    "  imu_3_array,imu_3_old_time,imu_3_translation_x,imu_3_translation_y,imu_3_translation_z = imu_translation(data,i,2)\n",
    "  imu_4_array,imu_4_old_time,imu_4_translation_x,imu_4_translation_y,imu_4_translation_z = imu_translation(data,i,3)\n",
    "  imu_5_array,imu_5_old_time,imu_5_translation_x,imu_5_translation_y,imu_5_translation_z = imu_translation(data,i,4)\n",
    "  imu_6_array,imu_6_old_time,imu_6_translation_x,imu_6_translation_y,imu_6_translation_z = imu_translation(data,i,5)\n",
    "\n",
    "  ## let the new time(camera timestamp) lie inside the old time(imu timestamp)\n",
    "  begin = 0\n",
    "  max_imu_begin_time = max(imu_1_array[1,3],imu_2_array[1,3],imu_3_array[1,3],imu_4_array[1,3],imu_5_array[1,3],imu_6_array[1,3])\n",
    "  while max_imu_begin_time > time_array[begin,1]:\n",
    "    begin = begin+1\n",
    "  end = 1\n",
    "  min_imu_end_time = min(imu_1_array[-1,3],imu_2_array[-1,3],imu_3_array[-1,3],imu_4_array[-1,3],imu_5_array[-1,3],imu_6_array[-1,3])\n",
    "  while min_imu_end_time < time_array[-end,1]:\n",
    "    end = end+1\n",
    "  time_new=time_array[begin:-end,1]\n",
    "\n",
    "  ## f是一个函数，用这个函数就可以找插值点的函数值了：\n",
    "  f1_x,f1_y,f1_z = interp_function(imu_1_old_time,imu_1_translation_x,imu_1_translation_y,imu_1_translation_z,interpolation_kind)\n",
    "  f2_x,f2_y,f2_z = interp_function(imu_2_old_time,imu_2_translation_x,imu_2_translation_y,imu_2_translation_z,interpolation_kind)\n",
    "  f3_x,f3_y,f3_z = interp_function(imu_3_old_time,imu_3_translation_x,imu_3_translation_y,imu_3_translation_z,interpolation_kind)\n",
    "  f4_x,f4_y,f4_z = interp_function(imu_4_old_time,imu_4_translation_x,imu_4_translation_y,imu_4_translation_z,interpolation_kind)\n",
    "  f5_x,f5_y,f5_z = interp_function(imu_5_old_time,imu_5_translation_x,imu_5_translation_y,imu_5_translation_z,interpolation_kind)\n",
    "  f6_x,f6_y,f6_z = interp_function(imu_6_old_time,imu_6_translation_x,imu_6_translation_y,imu_6_translation_z,interpolation_kind)\n",
    "\n",
    "#   down_scale = time_array.shape[0]//sample_frame  #3\n",
    "  down_scale = 2\n",
    "  shift_size = sample_frame*down_scale  #96=32*3\n",
    "#   step = shift_size//shift_step  #2=96//40\n",
    "  step = 6\n",
    "  sample_num_in_video = (time_new.shape[0]-shift_size)//step+1\n",
    "  for sample in range(sample_num_in_video):\n",
    "    time_new_sample = time_new[sample*step:sample*step+shift_size]\n",
    "    time_new_sample_choice = [choice(time_new_sample[i*down_scale:i*down_scale+down_scale]) for i in range(sample_frame)]\n",
    "    \n",
    "    \n",
    "    ## imu values at camera timestamp\n",
    "    new1_x,new1_y,new1_z = returnnew_imu(f1_x,f1_y,f1_z,time_new_sample_choice)\n",
    "    new2_x,new2_y,new2_z = returnnew_imu(f2_x,f2_y,f2_z,time_new_sample_choice)\n",
    "    new3_x,new3_y,new3_z = returnnew_imu(f3_x,f3_y,f3_z,time_new_sample_choice)\n",
    "    new4_x,new4_y,new4_z = returnnew_imu(f4_x,f4_y,f4_z,time_new_sample_choice)\n",
    "    new5_x,new5_y,new5_z = returnnew_imu(f5_x,f5_y,f5_z,time_new_sample_choice)\n",
    "    new6_x,new6_y,new6_z = returnnew_imu(f6_x,f6_y,f6_z,time_new_sample_choice)\n",
    "    \n",
    "    temp = [new1_x,new1_y,new1_z,new2_x,new2_y,new2_z,new3_x,new3_y,new3_z,new4_x,new4_y,new4_z,new5_x,new5_y,new5_z,new6_x,new6_y,new6_z]\n",
    "    temp_array = np.array(temp)\n",
    "    temp_after = temp_array.transpose(1,0)\n",
    "    translation_new.append(temp_after.tolist())\n",
    "    \n",
    "    y_data.append(action)\n",
    "  return translation_new,y_data "
   ]
  },
  {
   "cell_type": "code",
   "execution_count": 472,
   "metadata": {},
   "outputs": [],
   "source": [
    "def sample2targetframes_waving2(i,data_time,data,sample_frame,shift_step,action,y_data,translation_new):\n",
    "  \n",
    "  time = data_time[i]\n",
    "  time_array = np.array(time)\n",
    "\n",
    "  ## imu values at own timestamp\n",
    "  imu_1_array,imu_1_old_time,imu_1_translation_x,imu_1_translation_y,imu_1_translation_z = imu_translation(data,i,0)\n",
    "  imu_2_array,imu_2_old_time,imu_2_translation_x,imu_2_translation_y,imu_2_translation_z = imu_translation(data,i,1)\n",
    "  imu_3_array,imu_3_old_time,imu_3_translation_x,imu_3_translation_y,imu_3_translation_z = imu_translation(data,i,2)\n",
    "  imu_4_array,imu_4_old_time,imu_4_translation_x,imu_4_translation_y,imu_4_translation_z = imu_translation(data,i,3)\n",
    "  imu_5_array,imu_5_old_time,imu_5_translation_x,imu_5_translation_y,imu_5_translation_z = imu_translation(data,i,4)\n",
    "  imu_6_array,imu_6_old_time,imu_6_translation_x,imu_6_translation_y,imu_6_translation_z = imu_translation(data,i,5)\n",
    "\n",
    "  ## let the new time(camera timestamp) lie inside the old time(imu timestamp)\n",
    "  begin = 0\n",
    "  max_imu_begin_time = max(imu_1_array[1,3],imu_2_array[1,3],imu_3_array[1,3],imu_4_array[1,3],imu_5_array[1,3],imu_6_array[1,3])\n",
    "  while max_imu_begin_time > time_array[begin,1]:\n",
    "    begin = begin+1\n",
    "  end = 1\n",
    "  min_imu_end_time = min(imu_1_array[-1,3],imu_2_array[-1,3],imu_3_array[-1,3],imu_4_array[-1,3],imu_5_array[-1,3],imu_6_array[-1,3])\n",
    "  while min_imu_end_time < time_array[-end,1]:\n",
    "    end = end+1\n",
    "  time_new=time_array[begin:-end,1]\n",
    "\n",
    "  ## f是一个函数，用这个函数就可以找插值点的函数值了：\n",
    "  f1_x,f1_y,f1_z = interp_function(imu_1_old_time,imu_1_translation_x,imu_1_translation_y,imu_1_translation_z,interpolation_kind)\n",
    "  f2_x,f2_y,f2_z = interp_function(imu_2_old_time,imu_2_translation_x,imu_2_translation_y,imu_2_translation_z,interpolation_kind)\n",
    "  f3_x,f3_y,f3_z = interp_function(imu_3_old_time,imu_3_translation_x,imu_3_translation_y,imu_3_translation_z,interpolation_kind)\n",
    "  f4_x,f4_y,f4_z = interp_function(imu_4_old_time,imu_4_translation_x,imu_4_translation_y,imu_4_translation_z,interpolation_kind)\n",
    "  f5_x,f5_y,f5_z = interp_function(imu_5_old_time,imu_5_translation_x,imu_5_translation_y,imu_5_translation_z,interpolation_kind)\n",
    "  f6_x,f6_y,f6_z = interp_function(imu_6_old_time,imu_6_translation_x,imu_6_translation_y,imu_6_translation_z,interpolation_kind)\n",
    "\n",
    "#   down_scale = time_array.shape[0]//sample_frame  #3\n",
    "  down_scale = 3\n",
    "  shift_size = sample_frame*down_scale  #96=32*3\n",
    "#   step = shift_size//shift_step  #2=96//40\n",
    "  step = 7\n",
    "  sample_num_in_video = (time_new.shape[0]-shift_size)//step+1\n",
    "  for sample in range(sample_num_in_video):\n",
    "    time_new_sample = time_new[sample*step:sample*step+shift_size]\n",
    "    time_new_sample_choice = [choice(time_new_sample[i*down_scale:i*down_scale+down_scale]) for i in range(sample_frame)]\n",
    "    \n",
    "    \n",
    "    ## imu values at camera timestamp\n",
    "    new1_x,new1_y,new1_z = returnnew_imu(f1_x,f1_y,f1_z,time_new_sample_choice)\n",
    "    new2_x,new2_y,new2_z = returnnew_imu(f2_x,f2_y,f2_z,time_new_sample_choice)\n",
    "    new3_x,new3_y,new3_z = returnnew_imu(f3_x,f3_y,f3_z,time_new_sample_choice)\n",
    "    new4_x,new4_y,new4_z = returnnew_imu(f4_x,f4_y,f4_z,time_new_sample_choice)\n",
    "    new5_x,new5_y,new5_z = returnnew_imu(f5_x,f5_y,f5_z,time_new_sample_choice)\n",
    "    new6_x,new6_y,new6_z = returnnew_imu(f6_x,f6_y,f6_z,time_new_sample_choice)\n",
    "    \n",
    "    temp = [new1_x,new1_y,new1_z,new2_x,new2_y,new2_z,new3_x,new3_y,new3_z,new4_x,new4_y,new4_z,new5_x,new5_y,new5_z,new6_x,new6_y,new6_z]\n",
    "    temp_array = np.array(temp)\n",
    "    temp_after = temp_array.transpose(1,0)\n",
    "    translation_new.append(temp_after.tolist())\n",
    "    \n",
    "    y_data.append(action)\n",
    "  return translation_new,y_data "
   ]
  },
  {
   "cell_type": "code",
   "execution_count": 473,
   "metadata": {},
   "outputs": [],
   "source": [
    "def sample2targetframes_waving1(i,data_time,data,sample_frame,shift_step,action,y_data,translation_new):\n",
    "  \n",
    "  time = data_time[i]\n",
    "  time_array = np.array(time)\n",
    "\n",
    "  ## imu values at own timestamp\n",
    "  imu_1_array,imu_1_old_time,imu_1_translation_x,imu_1_translation_y,imu_1_translation_z = imu_translation(data,i,0)\n",
    "  imu_2_array,imu_2_old_time,imu_2_translation_x,imu_2_translation_y,imu_2_translation_z = imu_translation(data,i,1)\n",
    "  imu_3_array,imu_3_old_time,imu_3_translation_x,imu_3_translation_y,imu_3_translation_z = imu_translation(data,i,2)\n",
    "  imu_4_array,imu_4_old_time,imu_4_translation_x,imu_4_translation_y,imu_4_translation_z = imu_translation(data,i,3)\n",
    "  imu_5_array,imu_5_old_time,imu_5_translation_x,imu_5_translation_y,imu_5_translation_z = imu_translation(data,i,4)\n",
    "  imu_6_array,imu_6_old_time,imu_6_translation_x,imu_6_translation_y,imu_6_translation_z = imu_translation(data,i,5)\n",
    "\n",
    "  ## let the new time(camera timestamp) lie inside the old time(imu timestamp)\n",
    "  begin = 0\n",
    "  max_imu_begin_time = max(imu_1_array[1,3],imu_2_array[1,3],imu_3_array[1,3],imu_4_array[1,3],imu_5_array[1,3],imu_6_array[1,3])\n",
    "  while max_imu_begin_time > time_array[begin,1]:\n",
    "    begin = begin+1\n",
    "  end = 1\n",
    "  min_imu_end_time = min(imu_1_array[-1,3],imu_2_array[-1,3],imu_3_array[-1,3],imu_4_array[-1,3],imu_5_array[-1,3],imu_6_array[-1,3])\n",
    "  while min_imu_end_time < time_array[-end,1]:\n",
    "    end = end+1\n",
    "  time_new=time_array[begin:-end,1]\n",
    "\n",
    "  ## f是一个函数，用这个函数就可以找插值点的函数值了：\n",
    "  f1_x,f1_y,f1_z = interp_function(imu_1_old_time,imu_1_translation_x,imu_1_translation_y,imu_1_translation_z,interpolation_kind)\n",
    "  f2_x,f2_y,f2_z = interp_function(imu_2_old_time,imu_2_translation_x,imu_2_translation_y,imu_2_translation_z,interpolation_kind)\n",
    "  f3_x,f3_y,f3_z = interp_function(imu_3_old_time,imu_3_translation_x,imu_3_translation_y,imu_3_translation_z,interpolation_kind)\n",
    "  f4_x,f4_y,f4_z = interp_function(imu_4_old_time,imu_4_translation_x,imu_4_translation_y,imu_4_translation_z,interpolation_kind)\n",
    "  f5_x,f5_y,f5_z = interp_function(imu_5_old_time,imu_5_translation_x,imu_5_translation_y,imu_5_translation_z,interpolation_kind)\n",
    "  f6_x,f6_y,f6_z = interp_function(imu_6_old_time,imu_6_translation_x,imu_6_translation_y,imu_6_translation_z,interpolation_kind)\n",
    "\n",
    "#   down_scale = time_array.shape[0]//sample_frame  #3\n",
    "  down_scale = 3\n",
    "  shift_size = sample_frame*down_scale  #96=32*3\n",
    "#   step = shift_size//shift_step  #2=96//40\n",
    "  step = 7\n",
    "  sample_num_in_video = (time_new.shape[0]-shift_size)//step+1\n",
    "  for sample in range(sample_num_in_video):\n",
    "    time_new_sample = time_new[sample*step:sample*step+shift_size]\n",
    "    time_new_sample_choice = [choice(time_new_sample[i*down_scale:i*down_scale+down_scale]) for i in range(sample_frame)]\n",
    "    \n",
    "    \n",
    "    ## imu values at camera timestamp\n",
    "    new1_x,new1_y,new1_z = returnnew_imu(f1_x,f1_y,f1_z,time_new_sample_choice)\n",
    "    new2_x,new2_y,new2_z = returnnew_imu(f2_x,f2_y,f2_z,time_new_sample_choice)\n",
    "    new3_x,new3_y,new3_z = returnnew_imu(f3_x,f3_y,f3_z,time_new_sample_choice)\n",
    "    new4_x,new4_y,new4_z = returnnew_imu(f4_x,f4_y,f4_z,time_new_sample_choice)\n",
    "    new5_x,new5_y,new5_z = returnnew_imu(f5_x,f5_y,f5_z,time_new_sample_choice)\n",
    "    new6_x,new6_y,new6_z = returnnew_imu(f6_x,f6_y,f6_z,time_new_sample_choice)\n",
    "    \n",
    "    temp = [new1_x,new1_y,new1_z,new2_x,new2_y,new2_z,new3_x,new3_y,new3_z,new4_x,new4_y,new4_z,new5_x,new5_y,new5_z,new6_x,new6_y,new6_z]\n",
    "    temp_array = np.array(temp)\n",
    "    temp_after = temp_array.transpose(1,0)\n",
    "    translation_new.append(temp_after.tolist())\n",
    "    \n",
    "    y_data.append(action)\n",
    "  return translation_new,y_data "
   ]
  },
  {
   "cell_type": "code",
   "execution_count": 474,
   "metadata": {},
   "outputs": [],
   "source": [
    "def sample2targetframes_clapping(i,data_time,data,sample_frame,shift_step,action,y_data,translation_new):\n",
    "  \n",
    "  time = data_time[i]\n",
    "  time_array = np.array(time)\n",
    "\n",
    "  ## imu values at own timestamp\n",
    "  imu_1_array,imu_1_old_time,imu_1_translation_x,imu_1_translation_y,imu_1_translation_z = imu_translation(data,i,0)\n",
    "  imu_2_array,imu_2_old_time,imu_2_translation_x,imu_2_translation_y,imu_2_translation_z = imu_translation(data,i,1)\n",
    "  imu_3_array,imu_3_old_time,imu_3_translation_x,imu_3_translation_y,imu_3_translation_z = imu_translation(data,i,2)\n",
    "  imu_4_array,imu_4_old_time,imu_4_translation_x,imu_4_translation_y,imu_4_translation_z = imu_translation(data,i,3)\n",
    "  imu_5_array,imu_5_old_time,imu_5_translation_x,imu_5_translation_y,imu_5_translation_z = imu_translation(data,i,4)\n",
    "  imu_6_array,imu_6_old_time,imu_6_translation_x,imu_6_translation_y,imu_6_translation_z = imu_translation(data,i,5)\n",
    "\n",
    "  ## let the new time(camera timestamp) lie inside the old time(imu timestamp)\n",
    "  begin = 0\n",
    "  max_imu_begin_time = max(imu_1_array[1,3],imu_2_array[1,3],imu_3_array[1,3],imu_4_array[1,3],imu_5_array[1,3],imu_6_array[1,3])\n",
    "  while max_imu_begin_time > time_array[begin,1]:\n",
    "    begin = begin+1\n",
    "  end = 1\n",
    "  min_imu_end_time = min(imu_1_array[-1,3],imu_2_array[-1,3],imu_3_array[-1,3],imu_4_array[-1,3],imu_5_array[-1,3],imu_6_array[-1,3])\n",
    "  while min_imu_end_time < time_array[-end,1]:\n",
    "    end = end+1\n",
    "  time_new=time_array[begin:-end,1]\n",
    "\n",
    "  ## f是一个函数，用这个函数就可以找插值点的函数值了：\n",
    "  f1_x,f1_y,f1_z = interp_function(imu_1_old_time,imu_1_translation_x,imu_1_translation_y,imu_1_translation_z,interpolation_kind)\n",
    "  f2_x,f2_y,f2_z = interp_function(imu_2_old_time,imu_2_translation_x,imu_2_translation_y,imu_2_translation_z,interpolation_kind)\n",
    "  f3_x,f3_y,f3_z = interp_function(imu_3_old_time,imu_3_translation_x,imu_3_translation_y,imu_3_translation_z,interpolation_kind)\n",
    "  f4_x,f4_y,f4_z = interp_function(imu_4_old_time,imu_4_translation_x,imu_4_translation_y,imu_4_translation_z,interpolation_kind)\n",
    "  f5_x,f5_y,f5_z = interp_function(imu_5_old_time,imu_5_translation_x,imu_5_translation_y,imu_5_translation_z,interpolation_kind)\n",
    "  f6_x,f6_y,f6_z = interp_function(imu_6_old_time,imu_6_translation_x,imu_6_translation_y,imu_6_translation_z,interpolation_kind)\n",
    "\n",
    "#   down_scale = time_array.shape[0]//sample_frame  #3\n",
    "  down_scale = 3\n",
    "  shift_size = sample_frame*down_scale  #96=32*3\n",
    "#   step = shift_size//shift_step  #2=96//40\n",
    "  step = 8\n",
    "  sample_num_in_video = (time_new.shape[0]-shift_size)//step+1\n",
    "  for sample in range(sample_num_in_video):\n",
    "    time_new_sample = time_new[sample*step:sample*step+shift_size]\n",
    "    time_new_sample_choice = [choice(time_new_sample[i*down_scale:i*down_scale+down_scale]) for i in range(sample_frame)]\n",
    "    \n",
    "    \n",
    "    ## imu values at camera timestamp\n",
    "    new1_x,new1_y,new1_z = returnnew_imu(f1_x,f1_y,f1_z,time_new_sample_choice)\n",
    "    new2_x,new2_y,new2_z = returnnew_imu(f2_x,f2_y,f2_z,time_new_sample_choice)\n",
    "    new3_x,new3_y,new3_z = returnnew_imu(f3_x,f3_y,f3_z,time_new_sample_choice)\n",
    "    new4_x,new4_y,new4_z = returnnew_imu(f4_x,f4_y,f4_z,time_new_sample_choice)\n",
    "    new5_x,new5_y,new5_z = returnnew_imu(f5_x,f5_y,f5_z,time_new_sample_choice)\n",
    "    new6_x,new6_y,new6_z = returnnew_imu(f6_x,f6_y,f6_z,time_new_sample_choice)\n",
    "    \n",
    "    temp = [new1_x,new1_y,new1_z,new2_x,new2_y,new2_z,new3_x,new3_y,new3_z,new4_x,new4_y,new4_z,new5_x,new5_y,new5_z,new6_x,new6_y,new6_z]\n",
    "    temp_array = np.array(temp)\n",
    "    temp_after = temp_array.transpose(1,0)\n",
    "    translation_new.append(temp_after.tolist())\n",
    "    \n",
    "    y_data.append(action)\n",
    "  return translation_new,y_data "
   ]
  },
  {
   "cell_type": "code",
   "execution_count": 475,
   "metadata": {
    "executionInfo": {
     "elapsed": 7,
     "status": "ok",
     "timestamp": 1658751073634,
     "user": {
      "displayName": "Tian Zheng",
      "userId": "05669554605213271767"
     },
     "user_tz": -120
    },
    "id": "pb4yfIn0Cfza"
   },
   "outputs": [],
   "source": [
    "def imu_translation(data,i,imu):\n",
    "  imu_1 = data[i][imu]\n",
    "  imu_1_array = np.array(imu_1)\n",
    "  imu_old_time = imu_1_array[1:,3]\n",
    "\n",
    "  imu_1_translation_x = integrate.cumtrapz(imu_1_array[:,0],imu_1_array[:,3])\n",
    "  imu_1_translation_y = integrate.cumtrapz(imu_1_array[:,1],imu_1_array[:,3])\n",
    "  imu_1_translation_z = integrate.cumtrapz(imu_1_array[:,2],imu_1_array[:,3])\n",
    "\n",
    "  return imu_1_array,imu_old_time,imu_1_translation_x,imu_1_translation_y,imu_1_translation_z"
   ]
  },
  {
   "cell_type": "code",
   "execution_count": 476,
   "metadata": {
    "executionInfo": {
     "elapsed": 7,
     "status": "ok",
     "timestamp": 1658751073635,
     "user": {
      "displayName": "Tian Zheng",
      "userId": "05669554605213271767"
     },
     "user_tz": -120
    },
    "id": "GGUE1ysIjjg7"
   },
   "outputs": [],
   "source": [
    "def interp_function(imu_1_old_time,imu_1_translation_x,imu_1_translation_y,imu_1_translation_z,interpolation_kind):\n",
    "  f_x=interpolate.interp1d(imu_1_old_time,imu_1_translation_x,kind=interpolation_kind)\n",
    "  f_y=interpolate.interp1d(imu_1_old_time,imu_1_translation_y,kind=interpolation_kind)\n",
    "  f_z=interpolate.interp1d(imu_1_old_time,imu_1_translation_z,kind=interpolation_kind)\n",
    "  return f_x,f_y,f_z"
   ]
  },
  {
   "cell_type": "code",
   "execution_count": 477,
   "metadata": {
    "executionInfo": {
     "elapsed": 7,
     "status": "ok",
     "timestamp": 1658751073635,
     "user": {
      "displayName": "Tian Zheng",
      "userId": "05669554605213271767"
     },
     "user_tz": -120
    },
    "id": "n5WAKYQ3k0_k"
   },
   "outputs": [],
   "source": [
    "def returnnew_imu(f1_x,f1_y,f1_z,time_new_sample_choice):\n",
    "  new1_x = f1_x(time_new_sample_choice)\n",
    "  new1_y = f1_y(time_new_sample_choice)\n",
    "  new1_z = f1_z(time_new_sample_choice)\n",
    "  return new1_x,new1_y,new1_z"
   ]
  },
  {
   "cell_type": "code",
   "execution_count": 478,
   "metadata": {
    "colab": {
     "base_uri": "https://localhost:8080/",
     "height": 245
    },
    "executionInfo": {
     "elapsed": 5,
     "status": "error",
     "timestamp": 1658753342615,
     "user": {
      "displayName": "Tian Zheng",
      "userId": "05669554605213271767"
     },
     "user_tz": -120
    },
    "id": "b4lluPPosj6K",
    "outputId": "9187d1bb-31f9-405f-867a-5c9914d99f0c"
   },
   "outputs": [],
   "source": [
    "y_data = []\n",
    "trans = []\n",
    "for video in range(len(data_time_array)):\n",
    "    action = video//60\n",
    "    if action==2:\n",
    "        trans,y_data = sample2targetframes_boxing(video,data_time,data,sample_frame,shift_step,action,y_data,trans)\n",
    "    elif action==1:\n",
    "        trans,y_data = sample2targetframes_jumpingjack(video,data_time,data,sample_frame,shift_step,action,y_data,trans)\n",
    "    elif action==3:\n",
    "        trans,y_data = sample2targetframes_waving2(video,data_time,data,sample_frame,shift_step,action,y_data,trans)\n",
    "    elif action==4:\n",
    "        trans,y_data = sample2targetframes_waving1(video,data_time,data,sample_frame,shift_step,action,y_data,trans)\n",
    "    elif action==5:\n",
    "        trans,y_data = sample2targetframes_clapping(video,data_time,data,sample_frame,shift_step,action,y_data,trans)\n",
    "    else:\n",
    "        trans,y_data = sample2targetframes(video,data_time,data,sample_frame,shift_step,action,y_data,trans)\n",
    "    \n",
    "\n",
    "\n"
   ]
  },
  {
   "cell_type": "code",
   "execution_count": 479,
   "metadata": {
    "colab": {
     "base_uri": "https://localhost:8080/"
    },
    "executionInfo": {
     "elapsed": 13,
     "status": "ok",
     "timestamp": 1658751077167,
     "user": {
      "displayName": "Tian Zheng",
      "userId": "05669554605213271767"
     },
     "user_tz": -120
    },
    "id": "m04Ls7_k5E-2",
    "outputId": "9da2f541-b991-416f-a88c-4d6e9ce7b205"
   },
   "outputs": [
    {
     "name": "stdout",
     "output_type": "stream",
     "text": [
      "sample num:\n",
      "4343\n"
     ]
    }
   ],
   "source": [
    "print(\"sample num:\")\n",
    "print(len(trans))"
   ]
  },
  {
   "cell_type": "code",
   "execution_count": 480,
   "metadata": {
    "executionInfo": {
     "elapsed": 11,
     "status": "ok",
     "timestamp": 1658751077168,
     "user": {
      "displayName": "Tian Zheng",
      "userId": "05669554605213271767"
     },
     "user_tz": -120
    },
    "id": "LiuBELs9sj-p"
   },
   "outputs": [],
   "source": [
    "trans_array = np.array(trans)\n",
    "y_data_array = np.array(y_data)"
   ]
  },
  {
   "cell_type": "code",
   "execution_count": 481,
   "metadata": {
    "colab": {
     "base_uri": "https://localhost:8080/"
    },
    "executionInfo": {
     "elapsed": 11,
     "status": "ok",
     "timestamp": 1658751077168,
     "user": {
      "displayName": "Tian Zheng",
      "userId": "05669554605213271767"
     },
     "user_tz": -120
    },
    "id": "FZ46WQAlskBi",
    "outputId": "79ce2015-ce41-4d64-9f99-e4d565ef8071"
   },
   "outputs": [
    {
     "data": {
      "text/plain": [
       "(4343, 32, 18)"
      ]
     },
     "execution_count": 481,
     "metadata": {},
     "output_type": "execute_result"
    }
   ],
   "source": [
    "trans_array.shape"
   ]
  },
  {
   "cell_type": "code",
   "execution_count": 482,
   "metadata": {
    "colab": {
     "base_uri": "https://localhost:8080/"
    },
    "executionInfo": {
     "elapsed": 8,
     "status": "ok",
     "timestamp": 1658751077168,
     "user": {
      "displayName": "Tian Zheng",
      "userId": "05669554605213271767"
     },
     "user_tz": -120
    },
    "id": "dFlhYEBM1XdQ",
    "outputId": "293b2454-64d9-462f-ef1d-33d7b104ba52"
   },
   "outputs": [
    {
     "data": {
      "text/plain": [
       "(4343,)"
      ]
     },
     "execution_count": 482,
     "metadata": {},
     "output_type": "execute_result"
    }
   ],
   "source": [
    "y_data_array.shape"
   ]
  },
  {
   "cell_type": "code",
   "execution_count": 483,
   "metadata": {
    "executionInfo": {
     "elapsed": 331,
     "status": "ok",
     "timestamp": 1658751424075,
     "user": {
      "displayName": "Tian Zheng",
      "userId": "05669554605213271767"
     },
     "user_tz": -120
    },
    "id": "iU9X0E7ESROH"
   },
   "outputs": [],
   "source": [
    "y_data_array = y_data_array[:, np.newaxis]"
   ]
  },
  {
   "cell_type": "code",
   "execution_count": 484,
   "metadata": {
    "executionInfo": {
     "elapsed": 3,
     "status": "ok",
     "timestamp": 1658751425705,
     "user": {
      "displayName": "Tian Zheng",
      "userId": "05669554605213271767"
     },
     "user_tz": -120
    },
    "id": "QpuPyh8d2uU1"
   },
   "outputs": [],
   "source": [
    "np.save(file=\"C:/Users/zheng/myjupyternotebookscripts/myjupyterscript/Kurs_CACM/imu_data.npy\", arr=trans_array)\n",
    "np.save(file=\"C:/Users/zheng/myjupyternotebookscripts/myjupyterscript/Kurs_CACM/imu_y_data.npy\", arr=y_data_array)\n"
   ]
  },
  {
   "cell_type": "markdown",
   "metadata": {},
   "source": [
    "### CameraData-Reorganize"
   ]
  },
  {
   "cell_type": "code",
   "execution_count": 485,
   "metadata": {},
   "outputs": [],
   "source": [
    "# Useful Constants\n",
    "# Output classes to learn how to classify\n",
    "LABELS = [    \n",
    "    \"JUMPING\",\n",
    "    \"JUMPING_JACKS\",\n",
    "    \"BOXING\",\n",
    "    \"WAVING_2HANDS\",\n",
    "    \"WAVING_1HAND\",\n",
    "    \"CLAPPING_HANDS\"\n",
    "\n",
    "] \n",
    "DATASET_PATH = \"C:/Users/zheng/myjupyternotebookscripts/myjupyterscript/Kurs_CACM/CameraData/\"\n",
    "\n",
    "X_train_path = DATASET_PATH + \"X_train.txt\"\n",
    "X_test_path = DATASET_PATH + \"X_test.txt\"\n",
    "\n",
    "y_train_path = DATASET_PATH + \"Y_train.txt\"\n",
    "y_test_path = DATASET_PATH + \"Y_test.txt\"\n",
    "\n",
    "n_steps = 32 # 32 timesteps per series\n",
    "n_categories = len(LABELS)"
   ]
  },
  {
   "cell_type": "code",
   "execution_count": 486,
   "metadata": {},
   "outputs": [],
   "source": [
    "# Load the networks inputs\n",
    "\n",
    "def load_X(X_path):\n",
    "    file = open(X_path, 'r')\n",
    "    X_ = np.array(\n",
    "        [elem for elem in [\n",
    "            row.split(',') for row in file\n",
    "        ]], \n",
    "        dtype=np.float32\n",
    "    )\n",
    "    file.close()\n",
    "    blocks = int(len(X_) / n_steps)\n",
    "    \n",
    "    X_ = np.array(np.split(X_,blocks))\n",
    "\n",
    "    return X_ \n",
    "\n",
    "# Load the networks outputs\n",
    "def load_y(y_path):\n",
    "    file = open(y_path, 'r')\n",
    "    y_ = np.array(\n",
    "        [elem for elem in [\n",
    "            row.replace('  ', ' ').strip().split(' ') for row in file\n",
    "        ]], \n",
    "        dtype=np.int32\n",
    "    )\n",
    "    file.close()\n",
    "    \n",
    "    # for 0-based indexing \n",
    "    return y_ - 1\n",
    "\n",
    "X_train = load_X(X_train_path)\n",
    "X_test = load_X(X_test_path)\n",
    "\n",
    "y_train = load_y(y_train_path)\n",
    "y_test = load_y(y_test_path)"
   ]
  },
  {
   "cell_type": "code",
   "execution_count": 487,
   "metadata": {},
   "outputs": [],
   "source": [
    "camera_X_total = np.vstack((X_train,X_test))\n",
    "camera_y_total = np.vstack((y_train,y_test))"
   ]
  },
  {
   "cell_type": "code",
   "execution_count": 489,
   "metadata": {},
   "outputs": [],
   "source": [
    "imu_trans_array = trans_array\n",
    "imu_y_data_array = y_data_array"
   ]
  },
  {
   "cell_type": "code",
   "execution_count": 490,
   "metadata": {},
   "outputs": [
    {
     "name": "stdout",
     "output_type": "stream",
     "text": [
      "708\n",
      "731\n",
      "768\n",
      "705\n",
      "732\n",
      "699\n"
     ]
    }
   ],
   "source": [
    "imu_y_num_label0 = imu_y_num_label1 = imu_y_num_label2 = imu_y_num_label3 = imu_y_num_label4 = imu_y_num_label5 = 0\n",
    "\n",
    "for i in range(imu_y_data_array.shape[0]):\n",
    "    if imu_y_data_array[i]==0:\n",
    "        imu_y_num_label0 += 1\n",
    "    elif  imu_y_data_array[i]==1:\n",
    "        imu_y_num_label1 += 1\n",
    "    elif  imu_y_data_array[i]==2:\n",
    "        imu_y_num_label2 += 1\n",
    "    elif  imu_y_data_array[i]==3:\n",
    "        imu_y_num_label3 += 1\n",
    "    elif  imu_y_data_array[i]==4:\n",
    "        imu_y_num_label4 += 1\n",
    "    elif  imu_y_data_array[i]==5:\n",
    "        imu_y_num_label5 += 1\n",
    "print(imu_y_num_label0)\n",
    "print(imu_y_num_label1)\n",
    "print(imu_y_num_label2)\n",
    "print(imu_y_num_label3)\n",
    "print(imu_y_num_label4)\n",
    "print(imu_y_num_label5)\n",
    "        "
   ]
  },
  {
   "cell_type": "code",
   "execution_count": 491,
   "metadata": {},
   "outputs": [],
   "source": [
    "camera_y_total_df = pd.DataFrame(camera_y_total,columns=['label'],dtype=int)\n",
    "camera_y_total_df_index0 = camera_y_total_df[(camera_y_total_df.label==0)].index.tolist()\n",
    "camera_y_total_df_index1 = camera_y_total_df[(camera_y_total_df.label==1)].index.tolist()\n",
    "camera_y_total_df_index2 = camera_y_total_df[(camera_y_total_df.label==2)].index.tolist()\n",
    "camera_y_total_df_index3 = camera_y_total_df[(camera_y_total_df.label==3)].index.tolist()\n",
    "camera_y_total_df_index4 = camera_y_total_df[(camera_y_total_df.label==4)].index.tolist()\n",
    "camera_y_total_df_index5 = camera_y_total_df[(camera_y_total_df.label==5)].index.tolist()\n",
    "\n",
    "new_camera_y_total_list_index0 = random.sample(camera_y_total_df_index0, imu_y_num_label0)\n",
    "new_camera_y_total_list_index1 = random.sample(camera_y_total_df_index1, imu_y_num_label1)\n",
    "new_camera_y_total_list_index2 = random.sample(camera_y_total_df_index2, imu_y_num_label2)\n",
    "new_camera_y_total_list_index3 = random.sample(camera_y_total_df_index3, imu_y_num_label3)\n",
    "new_camera_y_total_list_index4 = random.sample(camera_y_total_df_index4, imu_y_num_label4)\n",
    "new_camera_y_total_list_index5 = random.sample(camera_y_total_df_index5, imu_y_num_label5)\n",
    "\n",
    "\n",
    "camera_X_total_index0 = camera_X_total[new_camera_y_total_list_index0,:] \n",
    "camera_y_total_index0 = camera_y_total[new_camera_y_total_list_index0,:] \n",
    "camera_X_total_index1 = camera_X_total[new_camera_y_total_list_index1,:] \n",
    "camera_y_total_index1 = camera_y_total[new_camera_y_total_list_index1,:]\n",
    "camera_X_total_index2 = camera_X_total[new_camera_y_total_list_index2,:] \n",
    "camera_y_total_index2 = camera_y_total[new_camera_y_total_list_index2,:]\n",
    "camera_X_total_index3 = camera_X_total[new_camera_y_total_list_index3,:] \n",
    "camera_y_total_index3 = camera_y_total[new_camera_y_total_list_index3,:]\n",
    "camera_X_total_index4 = camera_X_total[new_camera_y_total_list_index4,:] \n",
    "camera_y_total_index4 = camera_y_total[new_camera_y_total_list_index4,:]\n",
    "camera_X_total_index5 = camera_X_total[new_camera_y_total_list_index5,:] \n",
    "camera_y_total_index5 = camera_y_total[new_camera_y_total_list_index5,:]\n",
    "\n",
    "\n",
    "camera_downsampled_X_total = np.vstack((camera_X_total_index0,camera_X_total_index1,camera_X_total_index2,camera_X_total_index3,camera_X_total_index4,camera_X_total_index5))\n",
    "camera_downsampled_y_total = np.vstack((camera_y_total_index0,camera_y_total_index1,camera_y_total_index2,camera_y_total_index3,camera_y_total_index4,camera_y_total_index5))"
   ]
  },
  {
   "cell_type": "code",
   "execution_count": 492,
   "metadata": {},
   "outputs": [
    {
     "data": {
      "text/plain": [
       "(4343, 32, 54)"
      ]
     },
     "execution_count": 492,
     "metadata": {},
     "output_type": "execute_result"
    }
   ],
   "source": [
    "imu_trans_with_camera_X_array = np.dstack((camera_downsampled_X_total,imu_trans_array))\n",
    "imu_trans_with_camera_X_array.shape"
   ]
  },
  {
   "cell_type": "code",
   "execution_count": 493,
   "metadata": {},
   "outputs": [
    {
     "data": {
      "text/plain": [
       "(4343, 1)"
      ]
     },
     "execution_count": 493,
     "metadata": {},
     "output_type": "execute_result"
    }
   ],
   "source": [
    "imu_y_with_camera_y_array = camera_downsampled_y_total\n",
    "imu_y_with_camera_y_array.shape"
   ]
  },
  {
   "cell_type": "code",
   "execution_count": null,
   "metadata": {},
   "outputs": [],
   "source": []
  },
  {
   "cell_type": "code",
   "execution_count": null,
   "metadata": {},
   "outputs": [],
   "source": []
  },
  {
   "cell_type": "code",
   "execution_count": null,
   "metadata": {},
   "outputs": [],
   "source": []
  },
  {
   "cell_type": "markdown",
   "metadata": {
    "id": "chxGgAQtO-GT"
   },
   "source": [
    "### IMU and Camera Data split in train and test"
   ]
  },
  {
   "cell_type": "code",
   "execution_count": 502,
   "metadata": {
    "executionInfo": {
     "elapsed": 1579,
     "status": "ok",
     "timestamp": 1658758865159,
     "user": {
      "displayName": "Tian Zheng",
      "userId": "05669554605213271767"
     },
     "user_tz": -120
    },
    "id": "5XdAROQBPDtM"
   },
   "outputs": [],
   "source": [
    "X_train, X_test = train_test_split(imu_trans_with_camera_X_array, test_size=0.2, random_state=42, shuffle=True)\n",
    "y_train, y_test = train_test_split(imu_y_with_camera_y_array, test_size=0.2, random_state=42, shuffle=True)"
   ]
  },
  {
   "cell_type": "code",
   "execution_count": 503,
   "metadata": {
    "id": "xBENW1DTT1fC"
   },
   "outputs": [
    {
     "data": {
      "text/plain": [
       "(3474, 32, 54)"
      ]
     },
     "execution_count": 503,
     "metadata": {},
     "output_type": "execute_result"
    }
   ],
   "source": [
    "X_train.shape"
   ]
  },
  {
   "cell_type": "code",
   "execution_count": 504,
   "metadata": {},
   "outputs": [
    {
     "data": {
      "text/plain": [
       "(869, 32, 54)"
      ]
     },
     "execution_count": 504,
     "metadata": {},
     "output_type": "execute_result"
    }
   ],
   "source": [
    "X_test.shape"
   ]
  },
  {
   "cell_type": "code",
   "execution_count": 505,
   "metadata": {},
   "outputs": [
    {
     "data": {
      "text/plain": [
       "(3474, 1)"
      ]
     },
     "execution_count": 505,
     "metadata": {},
     "output_type": "execute_result"
    }
   ],
   "source": [
    "y_train.shape"
   ]
  },
  {
   "cell_type": "code",
   "execution_count": 506,
   "metadata": {},
   "outputs": [
    {
     "data": {
      "text/plain": [
       "(869, 1)"
      ]
     },
     "execution_count": 506,
     "metadata": {},
     "output_type": "execute_result"
    }
   ],
   "source": [
    "y_test.shape"
   ]
  },
  {
   "cell_type": "code",
   "execution_count": 518,
   "metadata": {},
   "outputs": [],
   "source": [
    "X_camera_train = X_train[:,:,:36]\n",
    "X_imu_train = X_train[:,:,36:]\n",
    "X_camera_test = X_test[:,:,:36]\n",
    "X_imu_test = X_test[:,:,36:]\n",
    "y_camera_train = y_train\n",
    "y_imu_train = y_train\n",
    "y_camera_test = y_test\n",
    "y_imu_test = y_test"
   ]
  },
  {
   "cell_type": "code",
   "execution_count": 519,
   "metadata": {},
   "outputs": [
    {
     "name": "stdout",
     "output_type": "stream",
     "text": [
      "(3474, 32, 36)\n",
      "(3474, 32, 18)\n",
      "(869, 32, 36)\n",
      "(869, 32, 18)\n",
      "(3474, 1)\n",
      "(3474, 1)\n",
      "(869, 1)\n",
      "(869, 1)\n"
     ]
    }
   ],
   "source": [
    "print(X_camera_train.shape)\n",
    "print(X_imu_train.shape)\n",
    "print(X_camera_test.shape)\n",
    "print(X_imu_test.shape)\n",
    "print(y_camera_train.shape)\n",
    "print(y_imu_train.shape)\n",
    "print(y_camera_test.shape)\n",
    "print(y_imu_test.shape)"
   ]
  },
  {
   "cell_type": "markdown",
   "metadata": {},
   "source": [
    "### Camera + IMU"
   ]
  },
  {
   "cell_type": "markdown",
   "metadata": {
    "id": "IFbYdHxaoitC"
   },
   "source": [
    "### Pre-Process "
   ]
  },
  {
   "cell_type": "code",
   "execution_count": 520,
   "metadata": {
    "executionInfo": {
     "elapsed": 345,
     "status": "ok",
     "timestamp": 1658758868187,
     "user": {
      "displayName": "Tian Zheng",
      "userId": "05669554605213271767"
     },
     "user_tz": -120
    },
    "id": "E5BXAHuARtgN"
   },
   "outputs": [],
   "source": [
    "# Useful Constants\n",
    "# Output classes to learn how to classify\n",
    "LABELS = [    \n",
    "    \"JUMPING\",\n",
    "    \"JUMPING_JACKS\",\n",
    "    \"BOXING\",\n",
    "    \"WAVING_2HANDS\",\n",
    "    \"WAVING_1HAND\",\n",
    "    \"CLAPPING_HANDS\"\n",
    "\n",
    "] \n",
    "\n",
    "\n",
    "n_steps = 32 # 32 timesteps per series\n",
    "n_categories = len(LABELS)"
   ]
  },
  {
   "cell_type": "code",
   "execution_count": 521,
   "metadata": {
    "executionInfo": {
     "elapsed": 365,
     "status": "ok",
     "timestamp": 1658758870737,
     "user": {
      "displayName": "Tian Zheng",
      "userId": "05669554605213271767"
     },
     "user_tz": -120
    },
    "id": "7fZlF2ceoitD"
   },
   "outputs": [],
   "source": [
    "import torch"
   ]
  },
  {
   "cell_type": "code",
   "execution_count": 522,
   "metadata": {
    "colab": {
     "base_uri": "https://localhost:8080/"
    },
    "executionInfo": {
     "elapsed": 4,
     "status": "ok",
     "timestamp": 1658758872407,
     "user": {
      "displayName": "Tian Zheng",
      "userId": "05669554605213271767"
     },
     "user_tz": -120
    },
    "id": "KKavV-rUoitD",
    "outputId": "11d1a04d-ceec-4d3e-aec2-42da04b48970",
    "scrolled": true
   },
   "outputs": [
    {
     "name": "stdout",
     "output_type": "stream",
     "text": [
      "test_data_size: torch.Size([869, 32, 54])\n",
      "test_label_size: torch.Size([869, 1])\n",
      "n_data_size_test: 869\n",
      "train_data_size: torch.Size([3474, 32, 54])\n",
      "train_label_size: torch.Size([3474, 1])\n",
      "n_data_size_train: 3474\n"
     ]
    }
   ],
   "source": [
    "tensor_X_test = torch.from_numpy(X_test)\n",
    "print('test_data_size:',tensor_X_test.size())\n",
    "tensor_y_test = torch.from_numpy(y_test)\n",
    "print('test_label_size:',tensor_y_test.size())\n",
    "n_data_size_test = tensor_X_test.size()[0]\n",
    "print('n_data_size_test:',n_data_size_test)\n",
    "\n",
    "tensor_X_train = torch.from_numpy(X_train)\n",
    "print('train_data_size:',tensor_X_train.size())\n",
    "tensor_y_train = torch.from_numpy(y_train)\n",
    "print('train_label_size:',tensor_y_train.size())\n",
    "n_data_size_train = tensor_X_train.size()[0]\n",
    "print('n_data_size_train:',n_data_size_train)"
   ]
  },
  {
   "cell_type": "code",
   "execution_count": null,
   "metadata": {},
   "outputs": [],
   "source": []
  },
  {
   "cell_type": "code",
   "execution_count": null,
   "metadata": {},
   "outputs": [],
   "source": []
  },
  {
   "cell_type": "code",
   "execution_count": 536,
   "metadata": {
    "executionInfo": {
     "elapsed": 2,
     "status": "ok",
     "timestamp": 1658758874529,
     "user": {
      "displayName": "Tian Zheng",
      "userId": "05669554605213271767"
     },
     "user_tz": -120
    },
    "id": "jgp5FADCoitE"
   },
   "outputs": [],
   "source": [
    "import torch.nn as nn\n"
   ]
  },
  {
   "cell_type": "code",
   "execution_count": 537,
   "metadata": {
    "executionInfo": {
     "elapsed": 1,
     "status": "ok",
     "timestamp": 1658758876132,
     "user": {
      "displayName": "Tian Zheng",
      "userId": "05669554605213271767"
     },
     "user_tz": -120
    },
    "id": "JkDOfnsMYEop"
   },
   "outputs": [],
   "source": [
    "device = torch.device('cuda') if torch.cuda.is_available() else torch.device('cpu')\n",
    "# device=torch.device('cpu')"
   ]
  },
  {
   "cell_type": "code",
   "execution_count": 538,
   "metadata": {
    "executionInfo": {
     "elapsed": 1,
     "status": "ok",
     "timestamp": 1658758877324,
     "user": {
      "displayName": "Tian Zheng",
      "userId": "05669554605213271767"
     },
     "user_tz": -120
    },
    "id": "x5tjFE2DoitF"
   },
   "outputs": [],
   "source": [
    "class LSTM(nn.Module):\n",
    "    \n",
    "    def __init__(self,input_dim,hidden_dim,output_dim,layer_num):\n",
    "        super(LSTM,self).__init__()\n",
    "        self.hidden_dim = hidden_dim\n",
    "        self.output_dim = output_dim\n",
    "        self.lstm = torch.nn.LSTM(input_dim,hidden_dim,layer_num,batch_first=True)\n",
    "        self.fc = torch.nn.Linear(hidden_dim,output_dim)\n",
    "        self.bn = nn.BatchNorm1d(32)\n",
    "        \n",
    "    def forward(self,inputs):\n",
    "        x = self.bn(inputs)\n",
    "        lstm_out,(hn,cn) = self.lstm(x)\n",
    "        out = self.fc(lstm_out[:,-1,:])\n",
    "        return out"
   ]
  },
  {
   "cell_type": "code",
   "execution_count": 539,
   "metadata": {
    "colab": {
     "base_uri": "https://localhost:8080/"
    },
    "executionInfo": {
     "elapsed": 3,
     "status": "ok",
     "timestamp": 1658758878423,
     "user": {
      "displayName": "Tian Zheng",
      "userId": "05669554605213271767"
     },
     "user_tz": -120
    },
    "id": "1AU0XDCgoitG",
    "outputId": "26fd83b2-8594-4553-b0fc-abe41e5bedcb"
   },
   "outputs": [
    {
     "data": {
      "text/plain": [
       "LSTM(\n",
       "  (lstm): LSTM(54, 128, num_layers=3, batch_first=True)\n",
       "  (fc): Linear(in_features=128, out_features=6, bias=True)\n",
       "  (bn): BatchNorm1d(32, eps=1e-05, momentum=0.1, affine=True, track_running_stats=True)\n",
       ")"
      ]
     },
     "execution_count": 539,
     "metadata": {},
     "output_type": "execute_result"
    }
   ],
   "source": [
    "n_hidden = 128\n",
    "n_joints = 18*2+6*3\n",
    "n_categories = 6\n",
    "n_layer = 3\n",
    "rnn = LSTM(n_joints,n_hidden,n_categories,n_layer)\n",
    "rnn.to(device)"
   ]
  },
  {
   "cell_type": "code",
   "execution_count": null,
   "metadata": {},
   "outputs": [],
   "source": []
  },
  {
   "cell_type": "code",
   "execution_count": null,
   "metadata": {},
   "outputs": [],
   "source": []
  },
  {
   "cell_type": "code",
   "execution_count": 543,
   "metadata": {
    "executionInfo": {
     "elapsed": 1,
     "status": "ok",
     "timestamp": 1658758880113,
     "user": {
      "displayName": "Tian Zheng",
      "userId": "05669554605213271767"
     },
     "user_tz": -120
    },
    "id": "Q9dUsqkSoitG"
   },
   "outputs": [],
   "source": [
    "def categoryFromOutput(output):\n",
    "    top_n, top_i = output.topk(1)\n",
    "    category_i = top_i[0].item()\n",
    "    return LABELS[category_i], category_i"
   ]
  },
  {
   "cell_type": "code",
   "execution_count": null,
   "metadata": {
    "executionInfo": {
     "elapsed": 22,
     "status": "ok",
     "timestamp": 1658751087847,
     "user": {
      "displayName": "Tian Zheng",
      "userId": "05669554605213271767"
     },
     "user_tz": -120
    },
    "id": "WCo4CqLv3Zht"
   },
   "outputs": [],
   "source": []
  },
  {
   "cell_type": "markdown",
   "metadata": {
    "id": "uUzd9aOgoitG"
   },
   "source": [
    "### Getting Random Data "
   ]
  },
  {
   "cell_type": "code",
   "execution_count": 544,
   "metadata": {
    "executionInfo": {
     "elapsed": 1,
     "status": "ok",
     "timestamp": 1658758881915,
     "user": {
      "displayName": "Tian Zheng",
      "userId": "05669554605213271767"
     },
     "user_tz": -120
    },
    "id": "zJ5TkAt7oitH"
   },
   "outputs": [],
   "source": [
    "import random\n",
    "def randomTrainingExampleBatch(batch_size,flag,num=-1):\n",
    "    if flag == 'train':\n",
    "        X = tensor_X_train\n",
    "        y = tensor_y_train\n",
    "        data_size = n_data_size_train\n",
    "    elif flag == 'test':\n",
    "        X = tensor_X_test\n",
    "        y = tensor_y_test\n",
    "        data_size = n_data_size_test\n",
    "    if num == -1:\n",
    "        ran_num = random.randint(0,data_size-batch_size)\n",
    "    else:\n",
    "        ran_num = num\n",
    "    pose_sequence_tensor = X[ran_num:(ran_num+batch_size)]\n",
    "    pose_sequence_tensor = pose_sequence_tensor\n",
    "    category_tensor = y[ran_num:ran_num+batch_size,:]\n",
    "    return category_tensor.long(),pose_sequence_tensor"
   ]
  },
  {
   "cell_type": "markdown",
   "metadata": {
    "id": "_TDo_4lhoitH"
   },
   "source": [
    "### Training"
   ]
  },
  {
   "cell_type": "code",
   "execution_count": 463,
   "metadata": {
    "executionInfo": {
     "elapsed": 22,
     "status": "ok",
     "timestamp": 1658751087848,
     "user": {
      "displayName": "Tian Zheng",
      "userId": "05669554605213271767"
     },
     "user_tz": -120
    },
    "id": "zkqlCNb2oitH"
   },
   "outputs": [],
   "source": [
    "# try:\n",
    "#    rnn.load_state_dict(torch.load('drive/MyDrive/CACM/repo/lstm_6_bn.pth'))\n",
    "# except:\n",
    "#    print('no pkl')"
   ]
  },
  {
   "cell_type": "code",
   "execution_count": 547,
   "metadata": {
    "colab": {
     "base_uri": "https://localhost:8080/"
    },
    "id": "3jsSKxgooitI",
    "outputId": "8e67bc4b-2b80-42f9-ffea-ebf1a01b0315"
   },
   "outputs": [
    {
     "name": "stdout",
     "output_type": "stream",
     "text": [
      "1000 1% (0m 8s) 1.7955  / WAVING_1HAND ✗ (JUMPING)\n",
      "2000 2% (0m 16s) 1.7917  / BOXING ✗ (CLAPPING_HANDS)\n",
      "3000 3% (0m 25s) 1.7854  / BOXING ✗ (WAVING_1HAND)\n",
      "4000 4% (0m 33s) 1.7876  / BOXING ✗ (JUMPING_JACKS)\n",
      "5000 5% (0m 41s) 1.7843  / BOXING ✓\n",
      "6000 6% (0m 50s) 1.7874  / BOXING ✓\n",
      "7000 7% (0m 58s) 1.7891  / BOXING ✓\n",
      "8000 8% (1m 7s) 1.7767  / BOXING ✗ (JUMPING)\n",
      "9000 9% (1m 15s) 1.7521  / WAVING_1HAND ✗ (JUMPING)\n",
      "10000 10% (1m 23s) 1.5685  / CLAPPING_HANDS ✓\n",
      "11000 11% (1m 32s) 1.2475  / CLAPPING_HANDS ✓\n",
      "12000 12% (1m 40s) 1.0550  / JUMPING_JACKS ✓\n",
      "13000 13% (1m 49s) 0.7824  / JUMPING_JACKS ✓\n",
      "14000 14% (1m 57s) 0.6234  / JUMPING_JACKS ✓\n",
      "15000 15% (2m 6s) 0.6135  / CLAPPING_HANDS ✗ (BOXING)\n",
      "16000 16% (2m 14s) 0.5145  / JUMPING ✓\n",
      "17000 17% (2m 22s) 0.3605  / WAVING_2HANDS ✓\n",
      "18000 18% (2m 31s) 0.1852  / CLAPPING_HANDS ✗ (BOXING)\n",
      "19000 19% (2m 39s) 0.2456  / CLAPPING_HANDS ✓\n",
      "20000 20% (2m 48s) 0.2746  / WAVING_2HANDS ✓\n",
      "21000 21% (2m 56s) 0.0689  / WAVING_2HANDS ✓\n",
      "22000 22% (3m 5s) 0.0517  / JUMPING_JACKS ✓\n",
      "23000 23% (3m 13s) 0.0348  / BOXING ✓\n",
      "24000 24% (3m 22s) 0.2627  / WAVING_1HAND ✓\n",
      "25000 25% (3m 30s) 0.0559  / JUMPING ✓\n",
      "26000 26% (3m 39s) 0.0236  / WAVING_2HANDS ✓\n",
      "27000 27% (3m 47s) 0.0159  / JUMPING_JACKS ✓\n",
      "28000 28% (3m 56s) 0.0109  / WAVING_1HAND ✓\n",
      "29000 28% (4m 4s) 0.0499  / WAVING_2HANDS ✓\n",
      "30000 30% (4m 12s) 0.0382  / BOXING ✓\n",
      "31000 31% (4m 21s) 0.0121  / JUMPING ✓\n",
      "32000 32% (4m 29s) 0.0076  / JUMPING_JACKS ✓\n",
      "33000 33% (4m 38s) 0.0055  / JUMPING_JACKS ✓\n",
      "34000 34% (4m 46s) 0.0575  / JUMPING_JACKS ✓\n",
      "35000 35% (4m 55s) 0.0035  / CLAPPING_HANDS ✓\n",
      "36000 36% (5m 3s) 0.0080  / JUMPING ✓\n",
      "37000 37% (5m 12s) 0.0641  / WAVING_2HANDS ✓\n",
      "38000 38% (5m 20s) 0.0043  / CLAPPING_HANDS ✓\n",
      "39000 39% (5m 29s) 0.0424  / CLAPPING_HANDS ✓\n",
      "40000 40% (5m 37s) 0.0021  / WAVING_2HANDS ✓\n",
      "41000 41% (5m 46s) 0.0122  / WAVING_2HANDS ✓\n",
      "42000 42% (5m 54s) 0.0028  / JUMPING ✓\n",
      "43000 43% (6m 3s) 0.0020  / BOXING ✓\n",
      "44000 44% (6m 11s) 0.0023  / CLAPPING_HANDS ✓\n",
      "45000 45% (6m 20s) 0.0018  / BOXING ✓\n",
      "46000 46% (6m 28s) 0.0014  / JUMPING ✓\n",
      "47000 47% (6m 37s) 0.0015  / BOXING ✓\n",
      "48000 48% (6m 45s) 0.0013  / CLAPPING_HANDS ✓\n",
      "49000 49% (6m 54s) 0.0014  / BOXING ✓\n",
      "50000 50% (7m 2s) 0.0013  / JUMPING_JACKS ✓\n",
      "51000 51% (7m 11s) 0.0011  / JUMPING_JACKS ✓\n",
      "52000 52% (7m 19s) 0.0009  / BOXING ✓\n",
      "53000 53% (7m 28s) 0.0008  / CLAPPING_HANDS ✓\n",
      "54000 54% (7m 36s) 0.0009  / BOXING ✓\n",
      "55000 55% (7m 45s) 0.0008  / BOXING ✓\n",
      "56000 56% (7m 53s) 0.0008  / JUMPING ✓\n",
      "57000 56% (8m 2s) 0.0009  / CLAPPING_HANDS ✓\n",
      "58000 57% (8m 10s) 0.0009  / CLAPPING_HANDS ✓\n",
      "59000 59% (8m 19s) 0.0006  / WAVING_1HAND ✓\n",
      "60000 60% (8m 27s) 0.0006  / JUMPING_JACKS ✓\n",
      "61000 61% (8m 36s) 0.0007  / JUMPING_JACKS ✓\n",
      "62000 62% (8m 44s) 0.0007  / CLAPPING_HANDS ✓\n",
      "63000 63% (8m 53s) 0.0007  / WAVING_1HAND ✓\n",
      "64000 64% (9m 2s) 0.0934  / WAVING_1HAND ✓\n",
      "65000 65% (9m 10s) 0.0017  / CLAPPING_HANDS ✓\n",
      "66000 66% (9m 19s) 0.0009  / CLAPPING_HANDS ✓\n",
      "67000 67% (9m 27s) 0.0009  / JUMPING ✓\n",
      "68000 68% (9m 36s) 0.0008  / WAVING_2HANDS ✓\n",
      "69000 69% (9m 44s) 0.0007  / WAVING_1HAND ✓\n",
      "70000 70% (9m 53s) 0.0007  / CLAPPING_HANDS ✓\n",
      "71000 71% (10m 1s) 0.0006  / JUMPING ✓\n",
      "72000 72% (10m 10s) 0.0006  / WAVING_2HANDS ✓\n",
      "73000 73% (10m 18s) 0.0005  / CLAPPING_HANDS ✓\n",
      "74000 74% (10m 27s) 0.0006  / CLAPPING_HANDS ✓\n",
      "75000 75% (10m 35s) 0.0006  / BOXING ✓\n",
      "76000 76% (10m 44s) 0.0004  / WAVING_2HANDS ✓\n",
      "77000 77% (10m 53s) 0.0005  / JUMPING ✓\n",
      "78000 78% (11m 1s) 0.0005  / WAVING_1HAND ✓\n",
      "79000 79% (11m 10s) 0.0005  / JUMPING ✓\n",
      "80000 80% (11m 18s) 0.0005  / JUMPING ✓\n",
      "81000 81% (11m 27s) 0.0005  / JUMPING_JACKS ✓\n",
      "82000 82% (11m 35s) 0.0004  / BOXING ✓\n",
      "83000 83% (11m 44s) 0.0004  / BOXING ✓\n",
      "84000 84% (11m 52s) 0.0004  / JUMPING_JACKS ✓\n",
      "85000 85% (12m 1s) 0.0004  / CLAPPING_HANDS ✓\n",
      "86000 86% (12m 9s) 0.0004  / JUMPING_JACKS ✓\n",
      "87000 87% (12m 18s) 0.0005  / JUMPING ✓\n",
      "88000 88% (12m 26s) 0.0004  / BOXING ✓\n",
      "89000 89% (12m 35s) 0.0004  / JUMPING_JACKS ✓\n",
      "90000 90% (12m 43s) 0.0004  / JUMPING_JACKS ✓\n",
      "91000 91% (12m 52s) 0.0004  / JUMPING ✓\n",
      "92000 92% (13m 0s) 0.0003  / JUMPING_JACKS ✓\n",
      "93000 93% (13m 9s) 0.0003  / CLAPPING_HANDS ✓\n",
      "94000 94% (13m 17s) 0.0003  / BOXING ✓\n",
      "95000 95% (13m 26s) 0.0004  / JUMPING_JACKS ✓\n",
      "96000 96% (13m 35s) 0.0004  / CLAPPING_HANDS ✓\n",
      "97000 97% (13m 43s) 0.0003  / CLAPPING_HANDS ✓\n",
      "98000 98% (13m 52s) 0.0004  / WAVING_1HAND ✓\n",
      "99000 99% (14m 0s) 0.0003  / WAVING_2HANDS ✓\n",
      "100000 100% (14m 9s) 0.0003  / JUMPING_JACKS ✓\n"
     ]
    }
   ],
   "source": [
    "\n",
    "import torch.optim as optim\n",
    "import time\n",
    "import math\n",
    "\n",
    "criterion = nn.CrossEntropyLoss()\n",
    "learning_rate = 0.0005\n",
    "optimizer = optim.SGD(rnn.parameters(),lr=learning_rate,momentum=0.9)\n",
    "#scheduler = optim.lr_scheduler.StepLR(optimizer, step_size=10000, gamma=0.1)\n",
    "\n",
    "n_iters = 100000\n",
    "#n_iters = 60000\n",
    "print_every = 1000\n",
    "plot_every = 1000\n",
    "batch_size = 128\n",
    "\n",
    "# Keep track of losses for plotting\n",
    "current_loss = 0\n",
    "all_losses = []\n",
    "\n",
    "def timeSince(since):\n",
    "    now = time.time()\n",
    "    s = now - since\n",
    "    m = math.floor(s / 60)\n",
    "    s -= m * 60\n",
    "    return '%dm %ds' % (m, s)\n",
    "\n",
    "start = time.time()\n",
    "\n",
    "for iter in range(1, n_iters + 1):\n",
    "   \n",
    "    category_tensor, input_sequence = randomTrainingExampleBatch(batch_size,'train')\n",
    "    input_sequence = input_sequence.to(device)\n",
    "    category_tensor = category_tensor.to(device)\n",
    "    category_tensor = torch.squeeze(category_tensor)\n",
    "    \n",
    "    optimizer.zero_grad()\n",
    "    # print(\"intput_type\",input_sequence.type)\n",
    "    input_sequence = input_sequence.float()\n",
    "    output = rnn(input_sequence)\n",
    "    # print(output)\n",
    "    # print(category_tensor)\n",
    "    loss = criterion(output, category_tensor)\n",
    "    loss.backward()\n",
    "    optimizer.step() \n",
    "    #scheduler.step()\n",
    "    \n",
    "    #如果tensor只有一个元素,那么可以用.item()的方法取出这个元素作为普通的python数字.\n",
    "    current_loss += loss.item()\n",
    "    \n",
    "    category = LABELS[int(category_tensor[0])]\n",
    "\n",
    "    # Print iter number, loss, name and guess\n",
    "    if iter % print_every == 0:\n",
    "        guess, guess_i = categoryFromOutput(output)\n",
    "        correct = '✓' if guess == category else '✗ (%s)' % category\n",
    "        print('%d %d%% (%s) %.4f  / %s %s' % (iter, iter / n_iters * 100, timeSince(start), loss, guess, correct))\n",
    "        \n",
    "    # Add current loss avg to list of losses\n",
    "    if iter % plot_every == 0:\n",
    "        all_losses.append(current_loss / plot_every)\n",
    "        current_loss = 0"
   ]
  },
  {
   "cell_type": "code",
   "execution_count": 548,
   "metadata": {
    "executionInfo": {
     "elapsed": 16,
     "status": "aborted",
     "timestamp": 1658751087849,
     "user": {
      "displayName": "Tian Zheng",
      "userId": "05669554605213271767"
     },
     "user_tz": -120
    },
    "id": "0-ZS1dHUoitI"
   },
   "outputs": [],
   "source": [
    "torch.save(rnn.state_dict(),'C:/Users/zheng/myjupyternotebookscripts/myjupyterscript/Kurs_CACM/final_camera_and_imu_lstm_6_bn.pth')"
   ]
  },
  {
   "cell_type": "code",
   "execution_count": 553,
   "metadata": {
    "executionInfo": {
     "elapsed": 16,
     "status": "aborted",
     "timestamp": 1658751087849,
     "user": {
      "displayName": "Tian Zheng",
      "userId": "05669554605213271767"
     },
     "user_tz": -120
    },
    "id": "sgccuBfpoitI"
   },
   "outputs": [
    {
     "data": {
      "text/plain": [
       "[<matplotlib.lines.Line2D at 0x1e716503808>]"
      ]
     },
     "execution_count": 553,
     "metadata": {},
     "output_type": "execute_result"
    },
    {
     "data": {
      "image/png": "[encoded data removed]",
      "text/plain": [
       "<Figure size 432x288 with 1 Axes>"
      ]
     },
     "metadata": {
      "needs_background": "light"
     },
     "output_type": "display_data"
    }
   ],
   "source": [
    "import matplotlib.pyplot as plt\n",
    "import matplotlib.ticker as ticker\n",
    "\n",
    "plt.figure()\n",
    "plt.plot(all_losses)"
   ]
  },
  {
   "cell_type": "markdown",
   "metadata": {
    "id": "uUQkRMdzoitJ"
   },
   "source": [
    "### Testing"
   ]
  },
  {
   "cell_type": "code",
   "execution_count": 558,
   "metadata": {
    "executionInfo": {
     "elapsed": 17,
     "status": "aborted",
     "timestamp": 1658751087850,
     "user": {
      "displayName": "Tian Zheng",
      "userId": "05669554605213271767"
     },
     "user_tz": -120
    },
    "id": "KQWfyvS8oitJ"
   },
   "outputs": [],
   "source": [
    "def test(flag):\n",
    "    if flag == 'train':\n",
    "        n = n_data_size_train\n",
    "    elif flag == 'test':\n",
    "        n = n_data_size_test   \n",
    "        \n",
    "    with torch.no_grad():\n",
    "        right = 0\n",
    "        for i in range(n):\n",
    "            category_tensor, inputs = randomTrainingExampleBatch(1,flag,i)\n",
    "            category = LABELS[int(category_tensor[0])]\n",
    "            inputs = inputs.to(device)\n",
    "            inputs = inputs.float()\n",
    "            output = rnn(inputs)\n",
    "            guess, guess_i = categoryFromOutput(output)\n",
    "            category_i = LABELS.index(category)\n",
    "            if category_i == guess_i:\n",
    "                right+=1\n",
    "    print('IMU + CAMERA',flag,'accuracy',right/n)\n",
    "    return right/n"
   ]
  },
  {
   "cell_type": "code",
   "execution_count": 559,
   "metadata": {
    "executionInfo": {
     "elapsed": 16,
     "status": "aborted",
     "timestamp": 1658751087850,
     "user": {
      "displayName": "Tian Zheng",
      "userId": "05669554605213271767"
     },
     "user_tz": -120
    },
    "id": "v0Fk2VwXoitJ"
   },
   "outputs": [
    {
     "name": "stdout",
     "output_type": "stream",
     "text": [
      "test accuracy 0.9390103567318757\n"
     ]
    },
    {
     "data": {
      "text/plain": [
       "0.9390103567318757"
      ]
     },
     "execution_count": 559,
     "metadata": {},
     "output_type": "execute_result"
    }
   ],
   "source": [
    "test('test')"
   ]
  },
  {
   "cell_type": "code",
   "execution_count": 560,
   "metadata": {
    "executionInfo": {
     "elapsed": 16,
     "status": "aborted",
     "timestamp": 1658751087850,
     "user": {
      "displayName": "Tian Zheng",
      "userId": "05669554605213271767"
     },
     "user_tz": -120
    },
    "id": "Y80sInvkoitJ"
   },
   "outputs": [
    {
     "name": "stdout",
     "output_type": "stream",
     "text": [
      "train accuracy 0.9484743811168682\n"
     ]
    },
    {
     "data": {
      "text/plain": [
       "0.9484743811168682"
      ]
     },
     "execution_count": 560,
     "metadata": {},
     "output_type": "execute_result"
    }
   ],
   "source": [
    "test('train')"
   ]
  },
  {
   "cell_type": "code",
   "execution_count": 561,
   "metadata": {
    "executionInfo": {
     "elapsed": 16,
     "status": "aborted",
     "timestamp": 1658751087850,
     "user": {
      "displayName": "Tian Zheng",
      "userId": "05669554605213271767"
     },
     "user_tz": -120
    },
    "id": "ZNh9B3l2oitK",
    "scrolled": true
   },
   "outputs": [
    {
     "name": "stderr",
     "output_type": "stream",
     "text": [
      "C:\\Users\\zheng\\anaconda3\\envs\\tensorflow\\lib\\site-packages\\ipykernel_launcher.py:27: UserWarning: FixedFormatter should only be used together with FixedLocator\n",
      "C:\\Users\\zheng\\anaconda3\\envs\\tensorflow\\lib\\site-packages\\ipykernel_launcher.py:28: UserWarning: FixedFormatter should only be used together with FixedLocator\n"
     ]
    },
    {
     "data": {
      "image/png": "[encoded data removed]",
      "text/plain": [
       "<Figure size 432x288 with 2 Axes>"
      ]
     },
     "metadata": {
      "needs_background": "light"
     },
     "output_type": "display_data"
    }
   ],
   "source": [
    "# Keep track of correct guesses in a confusion matrix\n",
    "confusion = torch.zeros(n_categories, n_categories)\n",
    "n_confusion = n_data_size_test\n",
    "\n",
    "# Go through a bunch of examples and record which are correctly guessed\n",
    "for i in range(n_confusion):\n",
    "    category_tensor, inputs = randomTrainingExampleBatch(1,'test',i)\n",
    "    category = LABELS[int(category_tensor[0])]\n",
    "    inputs = inputs.to(device)\n",
    "    inputs = inputs.float()\n",
    "    output = rnn(inputs)\n",
    "    guess, guess_i = categoryFromOutput(output)\n",
    "    category_i = LABELS.index(category)\n",
    "    confusion[category_i][guess_i] += 1\n",
    "     \n",
    "# Normalize by dividing every row by its sum\n",
    "for i in range(n_categories):\n",
    "    confusion[i] = confusion[i] / confusion[i].sum()\n",
    "\n",
    "# Set up plot\n",
    "fig = plt.figure()\n",
    "ax = fig.add_subplot(111)\n",
    "cax = ax.matshow(confusion.numpy())\n",
    "fig.colorbar(cax)\n",
    "\n",
    "# Set up axes\n",
    "ax.set_xticklabels([''] + LABELS, rotation=90)\n",
    "ax.set_yticklabels([''] + LABELS)\n",
    "\n",
    "# Force label at every tick\n",
    "ax.xaxis.set_major_locator(ticker.MultipleLocator(1))\n",
    "ax.yaxis.set_major_locator(ticker.MultipleLocator(1))\n",
    "\n",
    "# sphinx_gallery_thumbnail_number = 2\n",
    "plt.show()"
   ]
  },
  {
   "cell_type": "code",
   "execution_count": null,
   "metadata": {},
   "outputs": [],
   "source": []
  },
  {
   "cell_type": "code",
   "execution_count": null,
   "metadata": {},
   "outputs": [],
   "source": []
  },
  {
   "cell_type": "code",
   "execution_count": null,
   "metadata": {},
   "outputs": [],
   "source": []
  },
  {
   "cell_type": "code",
   "execution_count": null,
   "metadata": {},
   "outputs": [],
   "source": []
  },
  {
   "cell_type": "code",
   "execution_count": null,
   "metadata": {},
   "outputs": [],
   "source": []
  },
  {
   "cell_type": "markdown",
   "metadata": {},
   "source": [
    "### IMU"
   ]
  },
  {
   "cell_type": "markdown",
   "metadata": {
    "executionInfo": {
     "elapsed": 17,
     "status": "aborted",
     "timestamp": 1658751087851,
     "user": {
      "displayName": "Tian Zheng",
      "userId": "05669554605213271767"
     },
     "user_tz": -120
    },
    "id": "li34yG5mJJ7R"
   },
   "source": [
    "### Pre-Process "
   ]
  },
  {
   "cell_type": "code",
   "execution_count": 567,
   "metadata": {},
   "outputs": [],
   "source": [
    "# Useful Constants\n",
    "# Output classes to learn how to classify\n",
    "LABELS = [    \n",
    "    \"JUMPING\",\n",
    "    \"JUMPING_JACKS\",\n",
    "    \"BOXING\",\n",
    "    \"WAVING_2HANDS\",\n",
    "    \"WAVING_1HAND\",\n",
    "    \"CLAPPING_HANDS\"\n",
    "\n",
    "] \n",
    "\n",
    "\n",
    "n_steps = 32 # 32 timesteps per series\n",
    "n_categories = len(LABELS)"
   ]
  },
  {
   "cell_type": "code",
   "execution_count": 568,
   "metadata": {},
   "outputs": [
    {
     "name": "stdout",
     "output_type": "stream",
     "text": [
      "test_imu_data_size: torch.Size([869, 32, 18])\n",
      "test_imu_label_size: torch.Size([869, 1])\n",
      "n_data_size_imu_test: 869\n",
      "train_imu_data_size: torch.Size([3474, 32, 18])\n",
      "train_imu_label_size: torch.Size([3474, 1])\n",
      "n_data_size_imu_train: 3474\n"
     ]
    }
   ],
   "source": [
    "tensor_X_test = torch.from_numpy(X_imu_test)\n",
    "print('test_imu_data_size:',tensor_X_test.size())\n",
    "tensor_y_test = torch.from_numpy(y_imu_test)\n",
    "print('test_imu_label_size:',tensor_y_test.size())\n",
    "n_data_size_test = tensor_X_test.size()[0]\n",
    "print('n_data_size_imu_test:',n_data_size_test)\n",
    "\n",
    "tensor_X_train = torch.from_numpy(X_imu_train)\n",
    "print('train_imu_data_size:',tensor_X_train.size())\n",
    "tensor_y_train = torch.from_numpy(y_imu_train)\n",
    "print('train_imu_label_size:',tensor_y_train.size())\n",
    "n_data_size_train = tensor_X_train.size()[0]\n",
    "print('n_data_size_imu_train:',n_data_size_train)"
   ]
  },
  {
   "cell_type": "code",
   "execution_count": 569,
   "metadata": {},
   "outputs": [
    {
     "data": {
      "text/plain": [
       "LSTM(\n",
       "  (lstm): LSTM(18, 128, num_layers=3, batch_first=True)\n",
       "  (fc): Linear(in_features=128, out_features=6, bias=True)\n",
       "  (bn): BatchNorm1d(32, eps=1e-05, momentum=0.1, affine=True, track_running_stats=True)\n",
       ")"
      ]
     },
     "execution_count": 569,
     "metadata": {},
     "output_type": "execute_result"
    }
   ],
   "source": [
    "n_hidden = 128\n",
    "n_joints = 6*3\n",
    "n_categories = 6\n",
    "n_layer = 3\n",
    "rnn = LSTM(n_joints,n_hidden,n_categories,n_layer)\n",
    "rnn.to(device)"
   ]
  },
  {
   "cell_type": "markdown",
   "metadata": {},
   "source": [
    "### Get Random Data"
   ]
  },
  {
   "cell_type": "code",
   "execution_count": 570,
   "metadata": {},
   "outputs": [],
   "source": [
    "\n",
    "def randomTrainingExampleBatch(batch_size,flag,num=-1):\n",
    "    if flag == 'train':\n",
    "        X = tensor_X_train\n",
    "        y = tensor_y_train\n",
    "        data_size = n_data_size_train\n",
    "    elif flag == 'test':\n",
    "        X = tensor_X_test\n",
    "        y = tensor_y_test\n",
    "        data_size = n_data_size_test\n",
    "    if num == -1:\n",
    "        ran_num = random.randint(0,data_size-batch_size)\n",
    "    else:\n",
    "        ran_num = num\n",
    "    pose_sequence_tensor = X[ran_num:(ran_num+batch_size)]\n",
    "    pose_sequence_tensor = pose_sequence_tensor\n",
    "    category_tensor = y[ran_num:ran_num+batch_size,:]\n",
    "    return category_tensor.long(),pose_sequence_tensor"
   ]
  },
  {
   "cell_type": "markdown",
   "metadata": {},
   "source": [
    "### Training"
   ]
  },
  {
   "cell_type": "code",
   "execution_count": 571,
   "metadata": {},
   "outputs": [
    {
     "name": "stdout",
     "output_type": "stream",
     "text": [
      "1000 1% (0m 8s) 1.7790  / BOXING ✗ (WAVING_2HANDS)\n",
      "2000 2% (0m 16s) 1.7470  / BOXING ✓\n",
      "3000 3% (0m 24s) 1.5933  / BOXING ✗ (WAVING_2HANDS)\n",
      "4000 4% (0m 31s) 1.1562  / BOXING ✓\n",
      "5000 5% (0m 39s) 0.7708  / JUMPING_JACKS ✓\n",
      "6000 6% (0m 47s) 0.5488  / WAVING_2HANDS ✓\n",
      "7000 7% (0m 55s) 0.3340  / JUMPING_JACKS ✓\n",
      "8000 8% (1m 3s) 0.2485  / JUMPING ✓\n",
      "9000 9% (1m 11s) 0.0998  / CLAPPING_HANDS ✓\n",
      "10000 10% (1m 20s) 0.0691  / BOXING ✓\n",
      "11000 11% (1m 28s) 0.0396  / BOXING ✓\n",
      "12000 12% (1m 36s) 0.0209  / JUMPING ✓\n",
      "13000 13% (1m 44s) 0.0294  / JUMPING_JACKS ✓\n",
      "14000 14% (1m 52s) 0.0078  / WAVING_1HAND ✓\n",
      "15000 15% (2m 1s) 0.0161  / WAVING_1HAND ✓\n",
      "16000 16% (2m 9s) 0.0054  / BOXING ✓\n",
      "17000 17% (2m 17s) 0.0040  / WAVING_2HANDS ✓\n",
      "18000 18% (2m 25s) 0.0042  / WAVING_2HANDS ✓\n",
      "19000 19% (2m 33s) 0.0033  / WAVING_1HAND ✓\n",
      "20000 20% (2m 41s) 0.0033  / WAVING_2HANDS ✓\n",
      "21000 21% (2m 49s) 0.0042  / BOXING ✓\n",
      "22000 22% (2m 57s) 0.0033  / WAVING_1HAND ✓\n",
      "23000 23% (3m 5s) 0.0024  / CLAPPING_HANDS ✓\n",
      "24000 24% (3m 13s) 0.0031  / JUMPING_JACKS ✓\n",
      "25000 25% (3m 21s) 0.0023  / BOXING ✓\n",
      "26000 26% (3m 30s) 0.0022  / JUMPING ✓\n",
      "27000 27% (3m 38s) 0.0017  / JUMPING_JACKS ✓\n",
      "28000 28% (3m 46s) 0.0019  / BOXING ✓\n",
      "29000 28% (3m 54s) 0.0018  / WAVING_1HAND ✓\n",
      "30000 30% (4m 3s) 0.0016  / WAVING_1HAND ✓\n",
      "31000 31% (4m 11s) 0.0020  / BOXING ✓\n",
      "32000 32% (4m 19s) 0.0013  / WAVING_1HAND ✓\n",
      "33000 33% (4m 28s) 0.0014  / WAVING_1HAND ✓\n",
      "34000 34% (4m 36s) 0.0013  / JUMPING_JACKS ✓\n",
      "35000 35% (4m 44s) 0.0011  / JUMPING ✓\n",
      "36000 36% (4m 52s) 0.0011  / JUMPING_JACKS ✓\n",
      "37000 37% (5m 1s) 0.0010  / JUMPING ✓\n",
      "38000 38% (5m 9s) 0.0012  / WAVING_2HANDS ✓\n",
      "39000 39% (5m 17s) 0.0009  / JUMPING_JACKS ✓\n",
      "40000 40% (5m 25s) 0.0013  / CLAPPING_HANDS ✓\n",
      "41000 41% (5m 34s) 0.0010  / CLAPPING_HANDS ✓\n",
      "42000 42% (5m 42s) 0.0008  / CLAPPING_HANDS ✓\n",
      "43000 43% (5m 50s) 0.0011  / WAVING_2HANDS ✓\n",
      "44000 44% (5m 59s) 0.0008  / JUMPING ✓\n",
      "45000 45% (6m 7s) 0.0008  / JUMPING ✓\n",
      "46000 46% (6m 16s) 0.0008  / CLAPPING_HANDS ✓\n",
      "47000 47% (6m 24s) 0.0007  / BOXING ✓\n",
      "48000 48% (6m 33s) 0.0009  / WAVING_1HAND ✓\n",
      "49000 49% (6m 41s) 0.0007  / WAVING_2HANDS ✓\n",
      "50000 50% (6m 50s) 0.0008  / JUMPING_JACKS ✓\n",
      "51000 51% (6m 58s) 0.0008  / JUMPING_JACKS ✓\n",
      "52000 52% (7m 7s) 0.0006  / WAVING_2HANDS ✓\n",
      "53000 53% (7m 15s) 0.0008  / CLAPPING_HANDS ✓\n",
      "54000 54% (7m 23s) 0.0006  / JUMPING_JACKS ✓\n",
      "55000 55% (7m 32s) 0.0006  / WAVING_2HANDS ✓\n",
      "56000 56% (7m 40s) 0.0006  / WAVING_1HAND ✓\n",
      "57000 56% (7m 49s) 0.0005  / CLAPPING_HANDS ✓\n",
      "58000 57% (7m 57s) 0.0006  / WAVING_1HAND ✓\n",
      "59000 59% (8m 5s) 0.0006  / WAVING_1HAND ✓\n",
      "60000 60% (8m 14s) 0.0007  / BOXING ✓\n",
      "61000 61% (8m 22s) 0.0005  / JUMPING_JACKS ✓\n",
      "62000 62% (8m 31s) 0.0006  / BOXING ✓\n",
      "63000 63% (8m 39s) 0.0007  / JUMPING_JACKS ✓\n",
      "64000 64% (8m 47s) 0.0006  / WAVING_2HANDS ✓\n",
      "65000 65% (8m 56s) 0.0005  / JUMPING_JACKS ✓\n",
      "66000 66% (9m 4s) 0.0006  / BOXING ✓\n",
      "67000 67% (9m 13s) 0.0005  / BOXING ✓\n",
      "68000 68% (9m 21s) 0.0006  / CLAPPING_HANDS ✓\n",
      "69000 69% (9m 30s) 0.0005  / WAVING_1HAND ✓\n",
      "70000 70% (9m 39s) 0.0005  / BOXING ✓\n",
      "71000 71% (9m 47s) 0.0005  / CLAPPING_HANDS ✓\n",
      "72000 72% (9m 56s) 0.0005  / CLAPPING_HANDS ✓\n",
      "73000 73% (10m 5s) 0.0005  / WAVING_2HANDS ✓\n",
      "74000 74% (10m 13s) 0.0005  / CLAPPING_HANDS ✓\n",
      "75000 75% (10m 22s) 0.0004  / WAVING_1HAND ✓\n",
      "76000 76% (10m 30s) 0.0005  / WAVING_2HANDS ✓\n",
      "77000 77% (10m 39s) 0.0004  / JUMPING ✓\n",
      "78000 78% (10m 48s) 0.0004  / BOXING ✓\n",
      "79000 79% (10m 56s) 0.0004  / JUMPING_JACKS ✓\n",
      "80000 80% (11m 5s) 0.0004  / JUMPING ✓\n",
      "81000 81% (11m 13s) 0.0004  / BOXING ✓\n",
      "82000 82% (11m 22s) 0.0004  / JUMPING_JACKS ✓\n",
      "83000 83% (11m 30s) 0.0004  / WAVING_2HANDS ✓\n",
      "84000 84% (11m 39s) 0.0004  / JUMPING_JACKS ✓\n",
      "85000 85% (11m 48s) 0.0004  / JUMPING ✓\n",
      "86000 86% (11m 56s) 0.0006  / BOXING ✓\n",
      "87000 87% (12m 5s) 0.0006  / JUMPING_JACKS ✓\n",
      "88000 88% (12m 13s) 0.0004  / BOXING ✓\n",
      "89000 89% (12m 22s) 0.0004  / WAVING_2HANDS ✓\n",
      "90000 90% (12m 30s) 0.0003  / BOXING ✓\n",
      "91000 91% (12m 39s) 0.0003  / CLAPPING_HANDS ✓\n",
      "92000 92% (12m 47s) 0.0003  / WAVING_1HAND ✓\n",
      "93000 93% (12m 55s) 0.0004  / BOXING ✓\n",
      "94000 94% (13m 4s) 0.0004  / JUMPING_JACKS ✓\n",
      "95000 95% (13m 12s) 0.0003  / JUMPING_JACKS ✓\n",
      "96000 96% (13m 21s) 0.0003  / JUMPING ✓\n",
      "97000 97% (13m 29s) 0.0003  / WAVING_2HANDS ✓\n",
      "98000 98% (13m 38s) 0.0003  / JUMPING ✓\n",
      "99000 99% (13m 46s) 0.0003  / WAVING_1HAND ✓\n",
      "100000 100% (13m 55s) 0.0003  / BOXING ✓\n"
     ]
    }
   ],
   "source": [
    "\n",
    "import torch.optim as optim\n",
    "import time\n",
    "import math\n",
    "\n",
    "criterion = nn.CrossEntropyLoss()\n",
    "learning_rate = 0.0005\n",
    "optimizer = optim.SGD(rnn.parameters(),lr=learning_rate,momentum=0.9)\n",
    "#scheduler = optim.lr_scheduler.StepLR(optimizer, step_size=10000, gamma=0.1)\n",
    "\n",
    "n_iters = 100000\n",
    "#n_iters = 60000\n",
    "print_every = 1000\n",
    "plot_every = 1000\n",
    "batch_size = 128\n",
    "\n",
    "# Keep track of losses for plotting\n",
    "current_loss = 0\n",
    "all_losses = []\n",
    "\n",
    "def timeSince(since):\n",
    "    now = time.time()\n",
    "    s = now - since\n",
    "    m = math.floor(s / 60)\n",
    "    s -= m * 60\n",
    "    return '%dm %ds' % (m, s)\n",
    "\n",
    "start = time.time()\n",
    "\n",
    "for iter in range(1, n_iters + 1):\n",
    "   \n",
    "    category_tensor, input_sequence = randomTrainingExampleBatch(batch_size,'train')\n",
    "    input_sequence = input_sequence.to(device)\n",
    "    category_tensor = category_tensor.to(device)\n",
    "    category_tensor = torch.squeeze(category_tensor)\n",
    "    \n",
    "    optimizer.zero_grad()\n",
    "    # print(\"intput_type\",input_sequence.type)\n",
    "    input_sequence = input_sequence.float()\n",
    "    output = rnn(input_sequence)\n",
    "    # print(output)\n",
    "    # print(category_tensor)\n",
    "    loss = criterion(output, category_tensor)\n",
    "    loss.backward()\n",
    "    optimizer.step() \n",
    "    #scheduler.step()\n",
    "    \n",
    "    #如果tensor只有一个元素,那么可以用.item()的方法取出这个元素作为普通的python数字.\n",
    "    current_loss += loss.item()\n",
    "    \n",
    "    category = LABELS[int(category_tensor[0])]\n",
    "\n",
    "    # Print iter number, loss, name and guess\n",
    "    if iter % print_every == 0:\n",
    "        guess, guess_i = categoryFromOutput(output)\n",
    "        correct = '✓' if guess == category else '✗ (%s)' % category\n",
    "        print('%d %d%% (%s) %.4f  / %s %s' % (iter, iter / n_iters * 100, timeSince(start), loss, guess, correct))\n",
    "        \n",
    "    # Add current loss avg to list of losses\n",
    "    if iter % plot_every == 0:\n",
    "        all_losses.append(current_loss / plot_every)\n",
    "        current_loss = 0"
   ]
  },
  {
   "cell_type": "code",
   "execution_count": 572,
   "metadata": {},
   "outputs": [],
   "source": [
    "torch.save(rnn.state_dict(),'C:/Users/zheng/myjupyternotebookscripts/myjupyterscript/Kurs_CACM/final_imu_lstm_6_bn.pth')"
   ]
  },
  {
   "cell_type": "code",
   "execution_count": 573,
   "metadata": {},
   "outputs": [
    {
     "data": {
      "text/plain": [
       "[<matplotlib.lines.Line2D at 0x1e7167bd3c8>]"
      ]
     },
     "execution_count": 573,
     "metadata": {},
     "output_type": "execute_result"
    },
    {
     "data": {
      "image/png": "[encoded data removed]",
      "text/plain": [
       "<Figure size 432x288 with 1 Axes>"
      ]
     },
     "metadata": {
      "needs_background": "light"
     },
     "output_type": "display_data"
    }
   ],
   "source": [
    "import matplotlib.pyplot as plt\n",
    "import matplotlib.ticker as ticker\n",
    "\n",
    "plt.figure()\n",
    "plt.plot(all_losses)"
   ]
  },
  {
   "cell_type": "markdown",
   "metadata": {},
   "source": [
    "### Testing"
   ]
  },
  {
   "cell_type": "code",
   "execution_count": 574,
   "metadata": {},
   "outputs": [],
   "source": [
    "def test(flag):\n",
    "    if flag == 'train':\n",
    "        n = n_data_size_train\n",
    "    elif flag == 'test':\n",
    "        n = n_data_size_test   \n",
    "        \n",
    "    with torch.no_grad():\n",
    "        right = 0\n",
    "        for i in range(n):\n",
    "            category_tensor, inputs = randomTrainingExampleBatch(1,flag,i)\n",
    "            category = LABELS[int(category_tensor[0])]\n",
    "            inputs = inputs.to(device)\n",
    "            inputs = inputs.float()\n",
    "            output = rnn(inputs)\n",
    "            guess, guess_i = categoryFromOutput(output)\n",
    "            category_i = LABELS.index(category)\n",
    "            if category_i == guess_i:\n",
    "                right+=1\n",
    "    print('IMU',flag,'accuracy',right/n)\n",
    "    return right/n"
   ]
  },
  {
   "cell_type": "code",
   "execution_count": 575,
   "metadata": {},
   "outputs": [
    {
     "name": "stdout",
     "output_type": "stream",
     "text": [
      "test accuracy 0.7963176064441887\n"
     ]
    },
    {
     "data": {
      "text/plain": [
       "0.7963176064441887"
      ]
     },
     "execution_count": 575,
     "metadata": {},
     "output_type": "execute_result"
    }
   ],
   "source": [
    "test('test')"
   ]
  },
  {
   "cell_type": "code",
   "execution_count": 576,
   "metadata": {},
   "outputs": [
    {
     "name": "stdout",
     "output_type": "stream",
     "text": [
      "train accuracy 0.8033966609096143\n"
     ]
    },
    {
     "data": {
      "text/plain": [
       "0.8033966609096143"
      ]
     },
     "execution_count": 576,
     "metadata": {},
     "output_type": "execute_result"
    }
   ],
   "source": [
    "test('train')"
   ]
  },
  {
   "cell_type": "code",
   "execution_count": 577,
   "metadata": {},
   "outputs": [
    {
     "name": "stderr",
     "output_type": "stream",
     "text": [
      "C:\\Users\\zheng\\anaconda3\\envs\\tensorflow\\lib\\site-packages\\ipykernel_launcher.py:27: UserWarning: FixedFormatter should only be used together with FixedLocator\n",
      "C:\\Users\\zheng\\anaconda3\\envs\\tensorflow\\lib\\site-packages\\ipykernel_launcher.py:28: UserWarning: FixedFormatter should only be used together with FixedLocator\n"
     ]
    },
    {
     "data": {
      "image/png": "[encoded data removed]",
      "text/plain": [
       "<Figure size 432x288 with 2 Axes>"
      ]
     },
     "metadata": {
      "needs_background": "light"
     },
     "output_type": "display_data"
    }
   ],
   "source": [
    "# Keep track of correct guesses in a confusion matrix\n",
    "confusion = torch.zeros(n_categories, n_categories)\n",
    "n_confusion = n_data_size_test\n",
    "\n",
    "# Go through a bunch of examples and record which are correctly guessed\n",
    "for i in range(n_confusion):\n",
    "    category_tensor, inputs = randomTrainingExampleBatch(1,'test',i)\n",
    "    category = LABELS[int(category_tensor[0])]\n",
    "    inputs = inputs.to(device)\n",
    "    inputs = inputs.float()\n",
    "    output = rnn(inputs)\n",
    "    guess, guess_i = categoryFromOutput(output)\n",
    "    category_i = LABELS.index(category)\n",
    "    confusion[category_i][guess_i] += 1\n",
    "     \n",
    "# Normalize by dividing every row by its sum\n",
    "for i in range(n_categories):\n",
    "    confusion[i] = confusion[i] / confusion[i].sum()\n",
    "\n",
    "# Set up plot\n",
    "fig = plt.figure()\n",
    "ax = fig.add_subplot(111)\n",
    "cax = ax.matshow(confusion.numpy())\n",
    "fig.colorbar(cax)\n",
    "\n",
    "# Set up axes\n",
    "ax.set_xticklabels([''] + LABELS, rotation=90)\n",
    "ax.set_yticklabels([''] + LABELS)\n",
    "\n",
    "# Force label at every tick\n",
    "ax.xaxis.set_major_locator(ticker.MultipleLocator(1))\n",
    "ax.yaxis.set_major_locator(ticker.MultipleLocator(1))\n",
    "\n",
    "# sphinx_gallery_thumbnail_number = 2\n",
    "plt.show()"
   ]
  },
  {
   "cell_type": "code",
   "execution_count": null,
   "metadata": {},
   "outputs": [],
   "source": []
  },
  {
   "cell_type": "code",
   "execution_count": null,
   "metadata": {},
   "outputs": [],
   "source": []
  },
  {
   "cell_type": "code",
   "execution_count": null,
   "metadata": {},
   "outputs": [],
   "source": []
  },
  {
   "cell_type": "code",
   "execution_count": null,
   "metadata": {},
   "outputs": [],
   "source": []
  },
  {
   "cell_type": "code",
   "execution_count": null,
   "metadata": {},
   "outputs": [],
   "source": []
  },
  {
   "cell_type": "markdown",
   "metadata": {},
   "source": [
    "### Camera"
   ]
  },
  {
   "cell_type": "markdown",
   "metadata": {},
   "source": [
    "### Pre-Process "
   ]
  },
  {
   "cell_type": "code",
   "execution_count": 578,
   "metadata": {},
   "outputs": [
    {
     "name": "stdout",
     "output_type": "stream",
     "text": [
      "test_camera_data_size: torch.Size([869, 32, 36])\n",
      "test_camera_label_size: torch.Size([869, 1])\n",
      "n_data_size_camera_test: 869\n",
      "train_camera_data_size: torch.Size([3474, 32, 36])\n",
      "train_camera_label_size: torch.Size([3474, 1])\n",
      "n_data_size_camera_train: 3474\n"
     ]
    }
   ],
   "source": [
    "tensor_X_test = torch.from_numpy(X_camera_test)\n",
    "print('test_camera_data_size:',tensor_X_test.size())\n",
    "tensor_y_test = torch.from_numpy(y_camera_test)\n",
    "print('test_camera_label_size:',tensor_y_test.size())\n",
    "n_data_size_test = tensor_X_test.size()[0]\n",
    "print('n_data_size_camera_test:',n_data_size_test)\n",
    "\n",
    "tensor_X_train = torch.from_numpy(X_camera_train)\n",
    "print('train_camera_data_size:',tensor_X_train.size())\n",
    "tensor_y_train = torch.from_numpy(y_camera_train)\n",
    "print('train_camera_label_size:',tensor_y_train.size())\n",
    "n_data_size_train = tensor_X_train.size()[0]\n",
    "print('n_data_size_camera_train:',n_data_size_train)"
   ]
  },
  {
   "cell_type": "code",
   "execution_count": 579,
   "metadata": {},
   "outputs": [
    {
     "data": {
      "text/plain": [
       "LSTM(\n",
       "  (lstm): LSTM(36, 128, num_layers=3, batch_first=True)\n",
       "  (fc): Linear(in_features=128, out_features=6, bias=True)\n",
       "  (bn): BatchNorm1d(32, eps=1e-05, momentum=0.1, affine=True, track_running_stats=True)\n",
       ")"
      ]
     },
     "execution_count": 579,
     "metadata": {},
     "output_type": "execute_result"
    }
   ],
   "source": [
    "n_hidden = 128\n",
    "n_joints = 18*2\n",
    "n_categories = 6\n",
    "n_layer = 3\n",
    "rnn = LSTM(n_joints,n_hidden,n_categories,n_layer)\n",
    "rnn.to(device)"
   ]
  },
  {
   "cell_type": "markdown",
   "metadata": {},
   "source": [
    "### Get Random Data"
   ]
  },
  {
   "cell_type": "code",
   "execution_count": 580,
   "metadata": {},
   "outputs": [],
   "source": [
    "import random\n",
    "def randomTrainingExampleBatch(batch_size,flag,num=-1):\n",
    "    if flag == 'train':\n",
    "        X = tensor_X_train\n",
    "        y = tensor_y_train\n",
    "        data_size = n_data_size_train\n",
    "    elif flag == 'test':\n",
    "        X = tensor_X_test\n",
    "        y = tensor_y_test\n",
    "        data_size = n_data_size_test\n",
    "    if num == -1:\n",
    "        ran_num = random.randint(0,data_size-batch_size)\n",
    "    else:\n",
    "        ran_num = num\n",
    "    pose_sequence_tensor = X[ran_num:(ran_num+batch_size)]\n",
    "    pose_sequence_tensor = pose_sequence_tensor\n",
    "    category_tensor = y[ran_num:ran_num+batch_size,:]\n",
    "    return category_tensor.long(),pose_sequence_tensor"
   ]
  },
  {
   "cell_type": "markdown",
   "metadata": {},
   "source": [
    "### Train"
   ]
  },
  {
   "cell_type": "code",
   "execution_count": 581,
   "metadata": {},
   "outputs": [
    {
     "name": "stdout",
     "output_type": "stream",
     "text": [
      "1000 1% (0m 8s) 1.7918  / BOXING ✗ (WAVING_1HAND)\n",
      "2000 2% (0m 17s) 1.7896  / BOXING ✗ (CLAPPING_HANDS)\n",
      "3000 3% (0m 26s) 1.7865  / BOXING ✗ (JUMPING_JACKS)\n",
      "4000 4% (0m 35s) 1.7858  / BOXING ✗ (JUMPING_JACKS)\n",
      "5000 5% (0m 44s) 1.7788  / BOXING ✗ (JUMPING)\n",
      "6000 6% (0m 53s) 1.7811  / BOXING ✓\n",
      "7000 7% (1m 2s) 1.7677  / BOXING ✗ (CLAPPING_HANDS)\n",
      "8000 8% (1m 11s) 1.6859  / BOXING ✗ (JUMPING_JACKS)\n",
      "9000 9% (1m 19s) 1.3902  / CLAPPING_HANDS ✓\n",
      "10000 10% (1m 28s) 1.2229  / CLAPPING_HANDS ✓\n",
      "11000 11% (1m 38s) 0.9907  / WAVING_2HANDS ✓\n",
      "12000 12% (1m 47s) 0.8544  / CLAPPING_HANDS ✓\n",
      "13000 13% (1m 56s) 0.7085  / BOXING ✓\n",
      "14000 14% (2m 5s) 0.4858  / JUMPING ✗ (CLAPPING_HANDS)\n",
      "15000 15% (2m 14s) 0.4336  / BOXING ✗ (JUMPING)\n",
      "16000 16% (2m 23s) 0.3438  / WAVING_1HAND ✓\n",
      "17000 17% (2m 32s) 0.3214  / JUMPING ✓\n",
      "18000 18% (2m 41s) 0.2935  / JUMPING_JACKS ✗ (WAVING_2HANDS)\n",
      "19000 19% (2m 50s) 0.1236  / JUMPING ✓\n",
      "20000 20% (2m 59s) 0.1190  / CLAPPING_HANDS ✓\n",
      "21000 21% (3m 7s) 0.0750  / JUMPING ✓\n",
      "22000 22% (3m 16s) 0.0776  / BOXING ✓\n",
      "23000 23% (3m 25s) 0.0349  / BOXING ✓\n",
      "24000 24% (3m 34s) 0.0585  / WAVING_1HAND ✓\n",
      "25000 25% (3m 43s) 0.0582  / BOXING ✓\n",
      "26000 26% (3m 52s) 0.0483  / WAVING_2HANDS ✓\n",
      "27000 27% (4m 1s) 0.0272  / JUMPING_JACKS ✓\n",
      "28000 28% (4m 10s) 0.0169  / JUMPING_JACKS ✓\n",
      "29000 28% (4m 19s) 0.0083  / CLAPPING_HANDS ✓\n",
      "30000 30% (4m 28s) 0.0421  / BOXING ✓\n",
      "31000 31% (4m 37s) 0.0097  / BOXING ✓\n",
      "32000 32% (4m 46s) 0.0378  / WAVING_2HANDS ✓\n",
      "33000 33% (4m 55s) 0.0032  / WAVING_1HAND ✓\n",
      "34000 34% (5m 4s) 0.0130  / WAVING_2HANDS ✓\n",
      "35000 35% (5m 13s) 0.0029  / WAVING_1HAND ✓\n",
      "36000 36% (5m 22s) 0.0032  / JUMPING_JACKS ✓\n",
      "37000 37% (5m 31s) 0.0023  / BOXING ✓\n",
      "38000 38% (5m 40s) 0.0020  / BOXING ✓\n",
      "39000 39% (5m 49s) 0.0019  / BOXING ✓\n",
      "40000 40% (5m 58s) 0.0018  / JUMPING_JACKS ✓\n",
      "41000 41% (6m 7s) 0.0027  / CLAPPING_HANDS ✓\n",
      "42000 42% (6m 16s) 0.0018  / JUMPING_JACKS ✓\n",
      "43000 43% (6m 25s) 0.0025  / BOXING ✓\n",
      "44000 44% (6m 34s) 0.0021  / JUMPING ✓\n",
      "45000 45% (6m 44s) 0.0014  / CLAPPING_HANDS ✓\n",
      "46000 46% (6m 53s) 0.0014  / WAVING_2HANDS ✓\n",
      "47000 47% (7m 2s) 0.0427  / WAVING_1HAND ✓\n",
      "48000 48% (7m 11s) 0.0014  / JUMPING_JACKS ✓\n",
      "49000 49% (7m 20s) 0.0012  / WAVING_2HANDS ✓\n",
      "50000 50% (7m 29s) 0.0012  / WAVING_1HAND ✓\n",
      "51000 51% (7m 39s) 0.0010  / CLAPPING_HANDS ✓\n",
      "52000 52% (7m 48s) 0.0015  / BOXING ✓\n",
      "53000 53% (7m 57s) 0.0019  / BOXING ✓\n",
      "54000 54% (8m 6s) 0.0011  / WAVING_1HAND ✓\n",
      "55000 55% (8m 15s) 0.0013  / JUMPING_JACKS ✓\n",
      "56000 56% (8m 25s) 0.0014  / WAVING_2HANDS ✓\n",
      "57000 56% (8m 34s) 0.0008  / CLAPPING_HANDS ✓\n",
      "58000 57% (8m 43s) 0.0007  / BOXING ✓\n",
      "59000 59% (8m 53s) 0.0007  / BOXING ✓\n",
      "60000 60% (9m 2s) 0.0008  / WAVING_2HANDS ✓\n",
      "61000 61% (9m 11s) 0.0008  / JUMPING ✓\n",
      "62000 62% (9m 21s) 0.0009  / BOXING ✓\n",
      "63000 63% (9m 30s) 0.0007  / WAVING_2HANDS ✓\n",
      "64000 64% (9m 39s) 0.0006  / BOXING ✓\n",
      "65000 65% (9m 48s) 0.0007  / JUMPING ✓\n",
      "66000 66% (9m 57s) 0.0007  / WAVING_1HAND ✓\n",
      "67000 67% (10m 7s) 0.0005  / CLAPPING_HANDS ✓\n",
      "68000 68% (10m 16s) 0.0005  / BOXING ✓\n",
      "69000 69% (10m 25s) 0.0006  / CLAPPING_HANDS ✓\n",
      "70000 70% (10m 34s) 0.0005  / WAVING_1HAND ✓\n",
      "71000 71% (10m 43s) 0.0005  / BOXING ✓\n",
      "72000 72% (10m 52s) 0.0005  / JUMPING_JACKS ✓\n",
      "73000 73% (11m 2s) 0.0005  / CLAPPING_HANDS ✓\n",
      "74000 74% (11m 11s) 0.0005  / JUMPING ✓\n",
      "75000 75% (11m 20s) 0.0005  / BOXING ✓\n",
      "76000 76% (11m 29s) 0.0005  / CLAPPING_HANDS ✓\n",
      "77000 77% (11m 38s) 0.0005  / CLAPPING_HANDS ✓\n",
      "78000 78% (11m 47s) 0.0004  / WAVING_1HAND ✓\n",
      "79000 79% (11m 57s) 0.0004  / JUMPING_JACKS ✓\n",
      "80000 80% (12m 6s) 0.0004  / WAVING_1HAND ✓\n",
      "81000 81% (12m 15s) 0.0005  / BOXING ✓\n",
      "82000 82% (12m 24s) 0.0004  / WAVING_2HANDS ✓\n",
      "83000 83% (12m 34s) 0.0005  / JUMPING ✓\n",
      "84000 84% (12m 43s) 0.0006  / BOXING ✓\n",
      "85000 85% (12m 52s) 0.0004  / JUMPING ✓\n",
      "86000 86% (13m 1s) 0.0004  / CLAPPING_HANDS ✓\n",
      "87000 87% (13m 10s) 0.0004  / WAVING_1HAND ✓\n",
      "88000 88% (13m 19s) 0.0004  / WAVING_1HAND ✓\n",
      "89000 89% (13m 29s) 0.0004  / WAVING_2HANDS ✓\n",
      "90000 90% (13m 38s) 0.0004  / BOXING ✓\n",
      "91000 91% (13m 47s) 0.0004  / JUMPING_JACKS ✓\n",
      "92000 92% (13m 56s) 0.0004  / JUMPING ✓\n",
      "93000 93% (14m 5s) 0.0004  / JUMPING ✓\n",
      "94000 94% (14m 15s) 0.0004  / BOXING ✓\n",
      "95000 95% (14m 24s) 0.0003  / WAVING_1HAND ✓\n",
      "96000 96% (14m 33s) 0.0004  / WAVING_1HAND ✓\n",
      "97000 97% (14m 42s) 0.0004  / CLAPPING_HANDS ✓\n",
      "98000 98% (14m 51s) 0.0003  / WAVING_2HANDS ✓\n",
      "99000 99% (15m 1s) 0.0003  / BOXING ✓\n",
      "100000 100% (15m 10s) 0.0003  / WAVING_2HANDS ✓\n"
     ]
    }
   ],
   "source": [
    "\n",
    "import torch.optim as optim\n",
    "import time\n",
    "import math\n",
    "\n",
    "criterion = nn.CrossEntropyLoss()\n",
    "learning_rate = 0.0005\n",
    "optimizer = optim.SGD(rnn.parameters(),lr=learning_rate,momentum=0.9)\n",
    "#scheduler = optim.lr_scheduler.StepLR(optimizer, step_size=10000, gamma=0.1)\n",
    "\n",
    "n_iters = 100000\n",
    "#n_iters = 60000\n",
    "print_every = 1000\n",
    "plot_every = 1000\n",
    "batch_size = 128\n",
    "\n",
    "# Keep track of losses for plotting\n",
    "current_loss = 0\n",
    "all_losses = []\n",
    "\n",
    "def timeSince(since):\n",
    "    now = time.time()\n",
    "    s = now - since\n",
    "    m = math.floor(s / 60)\n",
    "    s -= m * 60\n",
    "    return '%dm %ds' % (m, s)\n",
    "\n",
    "start = time.time()\n",
    "\n",
    "for iter in range(1, n_iters + 1):\n",
    "   \n",
    "    category_tensor, input_sequence = randomTrainingExampleBatch(batch_size,'train')\n",
    "    input_sequence = input_sequence.to(device)\n",
    "    category_tensor = category_tensor.to(device)\n",
    "    category_tensor = torch.squeeze(category_tensor)\n",
    "    \n",
    "    optimizer.zero_grad()\n",
    "    # print(\"intput_type\",input_sequence.type)\n",
    "    input_sequence = input_sequence.float()\n",
    "    output = rnn(input_sequence)\n",
    "    # print(output)\n",
    "    # print(category_tensor)\n",
    "    loss = criterion(output, category_tensor)\n",
    "    loss.backward()\n",
    "    optimizer.step() \n",
    "    #scheduler.step()\n",
    "    \n",
    "    #如果tensor只有一个元素,那么可以用.item()的方法取出这个元素作为普通的python数字.\n",
    "    current_loss += loss.item()\n",
    "    \n",
    "    category = LABELS[int(category_tensor[0])]\n",
    "\n",
    "    # Print iter number, loss, name and guess\n",
    "    if iter % print_every == 0:\n",
    "        guess, guess_i = categoryFromOutput(output)\n",
    "        correct = '✓' if guess == category else '✗ (%s)' % category\n",
    "        print('%d %d%% (%s) %.4f  / %s %s' % (iter, iter / n_iters * 100, timeSince(start), loss, guess, correct))\n",
    "        \n",
    "    # Add current loss avg to list of losses\n",
    "    if iter % plot_every == 0:\n",
    "        all_losses.append(current_loss / plot_every)\n",
    "        current_loss = 0"
   ]
  },
  {
   "cell_type": "code",
   "execution_count": 582,
   "metadata": {},
   "outputs": [],
   "source": [
    "torch.save(rnn.state_dict(),'C:/Users/zheng/myjupyternotebookscripts/myjupyterscript/Kurs_CACM/final_camera_lstm_6_bn.pth')"
   ]
  },
  {
   "cell_type": "markdown",
   "metadata": {},
   "source": [
    "### Testing"
   ]
  },
  {
   "cell_type": "code",
   "execution_count": 583,
   "metadata": {},
   "outputs": [],
   "source": [
    "def test(flag):\n",
    "    if flag == 'train':\n",
    "        n = n_data_size_train\n",
    "    elif flag == 'test':\n",
    "        n = n_data_size_test   \n",
    "        \n",
    "    with torch.no_grad():\n",
    "        right = 0\n",
    "        for i in range(n):\n",
    "            category_tensor, inputs = randomTrainingExampleBatch(1,flag,i)\n",
    "            category = LABELS[int(category_tensor[0])]\n",
    "            inputs = inputs.to(device)\n",
    "            inputs = inputs.float()\n",
    "            output = rnn(inputs)\n",
    "            guess, guess_i = categoryFromOutput(output)\n",
    "            category_i = LABELS.index(category)\n",
    "            if category_i == guess_i:\n",
    "                right+=1\n",
    "    print('CAMERA',flag,'accuracy',right/n)\n",
    "    return right/n"
   ]
  },
  {
   "cell_type": "code",
   "execution_count": 584,
   "metadata": {},
   "outputs": [
    {
     "name": "stdout",
     "output_type": "stream",
     "text": [
      "test accuracy 0.9148446490218642\n"
     ]
    },
    {
     "data": {
      "text/plain": [
       "0.9148446490218642"
      ]
     },
     "execution_count": 584,
     "metadata": {},
     "output_type": "execute_result"
    }
   ],
   "source": [
    "test('test')"
   ]
  },
  {
   "cell_type": "code",
   "execution_count": 585,
   "metadata": {},
   "outputs": [
    {
     "name": "stdout",
     "output_type": "stream",
     "text": [
      "train accuracy 0.9283246977547496\n"
     ]
    },
    {
     "data": {
      "text/plain": [
       "0.9283246977547496"
      ]
     },
     "execution_count": 585,
     "metadata": {},
     "output_type": "execute_result"
    }
   ],
   "source": [
    "test('train')"
   ]
  },
  {
   "cell_type": "code",
   "execution_count": 586,
   "metadata": {},
   "outputs": [
    {
     "name": "stderr",
     "output_type": "stream",
     "text": [
      "C:\\Users\\zheng\\anaconda3\\envs\\tensorflow\\lib\\site-packages\\ipykernel_launcher.py:27: UserWarning: FixedFormatter should only be used together with FixedLocator\n",
      "C:\\Users\\zheng\\anaconda3\\envs\\tensorflow\\lib\\site-packages\\ipykernel_launcher.py:28: UserWarning: FixedFormatter should only be used together with FixedLocator\n"
     ]
    },
    {
     "data": {
      "image/png": "[encoded data removed]",
      "text/plain": [
       "<Figure size 432x288 with 2 Axes>"
      ]
     },
     "metadata": {
      "needs_background": "light"
     },
     "output_type": "display_data"
    }
   ],
   "source": [
    "# Keep track of correct guesses in a confusion matrix\n",
    "confusion = torch.zeros(n_categories, n_categories)\n",
    "n_confusion = n_data_size_test\n",
    "\n",
    "# Go through a bunch of examples and record which are correctly guessed\n",
    "for i in range(n_confusion):\n",
    "    category_tensor, inputs = randomTrainingExampleBatch(1,'test',i)\n",
    "    category = LABELS[int(category_tensor[0])]\n",
    "    inputs = inputs.to(device)\n",
    "    inputs = inputs.float()\n",
    "    output = rnn(inputs)\n",
    "    guess, guess_i = categoryFromOutput(output)\n",
    "    category_i = LABELS.index(category)\n",
    "    confusion[category_i][guess_i] += 1\n",
    "     \n",
    "# Normalize by dividing every row by its sum\n",
    "for i in range(n_categories):\n",
    "    confusion[i] = confusion[i] / confusion[i].sum()\n",
    "\n",
    "# Set up plot\n",
    "fig = plt.figure()\n",
    "ax = fig.add_subplot(111)\n",
    "cax = ax.matshow(confusion.numpy())\n",
    "fig.colorbar(cax)\n",
    "\n",
    "# Set up axes\n",
    "ax.set_xticklabels([''] + LABELS, rotation=90)\n",
    "ax.set_yticklabels([''] + LABELS)\n",
    "\n",
    "# Force label at every tick\n",
    "ax.xaxis.set_major_locator(ticker.MultipleLocator(1))\n",
    "ax.yaxis.set_major_locator(ticker.MultipleLocator(1))\n",
    "\n",
    "# sphinx_gallery_thumbnail_number = 2\n",
    "plt.show()"
   ]
  },
  {
   "cell_type": "code",
   "execution_count": null,
   "metadata": {},
   "outputs": [],
   "source": []
  }
 ],
 "metadata": {
  "accelerator": "GPU",
  "colab": {
   "authorship_tag": "ABX9TyPq4HkSOiFxsy/eZcsDIkeU",
   "machine_shape": "hm",
   "name": "BerkeleyIMU.ipynb",
   "provenance": []
  },
  "gpuClass": "standard",
  "kernelspec": {
   "display_name": "Python 3 (ipykernel)",
   "language": "python",
   "name": "python3"
  },
  "language_info": {
   "codemirror_mode": {
    "name": "ipython",
    "version": 3
   },
   "file_extension": ".py",
   "mimetype": "text/x-python",
   "name": "python",
   "nbconvert_exporter": "python",
   "pygments_lexer": "ipython3",
   "version": "3.7.11"
  }
 },
 "nbformat": 4,
 "nbformat_minor": 1
}
